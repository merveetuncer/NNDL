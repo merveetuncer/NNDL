{
  "nbformat": 4,
  "nbformat_minor": 0,
  "metadata": {
    "colab": {
      "name": "Tuncer_Merve__Classification_Homework1.ipynb",
      "provenance": [],
      "collapsed_sections": []
    },
    "kernelspec": {
      "name": "python3",
      "display_name": "Python 3"
    },
    "language_info": {
      "name": "python"
    },
    "accelerator": "GPU",
    "widgets": {
      "application/vnd.jupyter.widget-state+json": {
        "dc0564ac036e429fb49527830a5d7a3f": {
          "model_module": "@jupyter-widgets/controls",
          "model_name": "HBoxModel",
          "model_module_version": "1.5.0",
          "state": {
            "_view_name": "HBoxView",
            "_dom_classes": [],
            "_model_name": "HBoxModel",
            "_view_module": "@jupyter-widgets/controls",
            "_model_module_version": "1.5.0",
            "_view_count": null,
            "_view_module_version": "1.5.0",
            "box_style": "",
            "layout": "IPY_MODEL_39f50c162f734bcb8137349506b2d44f",
            "_model_module": "@jupyter-widgets/controls",
            "children": [
              "IPY_MODEL_73aa5e86161948afb3f379a37622e6aa",
              "IPY_MODEL_d2f5e35d3131477b8473360c77a844b3",
              "IPY_MODEL_c8b4d2c3606840c7b930161d8e06c0be"
            ]
          }
        },
        "39f50c162f734bcb8137349506b2d44f": {
          "model_module": "@jupyter-widgets/base",
          "model_name": "LayoutModel",
          "model_module_version": "1.2.0",
          "state": {
            "_view_name": "LayoutView",
            "grid_template_rows": null,
            "right": null,
            "justify_content": null,
            "_view_module": "@jupyter-widgets/base",
            "overflow": null,
            "_model_module_version": "1.2.0",
            "_view_count": null,
            "flex_flow": null,
            "width": null,
            "min_width": null,
            "border": null,
            "align_items": null,
            "bottom": null,
            "_model_module": "@jupyter-widgets/base",
            "top": null,
            "grid_column": null,
            "overflow_y": null,
            "overflow_x": null,
            "grid_auto_flow": null,
            "grid_area": null,
            "grid_template_columns": null,
            "flex": null,
            "_model_name": "LayoutModel",
            "justify_items": null,
            "grid_row": null,
            "max_height": null,
            "align_content": null,
            "visibility": null,
            "align_self": null,
            "height": null,
            "min_height": null,
            "padding": null,
            "grid_auto_rows": null,
            "grid_gap": null,
            "max_width": null,
            "order": null,
            "_view_module_version": "1.2.0",
            "grid_template_areas": null,
            "object_position": null,
            "object_fit": null,
            "grid_auto_columns": null,
            "margin": null,
            "display": null,
            "left": null
          }
        },
        "73aa5e86161948afb3f379a37622e6aa": {
          "model_module": "@jupyter-widgets/controls",
          "model_name": "HTMLModel",
          "model_module_version": "1.5.0",
          "state": {
            "_view_name": "HTMLView",
            "style": "IPY_MODEL_441556d277904b7eb6a6a81b2fc1a52f",
            "_dom_classes": [],
            "description": "",
            "_model_name": "HTMLModel",
            "placeholder": "​",
            "_view_module": "@jupyter-widgets/controls",
            "_model_module_version": "1.5.0",
            "value": "",
            "_view_count": null,
            "_view_module_version": "1.5.0",
            "description_tooltip": null,
            "_model_module": "@jupyter-widgets/controls",
            "layout": "IPY_MODEL_07e1d9a1614b4bd6b0f00940ad0cb9ce"
          }
        },
        "d2f5e35d3131477b8473360c77a844b3": {
          "model_module": "@jupyter-widgets/controls",
          "model_name": "FloatProgressModel",
          "model_module_version": "1.5.0",
          "state": {
            "_view_name": "ProgressView",
            "style": "IPY_MODEL_4cdf4aaea18740fdbb9bc666cbffb41b",
            "_dom_classes": [],
            "description": "",
            "_model_name": "FloatProgressModel",
            "bar_style": "success",
            "max": 26421880,
            "_view_module": "@jupyter-widgets/controls",
            "_model_module_version": "1.5.0",
            "value": 26421880,
            "_view_count": null,
            "_view_module_version": "1.5.0",
            "orientation": "horizontal",
            "min": 0,
            "description_tooltip": null,
            "_model_module": "@jupyter-widgets/controls",
            "layout": "IPY_MODEL_df75afabb7fb41c28e9e394ac9c547ff"
          }
        },
        "c8b4d2c3606840c7b930161d8e06c0be": {
          "model_module": "@jupyter-widgets/controls",
          "model_name": "HTMLModel",
          "model_module_version": "1.5.0",
          "state": {
            "_view_name": "HTMLView",
            "style": "IPY_MODEL_5e09a62a79ec4482bd62e8bfb022215c",
            "_dom_classes": [],
            "description": "",
            "_model_name": "HTMLModel",
            "placeholder": "​",
            "_view_module": "@jupyter-widgets/controls",
            "_model_module_version": "1.5.0",
            "value": " 26422272/? [00:00&lt;00:00, 75690629.88it/s]",
            "_view_count": null,
            "_view_module_version": "1.5.0",
            "description_tooltip": null,
            "_model_module": "@jupyter-widgets/controls",
            "layout": "IPY_MODEL_b37c4e2ca98349ebb298c7bc130bf4fa"
          }
        },
        "441556d277904b7eb6a6a81b2fc1a52f": {
          "model_module": "@jupyter-widgets/controls",
          "model_name": "DescriptionStyleModel",
          "model_module_version": "1.5.0",
          "state": {
            "_view_name": "StyleView",
            "_model_name": "DescriptionStyleModel",
            "description_width": "",
            "_view_module": "@jupyter-widgets/base",
            "_model_module_version": "1.5.0",
            "_view_count": null,
            "_view_module_version": "1.2.0",
            "_model_module": "@jupyter-widgets/controls"
          }
        },
        "07e1d9a1614b4bd6b0f00940ad0cb9ce": {
          "model_module": "@jupyter-widgets/base",
          "model_name": "LayoutModel",
          "model_module_version": "1.2.0",
          "state": {
            "_view_name": "LayoutView",
            "grid_template_rows": null,
            "right": null,
            "justify_content": null,
            "_view_module": "@jupyter-widgets/base",
            "overflow": null,
            "_model_module_version": "1.2.0",
            "_view_count": null,
            "flex_flow": null,
            "width": null,
            "min_width": null,
            "border": null,
            "align_items": null,
            "bottom": null,
            "_model_module": "@jupyter-widgets/base",
            "top": null,
            "grid_column": null,
            "overflow_y": null,
            "overflow_x": null,
            "grid_auto_flow": null,
            "grid_area": null,
            "grid_template_columns": null,
            "flex": null,
            "_model_name": "LayoutModel",
            "justify_items": null,
            "grid_row": null,
            "max_height": null,
            "align_content": null,
            "visibility": null,
            "align_self": null,
            "height": null,
            "min_height": null,
            "padding": null,
            "grid_auto_rows": null,
            "grid_gap": null,
            "max_width": null,
            "order": null,
            "_view_module_version": "1.2.0",
            "grid_template_areas": null,
            "object_position": null,
            "object_fit": null,
            "grid_auto_columns": null,
            "margin": null,
            "display": null,
            "left": null
          }
        },
        "4cdf4aaea18740fdbb9bc666cbffb41b": {
          "model_module": "@jupyter-widgets/controls",
          "model_name": "ProgressStyleModel",
          "model_module_version": "1.5.0",
          "state": {
            "_view_name": "StyleView",
            "_model_name": "ProgressStyleModel",
            "description_width": "",
            "_view_module": "@jupyter-widgets/base",
            "_model_module_version": "1.5.0",
            "_view_count": null,
            "_view_module_version": "1.2.0",
            "bar_color": null,
            "_model_module": "@jupyter-widgets/controls"
          }
        },
        "df75afabb7fb41c28e9e394ac9c547ff": {
          "model_module": "@jupyter-widgets/base",
          "model_name": "LayoutModel",
          "model_module_version": "1.2.0",
          "state": {
            "_view_name": "LayoutView",
            "grid_template_rows": null,
            "right": null,
            "justify_content": null,
            "_view_module": "@jupyter-widgets/base",
            "overflow": null,
            "_model_module_version": "1.2.0",
            "_view_count": null,
            "flex_flow": null,
            "width": null,
            "min_width": null,
            "border": null,
            "align_items": null,
            "bottom": null,
            "_model_module": "@jupyter-widgets/base",
            "top": null,
            "grid_column": null,
            "overflow_y": null,
            "overflow_x": null,
            "grid_auto_flow": null,
            "grid_area": null,
            "grid_template_columns": null,
            "flex": null,
            "_model_name": "LayoutModel",
            "justify_items": null,
            "grid_row": null,
            "max_height": null,
            "align_content": null,
            "visibility": null,
            "align_self": null,
            "height": null,
            "min_height": null,
            "padding": null,
            "grid_auto_rows": null,
            "grid_gap": null,
            "max_width": null,
            "order": null,
            "_view_module_version": "1.2.0",
            "grid_template_areas": null,
            "object_position": null,
            "object_fit": null,
            "grid_auto_columns": null,
            "margin": null,
            "display": null,
            "left": null
          }
        },
        "5e09a62a79ec4482bd62e8bfb022215c": {
          "model_module": "@jupyter-widgets/controls",
          "model_name": "DescriptionStyleModel",
          "model_module_version": "1.5.0",
          "state": {
            "_view_name": "StyleView",
            "_model_name": "DescriptionStyleModel",
            "description_width": "",
            "_view_module": "@jupyter-widgets/base",
            "_model_module_version": "1.5.0",
            "_view_count": null,
            "_view_module_version": "1.2.0",
            "_model_module": "@jupyter-widgets/controls"
          }
        },
        "b37c4e2ca98349ebb298c7bc130bf4fa": {
          "model_module": "@jupyter-widgets/base",
          "model_name": "LayoutModel",
          "model_module_version": "1.2.0",
          "state": {
            "_view_name": "LayoutView",
            "grid_template_rows": null,
            "right": null,
            "justify_content": null,
            "_view_module": "@jupyter-widgets/base",
            "overflow": null,
            "_model_module_version": "1.2.0",
            "_view_count": null,
            "flex_flow": null,
            "width": null,
            "min_width": null,
            "border": null,
            "align_items": null,
            "bottom": null,
            "_model_module": "@jupyter-widgets/base",
            "top": null,
            "grid_column": null,
            "overflow_y": null,
            "overflow_x": null,
            "grid_auto_flow": null,
            "grid_area": null,
            "grid_template_columns": null,
            "flex": null,
            "_model_name": "LayoutModel",
            "justify_items": null,
            "grid_row": null,
            "max_height": null,
            "align_content": null,
            "visibility": null,
            "align_self": null,
            "height": null,
            "min_height": null,
            "padding": null,
            "grid_auto_rows": null,
            "grid_gap": null,
            "max_width": null,
            "order": null,
            "_view_module_version": "1.2.0",
            "grid_template_areas": null,
            "object_position": null,
            "object_fit": null,
            "grid_auto_columns": null,
            "margin": null,
            "display": null,
            "left": null
          }
        },
        "fb8c45758d224d07b3f70e4030d9b37a": {
          "model_module": "@jupyter-widgets/controls",
          "model_name": "HBoxModel",
          "model_module_version": "1.5.0",
          "state": {
            "_view_name": "HBoxView",
            "_dom_classes": [],
            "_model_name": "HBoxModel",
            "_view_module": "@jupyter-widgets/controls",
            "_model_module_version": "1.5.0",
            "_view_count": null,
            "_view_module_version": "1.5.0",
            "box_style": "",
            "layout": "IPY_MODEL_66fe3a780e8349e8ba62bf3d9703d6b4",
            "_model_module": "@jupyter-widgets/controls",
            "children": [
              "IPY_MODEL_7028dc365a734428b345e29376003efe",
              "IPY_MODEL_a13d3d0db3854bf99739cdc404020f2e",
              "IPY_MODEL_c0349a932d55488cb43275cb5294fa82"
            ]
          }
        },
        "66fe3a780e8349e8ba62bf3d9703d6b4": {
          "model_module": "@jupyter-widgets/base",
          "model_name": "LayoutModel",
          "model_module_version": "1.2.0",
          "state": {
            "_view_name": "LayoutView",
            "grid_template_rows": null,
            "right": null,
            "justify_content": null,
            "_view_module": "@jupyter-widgets/base",
            "overflow": null,
            "_model_module_version": "1.2.0",
            "_view_count": null,
            "flex_flow": null,
            "width": null,
            "min_width": null,
            "border": null,
            "align_items": null,
            "bottom": null,
            "_model_module": "@jupyter-widgets/base",
            "top": null,
            "grid_column": null,
            "overflow_y": null,
            "overflow_x": null,
            "grid_auto_flow": null,
            "grid_area": null,
            "grid_template_columns": null,
            "flex": null,
            "_model_name": "LayoutModel",
            "justify_items": null,
            "grid_row": null,
            "max_height": null,
            "align_content": null,
            "visibility": null,
            "align_self": null,
            "height": null,
            "min_height": null,
            "padding": null,
            "grid_auto_rows": null,
            "grid_gap": null,
            "max_width": null,
            "order": null,
            "_view_module_version": "1.2.0",
            "grid_template_areas": null,
            "object_position": null,
            "object_fit": null,
            "grid_auto_columns": null,
            "margin": null,
            "display": null,
            "left": null
          }
        },
        "7028dc365a734428b345e29376003efe": {
          "model_module": "@jupyter-widgets/controls",
          "model_name": "HTMLModel",
          "model_module_version": "1.5.0",
          "state": {
            "_view_name": "HTMLView",
            "style": "IPY_MODEL_4284970c4b74421597b639e50e3c8163",
            "_dom_classes": [],
            "description": "",
            "_model_name": "HTMLModel",
            "placeholder": "​",
            "_view_module": "@jupyter-widgets/controls",
            "_model_module_version": "1.5.0",
            "value": "",
            "_view_count": null,
            "_view_module_version": "1.5.0",
            "description_tooltip": null,
            "_model_module": "@jupyter-widgets/controls",
            "layout": "IPY_MODEL_f4375a3b1ce34e1aaa8dfd19b87a0ae7"
          }
        },
        "a13d3d0db3854bf99739cdc404020f2e": {
          "model_module": "@jupyter-widgets/controls",
          "model_name": "FloatProgressModel",
          "model_module_version": "1.5.0",
          "state": {
            "_view_name": "ProgressView",
            "style": "IPY_MODEL_641a79475b3c4d18bcb1f43dde6238a1",
            "_dom_classes": [],
            "description": "",
            "_model_name": "FloatProgressModel",
            "bar_style": "success",
            "max": 29515,
            "_view_module": "@jupyter-widgets/controls",
            "_model_module_version": "1.5.0",
            "value": 29515,
            "_view_count": null,
            "_view_module_version": "1.5.0",
            "orientation": "horizontal",
            "min": 0,
            "description_tooltip": null,
            "_model_module": "@jupyter-widgets/controls",
            "layout": "IPY_MODEL_412d317a78f94a22be8568fb15599430"
          }
        },
        "c0349a932d55488cb43275cb5294fa82": {
          "model_module": "@jupyter-widgets/controls",
          "model_name": "HTMLModel",
          "model_module_version": "1.5.0",
          "state": {
            "_view_name": "HTMLView",
            "style": "IPY_MODEL_f59d116373cc40ad840ce35f1e4a02e1",
            "_dom_classes": [],
            "description": "",
            "_model_name": "HTMLModel",
            "placeholder": "​",
            "_view_module": "@jupyter-widgets/controls",
            "_model_module_version": "1.5.0",
            "value": " 29696/? [00:00&lt;00:00, 816533.71it/s]",
            "_view_count": null,
            "_view_module_version": "1.5.0",
            "description_tooltip": null,
            "_model_module": "@jupyter-widgets/controls",
            "layout": "IPY_MODEL_6a33982bda0049efbf706adea6c677d6"
          }
        },
        "4284970c4b74421597b639e50e3c8163": {
          "model_module": "@jupyter-widgets/controls",
          "model_name": "DescriptionStyleModel",
          "model_module_version": "1.5.0",
          "state": {
            "_view_name": "StyleView",
            "_model_name": "DescriptionStyleModel",
            "description_width": "",
            "_view_module": "@jupyter-widgets/base",
            "_model_module_version": "1.5.0",
            "_view_count": null,
            "_view_module_version": "1.2.0",
            "_model_module": "@jupyter-widgets/controls"
          }
        },
        "f4375a3b1ce34e1aaa8dfd19b87a0ae7": {
          "model_module": "@jupyter-widgets/base",
          "model_name": "LayoutModel",
          "model_module_version": "1.2.0",
          "state": {
            "_view_name": "LayoutView",
            "grid_template_rows": null,
            "right": null,
            "justify_content": null,
            "_view_module": "@jupyter-widgets/base",
            "overflow": null,
            "_model_module_version": "1.2.0",
            "_view_count": null,
            "flex_flow": null,
            "width": null,
            "min_width": null,
            "border": null,
            "align_items": null,
            "bottom": null,
            "_model_module": "@jupyter-widgets/base",
            "top": null,
            "grid_column": null,
            "overflow_y": null,
            "overflow_x": null,
            "grid_auto_flow": null,
            "grid_area": null,
            "grid_template_columns": null,
            "flex": null,
            "_model_name": "LayoutModel",
            "justify_items": null,
            "grid_row": null,
            "max_height": null,
            "align_content": null,
            "visibility": null,
            "align_self": null,
            "height": null,
            "min_height": null,
            "padding": null,
            "grid_auto_rows": null,
            "grid_gap": null,
            "max_width": null,
            "order": null,
            "_view_module_version": "1.2.0",
            "grid_template_areas": null,
            "object_position": null,
            "object_fit": null,
            "grid_auto_columns": null,
            "margin": null,
            "display": null,
            "left": null
          }
        },
        "641a79475b3c4d18bcb1f43dde6238a1": {
          "model_module": "@jupyter-widgets/controls",
          "model_name": "ProgressStyleModel",
          "model_module_version": "1.5.0",
          "state": {
            "_view_name": "StyleView",
            "_model_name": "ProgressStyleModel",
            "description_width": "",
            "_view_module": "@jupyter-widgets/base",
            "_model_module_version": "1.5.0",
            "_view_count": null,
            "_view_module_version": "1.2.0",
            "bar_color": null,
            "_model_module": "@jupyter-widgets/controls"
          }
        },
        "412d317a78f94a22be8568fb15599430": {
          "model_module": "@jupyter-widgets/base",
          "model_name": "LayoutModel",
          "model_module_version": "1.2.0",
          "state": {
            "_view_name": "LayoutView",
            "grid_template_rows": null,
            "right": null,
            "justify_content": null,
            "_view_module": "@jupyter-widgets/base",
            "overflow": null,
            "_model_module_version": "1.2.0",
            "_view_count": null,
            "flex_flow": null,
            "width": null,
            "min_width": null,
            "border": null,
            "align_items": null,
            "bottom": null,
            "_model_module": "@jupyter-widgets/base",
            "top": null,
            "grid_column": null,
            "overflow_y": null,
            "overflow_x": null,
            "grid_auto_flow": null,
            "grid_area": null,
            "grid_template_columns": null,
            "flex": null,
            "_model_name": "LayoutModel",
            "justify_items": null,
            "grid_row": null,
            "max_height": null,
            "align_content": null,
            "visibility": null,
            "align_self": null,
            "height": null,
            "min_height": null,
            "padding": null,
            "grid_auto_rows": null,
            "grid_gap": null,
            "max_width": null,
            "order": null,
            "_view_module_version": "1.2.0",
            "grid_template_areas": null,
            "object_position": null,
            "object_fit": null,
            "grid_auto_columns": null,
            "margin": null,
            "display": null,
            "left": null
          }
        },
        "f59d116373cc40ad840ce35f1e4a02e1": {
          "model_module": "@jupyter-widgets/controls",
          "model_name": "DescriptionStyleModel",
          "model_module_version": "1.5.0",
          "state": {
            "_view_name": "StyleView",
            "_model_name": "DescriptionStyleModel",
            "description_width": "",
            "_view_module": "@jupyter-widgets/base",
            "_model_module_version": "1.5.0",
            "_view_count": null,
            "_view_module_version": "1.2.0",
            "_model_module": "@jupyter-widgets/controls"
          }
        },
        "6a33982bda0049efbf706adea6c677d6": {
          "model_module": "@jupyter-widgets/base",
          "model_name": "LayoutModel",
          "model_module_version": "1.2.0",
          "state": {
            "_view_name": "LayoutView",
            "grid_template_rows": null,
            "right": null,
            "justify_content": null,
            "_view_module": "@jupyter-widgets/base",
            "overflow": null,
            "_model_module_version": "1.2.0",
            "_view_count": null,
            "flex_flow": null,
            "width": null,
            "min_width": null,
            "border": null,
            "align_items": null,
            "bottom": null,
            "_model_module": "@jupyter-widgets/base",
            "top": null,
            "grid_column": null,
            "overflow_y": null,
            "overflow_x": null,
            "grid_auto_flow": null,
            "grid_area": null,
            "grid_template_columns": null,
            "flex": null,
            "_model_name": "LayoutModel",
            "justify_items": null,
            "grid_row": null,
            "max_height": null,
            "align_content": null,
            "visibility": null,
            "align_self": null,
            "height": null,
            "min_height": null,
            "padding": null,
            "grid_auto_rows": null,
            "grid_gap": null,
            "max_width": null,
            "order": null,
            "_view_module_version": "1.2.0",
            "grid_template_areas": null,
            "object_position": null,
            "object_fit": null,
            "grid_auto_columns": null,
            "margin": null,
            "display": null,
            "left": null
          }
        },
        "f0c5b64b211440e191ce34797c39ddc5": {
          "model_module": "@jupyter-widgets/controls",
          "model_name": "HBoxModel",
          "model_module_version": "1.5.0",
          "state": {
            "_view_name": "HBoxView",
            "_dom_classes": [],
            "_model_name": "HBoxModel",
            "_view_module": "@jupyter-widgets/controls",
            "_model_module_version": "1.5.0",
            "_view_count": null,
            "_view_module_version": "1.5.0",
            "box_style": "",
            "layout": "IPY_MODEL_70ce4cee7de241dc8134bd258a5bd2c9",
            "_model_module": "@jupyter-widgets/controls",
            "children": [
              "IPY_MODEL_daab24d16b7b48e9a10af6ad702667b0",
              "IPY_MODEL_d5b50c1c88da45e3933f74ff8c7ca8bf",
              "IPY_MODEL_f263285b117047e3985a7be187000b7c"
            ]
          }
        },
        "70ce4cee7de241dc8134bd258a5bd2c9": {
          "model_module": "@jupyter-widgets/base",
          "model_name": "LayoutModel",
          "model_module_version": "1.2.0",
          "state": {
            "_view_name": "LayoutView",
            "grid_template_rows": null,
            "right": null,
            "justify_content": null,
            "_view_module": "@jupyter-widgets/base",
            "overflow": null,
            "_model_module_version": "1.2.0",
            "_view_count": null,
            "flex_flow": null,
            "width": null,
            "min_width": null,
            "border": null,
            "align_items": null,
            "bottom": null,
            "_model_module": "@jupyter-widgets/base",
            "top": null,
            "grid_column": null,
            "overflow_y": null,
            "overflow_x": null,
            "grid_auto_flow": null,
            "grid_area": null,
            "grid_template_columns": null,
            "flex": null,
            "_model_name": "LayoutModel",
            "justify_items": null,
            "grid_row": null,
            "max_height": null,
            "align_content": null,
            "visibility": null,
            "align_self": null,
            "height": null,
            "min_height": null,
            "padding": null,
            "grid_auto_rows": null,
            "grid_gap": null,
            "max_width": null,
            "order": null,
            "_view_module_version": "1.2.0",
            "grid_template_areas": null,
            "object_position": null,
            "object_fit": null,
            "grid_auto_columns": null,
            "margin": null,
            "display": null,
            "left": null
          }
        },
        "daab24d16b7b48e9a10af6ad702667b0": {
          "model_module": "@jupyter-widgets/controls",
          "model_name": "HTMLModel",
          "model_module_version": "1.5.0",
          "state": {
            "_view_name": "HTMLView",
            "style": "IPY_MODEL_d4b1c4854bb441459988917f74b399ce",
            "_dom_classes": [],
            "description": "",
            "_model_name": "HTMLModel",
            "placeholder": "​",
            "_view_module": "@jupyter-widgets/controls",
            "_model_module_version": "1.5.0",
            "value": "",
            "_view_count": null,
            "_view_module_version": "1.5.0",
            "description_tooltip": null,
            "_model_module": "@jupyter-widgets/controls",
            "layout": "IPY_MODEL_26297737f438480aa61121929a16ed30"
          }
        },
        "d5b50c1c88da45e3933f74ff8c7ca8bf": {
          "model_module": "@jupyter-widgets/controls",
          "model_name": "FloatProgressModel",
          "model_module_version": "1.5.0",
          "state": {
            "_view_name": "ProgressView",
            "style": "IPY_MODEL_d4e886d8836347229f7157eaf6e69c56",
            "_dom_classes": [],
            "description": "",
            "_model_name": "FloatProgressModel",
            "bar_style": "success",
            "max": 4422102,
            "_view_module": "@jupyter-widgets/controls",
            "_model_module_version": "1.5.0",
            "value": 4422102,
            "_view_count": null,
            "_view_module_version": "1.5.0",
            "orientation": "horizontal",
            "min": 0,
            "description_tooltip": null,
            "_model_module": "@jupyter-widgets/controls",
            "layout": "IPY_MODEL_21b154e837014ca48040720a81e88a0f"
          }
        },
        "f263285b117047e3985a7be187000b7c": {
          "model_module": "@jupyter-widgets/controls",
          "model_name": "HTMLModel",
          "model_module_version": "1.5.0",
          "state": {
            "_view_name": "HTMLView",
            "style": "IPY_MODEL_090ac80759314837a12cb7a5e49ced2c",
            "_dom_classes": [],
            "description": "",
            "_model_name": "HTMLModel",
            "placeholder": "​",
            "_view_module": "@jupyter-widgets/controls",
            "_model_module_version": "1.5.0",
            "value": " 4422656/? [00:00&lt;00:00, 12142364.56it/s]",
            "_view_count": null,
            "_view_module_version": "1.5.0",
            "description_tooltip": null,
            "_model_module": "@jupyter-widgets/controls",
            "layout": "IPY_MODEL_75c8f3474eb24d14aab62f40d0388c33"
          }
        },
        "d4b1c4854bb441459988917f74b399ce": {
          "model_module": "@jupyter-widgets/controls",
          "model_name": "DescriptionStyleModel",
          "model_module_version": "1.5.0",
          "state": {
            "_view_name": "StyleView",
            "_model_name": "DescriptionStyleModel",
            "description_width": "",
            "_view_module": "@jupyter-widgets/base",
            "_model_module_version": "1.5.0",
            "_view_count": null,
            "_view_module_version": "1.2.0",
            "_model_module": "@jupyter-widgets/controls"
          }
        },
        "26297737f438480aa61121929a16ed30": {
          "model_module": "@jupyter-widgets/base",
          "model_name": "LayoutModel",
          "model_module_version": "1.2.0",
          "state": {
            "_view_name": "LayoutView",
            "grid_template_rows": null,
            "right": null,
            "justify_content": null,
            "_view_module": "@jupyter-widgets/base",
            "overflow": null,
            "_model_module_version": "1.2.0",
            "_view_count": null,
            "flex_flow": null,
            "width": null,
            "min_width": null,
            "border": null,
            "align_items": null,
            "bottom": null,
            "_model_module": "@jupyter-widgets/base",
            "top": null,
            "grid_column": null,
            "overflow_y": null,
            "overflow_x": null,
            "grid_auto_flow": null,
            "grid_area": null,
            "grid_template_columns": null,
            "flex": null,
            "_model_name": "LayoutModel",
            "justify_items": null,
            "grid_row": null,
            "max_height": null,
            "align_content": null,
            "visibility": null,
            "align_self": null,
            "height": null,
            "min_height": null,
            "padding": null,
            "grid_auto_rows": null,
            "grid_gap": null,
            "max_width": null,
            "order": null,
            "_view_module_version": "1.2.0",
            "grid_template_areas": null,
            "object_position": null,
            "object_fit": null,
            "grid_auto_columns": null,
            "margin": null,
            "display": null,
            "left": null
          }
        },
        "d4e886d8836347229f7157eaf6e69c56": {
          "model_module": "@jupyter-widgets/controls",
          "model_name": "ProgressStyleModel",
          "model_module_version": "1.5.0",
          "state": {
            "_view_name": "StyleView",
            "_model_name": "ProgressStyleModel",
            "description_width": "",
            "_view_module": "@jupyter-widgets/base",
            "_model_module_version": "1.5.0",
            "_view_count": null,
            "_view_module_version": "1.2.0",
            "bar_color": null,
            "_model_module": "@jupyter-widgets/controls"
          }
        },
        "21b154e837014ca48040720a81e88a0f": {
          "model_module": "@jupyter-widgets/base",
          "model_name": "LayoutModel",
          "model_module_version": "1.2.0",
          "state": {
            "_view_name": "LayoutView",
            "grid_template_rows": null,
            "right": null,
            "justify_content": null,
            "_view_module": "@jupyter-widgets/base",
            "overflow": null,
            "_model_module_version": "1.2.0",
            "_view_count": null,
            "flex_flow": null,
            "width": null,
            "min_width": null,
            "border": null,
            "align_items": null,
            "bottom": null,
            "_model_module": "@jupyter-widgets/base",
            "top": null,
            "grid_column": null,
            "overflow_y": null,
            "overflow_x": null,
            "grid_auto_flow": null,
            "grid_area": null,
            "grid_template_columns": null,
            "flex": null,
            "_model_name": "LayoutModel",
            "justify_items": null,
            "grid_row": null,
            "max_height": null,
            "align_content": null,
            "visibility": null,
            "align_self": null,
            "height": null,
            "min_height": null,
            "padding": null,
            "grid_auto_rows": null,
            "grid_gap": null,
            "max_width": null,
            "order": null,
            "_view_module_version": "1.2.0",
            "grid_template_areas": null,
            "object_position": null,
            "object_fit": null,
            "grid_auto_columns": null,
            "margin": null,
            "display": null,
            "left": null
          }
        },
        "090ac80759314837a12cb7a5e49ced2c": {
          "model_module": "@jupyter-widgets/controls",
          "model_name": "DescriptionStyleModel",
          "model_module_version": "1.5.0",
          "state": {
            "_view_name": "StyleView",
            "_model_name": "DescriptionStyleModel",
            "description_width": "",
            "_view_module": "@jupyter-widgets/base",
            "_model_module_version": "1.5.0",
            "_view_count": null,
            "_view_module_version": "1.2.0",
            "_model_module": "@jupyter-widgets/controls"
          }
        },
        "75c8f3474eb24d14aab62f40d0388c33": {
          "model_module": "@jupyter-widgets/base",
          "model_name": "LayoutModel",
          "model_module_version": "1.2.0",
          "state": {
            "_view_name": "LayoutView",
            "grid_template_rows": null,
            "right": null,
            "justify_content": null,
            "_view_module": "@jupyter-widgets/base",
            "overflow": null,
            "_model_module_version": "1.2.0",
            "_view_count": null,
            "flex_flow": null,
            "width": null,
            "min_width": null,
            "border": null,
            "align_items": null,
            "bottom": null,
            "_model_module": "@jupyter-widgets/base",
            "top": null,
            "grid_column": null,
            "overflow_y": null,
            "overflow_x": null,
            "grid_auto_flow": null,
            "grid_area": null,
            "grid_template_columns": null,
            "flex": null,
            "_model_name": "LayoutModel",
            "justify_items": null,
            "grid_row": null,
            "max_height": null,
            "align_content": null,
            "visibility": null,
            "align_self": null,
            "height": null,
            "min_height": null,
            "padding": null,
            "grid_auto_rows": null,
            "grid_gap": null,
            "max_width": null,
            "order": null,
            "_view_module_version": "1.2.0",
            "grid_template_areas": null,
            "object_position": null,
            "object_fit": null,
            "grid_auto_columns": null,
            "margin": null,
            "display": null,
            "left": null
          }
        },
        "b5a95bd60b104da692f3f864ca5dac26": {
          "model_module": "@jupyter-widgets/controls",
          "model_name": "HBoxModel",
          "model_module_version": "1.5.0",
          "state": {
            "_view_name": "HBoxView",
            "_dom_classes": [],
            "_model_name": "HBoxModel",
            "_view_module": "@jupyter-widgets/controls",
            "_model_module_version": "1.5.0",
            "_view_count": null,
            "_view_module_version": "1.5.0",
            "box_style": "",
            "layout": "IPY_MODEL_d0e01cd194a14d3cbfc7219f9701c13d",
            "_model_module": "@jupyter-widgets/controls",
            "children": [
              "IPY_MODEL_a3d973a393174f9c8af30e92eccdc336",
              "IPY_MODEL_86f7d512101647ca9b68afdb580ec4d4",
              "IPY_MODEL_cc78693625f6476fafb6ea8f8b5b2cb2"
            ]
          }
        },
        "d0e01cd194a14d3cbfc7219f9701c13d": {
          "model_module": "@jupyter-widgets/base",
          "model_name": "LayoutModel",
          "model_module_version": "1.2.0",
          "state": {
            "_view_name": "LayoutView",
            "grid_template_rows": null,
            "right": null,
            "justify_content": null,
            "_view_module": "@jupyter-widgets/base",
            "overflow": null,
            "_model_module_version": "1.2.0",
            "_view_count": null,
            "flex_flow": null,
            "width": null,
            "min_width": null,
            "border": null,
            "align_items": null,
            "bottom": null,
            "_model_module": "@jupyter-widgets/base",
            "top": null,
            "grid_column": null,
            "overflow_y": null,
            "overflow_x": null,
            "grid_auto_flow": null,
            "grid_area": null,
            "grid_template_columns": null,
            "flex": null,
            "_model_name": "LayoutModel",
            "justify_items": null,
            "grid_row": null,
            "max_height": null,
            "align_content": null,
            "visibility": null,
            "align_self": null,
            "height": null,
            "min_height": null,
            "padding": null,
            "grid_auto_rows": null,
            "grid_gap": null,
            "max_width": null,
            "order": null,
            "_view_module_version": "1.2.0",
            "grid_template_areas": null,
            "object_position": null,
            "object_fit": null,
            "grid_auto_columns": null,
            "margin": null,
            "display": null,
            "left": null
          }
        },
        "a3d973a393174f9c8af30e92eccdc336": {
          "model_module": "@jupyter-widgets/controls",
          "model_name": "HTMLModel",
          "model_module_version": "1.5.0",
          "state": {
            "_view_name": "HTMLView",
            "style": "IPY_MODEL_ebdb862835b147b2a9d4293fed1f4394",
            "_dom_classes": [],
            "description": "",
            "_model_name": "HTMLModel",
            "placeholder": "​",
            "_view_module": "@jupyter-widgets/controls",
            "_model_module_version": "1.5.0",
            "value": "",
            "_view_count": null,
            "_view_module_version": "1.5.0",
            "description_tooltip": null,
            "_model_module": "@jupyter-widgets/controls",
            "layout": "IPY_MODEL_d395b847b7ea4ee0b6909b84b8e564db"
          }
        },
        "86f7d512101647ca9b68afdb580ec4d4": {
          "model_module": "@jupyter-widgets/controls",
          "model_name": "FloatProgressModel",
          "model_module_version": "1.5.0",
          "state": {
            "_view_name": "ProgressView",
            "style": "IPY_MODEL_ff37720973db44688fdafaabe9ac4810",
            "_dom_classes": [],
            "description": "",
            "_model_name": "FloatProgressModel",
            "bar_style": "success",
            "max": 5148,
            "_view_module": "@jupyter-widgets/controls",
            "_model_module_version": "1.5.0",
            "value": 5148,
            "_view_count": null,
            "_view_module_version": "1.5.0",
            "orientation": "horizontal",
            "min": 0,
            "description_tooltip": null,
            "_model_module": "@jupyter-widgets/controls",
            "layout": "IPY_MODEL_3c7c1f14980a417387b32ddacae2657f"
          }
        },
        "cc78693625f6476fafb6ea8f8b5b2cb2": {
          "model_module": "@jupyter-widgets/controls",
          "model_name": "HTMLModel",
          "model_module_version": "1.5.0",
          "state": {
            "_view_name": "HTMLView",
            "style": "IPY_MODEL_cace1475349d48afa9e4400cc1b06c8f",
            "_dom_classes": [],
            "description": "",
            "_model_name": "HTMLModel",
            "placeholder": "​",
            "_view_module": "@jupyter-widgets/controls",
            "_model_module_version": "1.5.0",
            "value": " 6144/? [00:00&lt;00:00, 132542.31it/s]",
            "_view_count": null,
            "_view_module_version": "1.5.0",
            "description_tooltip": null,
            "_model_module": "@jupyter-widgets/controls",
            "layout": "IPY_MODEL_19889217c86149b8ac1efb221f7f1f3d"
          }
        },
        "ebdb862835b147b2a9d4293fed1f4394": {
          "model_module": "@jupyter-widgets/controls",
          "model_name": "DescriptionStyleModel",
          "model_module_version": "1.5.0",
          "state": {
            "_view_name": "StyleView",
            "_model_name": "DescriptionStyleModel",
            "description_width": "",
            "_view_module": "@jupyter-widgets/base",
            "_model_module_version": "1.5.0",
            "_view_count": null,
            "_view_module_version": "1.2.0",
            "_model_module": "@jupyter-widgets/controls"
          }
        },
        "d395b847b7ea4ee0b6909b84b8e564db": {
          "model_module": "@jupyter-widgets/base",
          "model_name": "LayoutModel",
          "model_module_version": "1.2.0",
          "state": {
            "_view_name": "LayoutView",
            "grid_template_rows": null,
            "right": null,
            "justify_content": null,
            "_view_module": "@jupyter-widgets/base",
            "overflow": null,
            "_model_module_version": "1.2.0",
            "_view_count": null,
            "flex_flow": null,
            "width": null,
            "min_width": null,
            "border": null,
            "align_items": null,
            "bottom": null,
            "_model_module": "@jupyter-widgets/base",
            "top": null,
            "grid_column": null,
            "overflow_y": null,
            "overflow_x": null,
            "grid_auto_flow": null,
            "grid_area": null,
            "grid_template_columns": null,
            "flex": null,
            "_model_name": "LayoutModel",
            "justify_items": null,
            "grid_row": null,
            "max_height": null,
            "align_content": null,
            "visibility": null,
            "align_self": null,
            "height": null,
            "min_height": null,
            "padding": null,
            "grid_auto_rows": null,
            "grid_gap": null,
            "max_width": null,
            "order": null,
            "_view_module_version": "1.2.0",
            "grid_template_areas": null,
            "object_position": null,
            "object_fit": null,
            "grid_auto_columns": null,
            "margin": null,
            "display": null,
            "left": null
          }
        },
        "ff37720973db44688fdafaabe9ac4810": {
          "model_module": "@jupyter-widgets/controls",
          "model_name": "ProgressStyleModel",
          "model_module_version": "1.5.0",
          "state": {
            "_view_name": "StyleView",
            "_model_name": "ProgressStyleModel",
            "description_width": "",
            "_view_module": "@jupyter-widgets/base",
            "_model_module_version": "1.5.0",
            "_view_count": null,
            "_view_module_version": "1.2.0",
            "bar_color": null,
            "_model_module": "@jupyter-widgets/controls"
          }
        },
        "3c7c1f14980a417387b32ddacae2657f": {
          "model_module": "@jupyter-widgets/base",
          "model_name": "LayoutModel",
          "model_module_version": "1.2.0",
          "state": {
            "_view_name": "LayoutView",
            "grid_template_rows": null,
            "right": null,
            "justify_content": null,
            "_view_module": "@jupyter-widgets/base",
            "overflow": null,
            "_model_module_version": "1.2.0",
            "_view_count": null,
            "flex_flow": null,
            "width": null,
            "min_width": null,
            "border": null,
            "align_items": null,
            "bottom": null,
            "_model_module": "@jupyter-widgets/base",
            "top": null,
            "grid_column": null,
            "overflow_y": null,
            "overflow_x": null,
            "grid_auto_flow": null,
            "grid_area": null,
            "grid_template_columns": null,
            "flex": null,
            "_model_name": "LayoutModel",
            "justify_items": null,
            "grid_row": null,
            "max_height": null,
            "align_content": null,
            "visibility": null,
            "align_self": null,
            "height": null,
            "min_height": null,
            "padding": null,
            "grid_auto_rows": null,
            "grid_gap": null,
            "max_width": null,
            "order": null,
            "_view_module_version": "1.2.0",
            "grid_template_areas": null,
            "object_position": null,
            "object_fit": null,
            "grid_auto_columns": null,
            "margin": null,
            "display": null,
            "left": null
          }
        },
        "cace1475349d48afa9e4400cc1b06c8f": {
          "model_module": "@jupyter-widgets/controls",
          "model_name": "DescriptionStyleModel",
          "model_module_version": "1.5.0",
          "state": {
            "_view_name": "StyleView",
            "_model_name": "DescriptionStyleModel",
            "description_width": "",
            "_view_module": "@jupyter-widgets/base",
            "_model_module_version": "1.5.0",
            "_view_count": null,
            "_view_module_version": "1.2.0",
            "_model_module": "@jupyter-widgets/controls"
          }
        },
        "19889217c86149b8ac1efb221f7f1f3d": {
          "model_module": "@jupyter-widgets/base",
          "model_name": "LayoutModel",
          "model_module_version": "1.2.0",
          "state": {
            "_view_name": "LayoutView",
            "grid_template_rows": null,
            "right": null,
            "justify_content": null,
            "_view_module": "@jupyter-widgets/base",
            "overflow": null,
            "_model_module_version": "1.2.0",
            "_view_count": null,
            "flex_flow": null,
            "width": null,
            "min_width": null,
            "border": null,
            "align_items": null,
            "bottom": null,
            "_model_module": "@jupyter-widgets/base",
            "top": null,
            "grid_column": null,
            "overflow_y": null,
            "overflow_x": null,
            "grid_auto_flow": null,
            "grid_area": null,
            "grid_template_columns": null,
            "flex": null,
            "_model_name": "LayoutModel",
            "justify_items": null,
            "grid_row": null,
            "max_height": null,
            "align_content": null,
            "visibility": null,
            "align_self": null,
            "height": null,
            "min_height": null,
            "padding": null,
            "grid_auto_rows": null,
            "grid_gap": null,
            "max_width": null,
            "order": null,
            "_view_module_version": "1.2.0",
            "grid_template_areas": null,
            "object_position": null,
            "object_fit": null,
            "grid_auto_columns": null,
            "margin": null,
            "display": null,
            "left": null
          }
        }
      }
    }
  },
  "cells": [
    {
      "cell_type": "code",
      "execution_count": null,
      "metadata": {
        "id": "Tyli9kqwlm9P"
      },
      "outputs": [],
      "source": [
        "import matplotlib.pyplot as plt\n",
        "import numpy as np\n",
        "from sklearn.model_selection import KFold, cross_val_score\n",
        "from scipy.stats import loguniform \n",
        "import torch\n",
        "import torch.nn as nn\n",
        "import torch.optim as optim\n",
        "from torch.utils.data import Dataset, DataLoader,TensorDataset,random_split,SubsetRandomSampler, ConcatDataset\n",
        "from torch.nn import functional as F\n",
        "import torchvision\n",
        "from torchvision import datasets,transforms\n",
        "import torchvision.transforms as transforms\n",
        "from tqdm import tqdm"
      ]
    },
    {
      "cell_type": "code",
      "source": [
        "train_dataset = torchvision.datasets.FashionMNIST('classifier_data', train=True, download=True)\n",
        "test_dataset  = torchvision.datasets.FashionMNIST('classifier_data', train=False, download=True)"
      ],
      "metadata": {
        "colab": {
          "base_uri": "https://localhost:8080/",
          "height": 443,
          "referenced_widgets": [
            "dc0564ac036e429fb49527830a5d7a3f",
            "39f50c162f734bcb8137349506b2d44f",
            "73aa5e86161948afb3f379a37622e6aa",
            "d2f5e35d3131477b8473360c77a844b3",
            "c8b4d2c3606840c7b930161d8e06c0be",
            "441556d277904b7eb6a6a81b2fc1a52f",
            "07e1d9a1614b4bd6b0f00940ad0cb9ce",
            "4cdf4aaea18740fdbb9bc666cbffb41b",
            "df75afabb7fb41c28e9e394ac9c547ff",
            "5e09a62a79ec4482bd62e8bfb022215c",
            "b37c4e2ca98349ebb298c7bc130bf4fa",
            "fb8c45758d224d07b3f70e4030d9b37a",
            "66fe3a780e8349e8ba62bf3d9703d6b4",
            "7028dc365a734428b345e29376003efe",
            "a13d3d0db3854bf99739cdc404020f2e",
            "c0349a932d55488cb43275cb5294fa82",
            "4284970c4b74421597b639e50e3c8163",
            "f4375a3b1ce34e1aaa8dfd19b87a0ae7",
            "641a79475b3c4d18bcb1f43dde6238a1",
            "412d317a78f94a22be8568fb15599430",
            "f59d116373cc40ad840ce35f1e4a02e1",
            "6a33982bda0049efbf706adea6c677d6",
            "f0c5b64b211440e191ce34797c39ddc5",
            "70ce4cee7de241dc8134bd258a5bd2c9",
            "daab24d16b7b48e9a10af6ad702667b0",
            "d5b50c1c88da45e3933f74ff8c7ca8bf",
            "f263285b117047e3985a7be187000b7c",
            "d4b1c4854bb441459988917f74b399ce",
            "26297737f438480aa61121929a16ed30",
            "d4e886d8836347229f7157eaf6e69c56",
            "21b154e837014ca48040720a81e88a0f",
            "090ac80759314837a12cb7a5e49ced2c",
            "75c8f3474eb24d14aab62f40d0388c33",
            "b5a95bd60b104da692f3f864ca5dac26",
            "d0e01cd194a14d3cbfc7219f9701c13d",
            "a3d973a393174f9c8af30e92eccdc336",
            "86f7d512101647ca9b68afdb580ec4d4",
            "cc78693625f6476fafb6ea8f8b5b2cb2",
            "ebdb862835b147b2a9d4293fed1f4394",
            "d395b847b7ea4ee0b6909b84b8e564db",
            "ff37720973db44688fdafaabe9ac4810",
            "3c7c1f14980a417387b32ddacae2657f",
            "cace1475349d48afa9e4400cc1b06c8f",
            "19889217c86149b8ac1efb221f7f1f3d"
          ]
        },
        "id": "eCE9StL-ls5k",
        "outputId": "52d36491-5207-49f4-edea-265c3259d856"
      },
      "execution_count": null,
      "outputs": [
        {
          "output_type": "stream",
          "name": "stdout",
          "text": [
            "Downloading http://fashion-mnist.s3-website.eu-central-1.amazonaws.com/train-images-idx3-ubyte.gz\n",
            "Downloading http://fashion-mnist.s3-website.eu-central-1.amazonaws.com/train-images-idx3-ubyte.gz to classifier_data/FashionMNIST/raw/train-images-idx3-ubyte.gz\n"
          ]
        },
        {
          "output_type": "display_data",
          "data": {
            "application/vnd.jupyter.widget-view+json": {
              "model_id": "dc0564ac036e429fb49527830a5d7a3f",
              "version_minor": 0,
              "version_major": 2
            },
            "text/plain": [
              "  0%|          | 0/26421880 [00:00<?, ?it/s]"
            ]
          },
          "metadata": {}
        },
        {
          "output_type": "stream",
          "name": "stdout",
          "text": [
            "Extracting classifier_data/FashionMNIST/raw/train-images-idx3-ubyte.gz to classifier_data/FashionMNIST/raw\n",
            "\n",
            "Downloading http://fashion-mnist.s3-website.eu-central-1.amazonaws.com/train-labels-idx1-ubyte.gz\n",
            "Downloading http://fashion-mnist.s3-website.eu-central-1.amazonaws.com/train-labels-idx1-ubyte.gz to classifier_data/FashionMNIST/raw/train-labels-idx1-ubyte.gz\n"
          ]
        },
        {
          "output_type": "display_data",
          "data": {
            "application/vnd.jupyter.widget-view+json": {
              "model_id": "fb8c45758d224d07b3f70e4030d9b37a",
              "version_minor": 0,
              "version_major": 2
            },
            "text/plain": [
              "  0%|          | 0/29515 [00:00<?, ?it/s]"
            ]
          },
          "metadata": {}
        },
        {
          "output_type": "stream",
          "name": "stdout",
          "text": [
            "Extracting classifier_data/FashionMNIST/raw/train-labels-idx1-ubyte.gz to classifier_data/FashionMNIST/raw\n",
            "\n",
            "Downloading http://fashion-mnist.s3-website.eu-central-1.amazonaws.com/t10k-images-idx3-ubyte.gz\n",
            "Downloading http://fashion-mnist.s3-website.eu-central-1.amazonaws.com/t10k-images-idx3-ubyte.gz to classifier_data/FashionMNIST/raw/t10k-images-idx3-ubyte.gz\n"
          ]
        },
        {
          "output_type": "display_data",
          "data": {
            "application/vnd.jupyter.widget-view+json": {
              "model_id": "f0c5b64b211440e191ce34797c39ddc5",
              "version_minor": 0,
              "version_major": 2
            },
            "text/plain": [
              "  0%|          | 0/4422102 [00:00<?, ?it/s]"
            ]
          },
          "metadata": {}
        },
        {
          "output_type": "stream",
          "name": "stdout",
          "text": [
            "Extracting classifier_data/FashionMNIST/raw/t10k-images-idx3-ubyte.gz to classifier_data/FashionMNIST/raw\n",
            "\n",
            "Downloading http://fashion-mnist.s3-website.eu-central-1.amazonaws.com/t10k-labels-idx1-ubyte.gz\n",
            "Downloading http://fashion-mnist.s3-website.eu-central-1.amazonaws.com/t10k-labels-idx1-ubyte.gz to classifier_data/FashionMNIST/raw/t10k-labels-idx1-ubyte.gz\n"
          ]
        },
        {
          "output_type": "display_data",
          "data": {
            "application/vnd.jupyter.widget-view+json": {
              "model_id": "b5a95bd60b104da692f3f864ca5dac26",
              "version_minor": 0,
              "version_major": 2
            },
            "text/plain": [
              "  0%|          | 0/5148 [00:00<?, ?it/s]"
            ]
          },
          "metadata": {}
        },
        {
          "output_type": "stream",
          "name": "stdout",
          "text": [
            "Extracting classifier_data/FashionMNIST/raw/t10k-labels-idx1-ubyte.gz to classifier_data/FashionMNIST/raw\n",
            "\n"
          ]
        }
      ]
    },
    {
      "cell_type": "code",
      "source": [
        "transform = torchvision.transforms.Compose([\n",
        "    torchvision.transforms.ToTensor()\n",
        "])\n",
        "\n",
        "train_dataset.transform=transform\n",
        "test_dataset.transform=transform\n",
        "\n",
        "m=len(train_dataset)"
      ],
      "metadata": {
        "id": "jroarBPXluex"
      },
      "execution_count": null,
      "outputs": []
    },
    {
      "cell_type": "code",
      "source": [
        "#random_split randomly split a dataset into non-overlapping new datasets of given lengths\n",
        "train_data, val_data = random_split(train_dataset, [int(m-m*0.2), int(m*0.2)])\n",
        "\n",
        "batch_size=128\n",
        "\n",
        "# The dataloaders handle shuffling, batching, etc...\n",
        "train_loader = torch.utils.data.DataLoader(train_data, batch_size=batch_size)\n",
        "valid_loader = torch.utils.data.DataLoader(val_data, batch_size=batch_size)\n",
        "test_loader = torch.utils.data.DataLoader(test_dataset, batch_size=batch_size,shuffle=True)\n",
        "\n",
        "print(\"Batches in Train Loader: {}\".format(len(train_loader)))\n",
        "print(\"Batches in Valid Loader: {}\".format(len(valid_loader)))\n",
        "print(\"Batches in Test Loader: {}\".format(len(test_loader)))\n",
        "\n",
        "print(\"Examples in Train Loader: {}\".format(len(train_loader.sampler)))\n",
        "print(\"Examples in Valid Loader: {}\".format(len(valid_loader.sampler)))\n",
        "print(\"Examples in Test Loader: {}\".format(len(test_loader.sampler)))"
      ],
      "metadata": {
        "colab": {
          "base_uri": "https://localhost:8080/"
        },
        "id": "MVdLTO9vlwsS",
        "outputId": "b7a8a921-b5de-4354-efae-07f487126374"
      },
      "execution_count": null,
      "outputs": [
        {
          "output_type": "stream",
          "name": "stdout",
          "text": [
            "Batches in Train Loader: 375\n",
            "Batches in Valid Loader: 94\n",
            "Batches in Test Loader: 79\n",
            "Examples in Train Loader: 48000\n",
            "Examples in Valid Loader: 12000\n",
            "Examples in Test Loader: 10000\n"
          ]
        }
      ]
    },
    {
      "cell_type": "code",
      "source": [
        "def output_label(label):\n",
        "    output_mapping = {\n",
        "                 0: \"T-shirt/Top\",\n",
        "                 1: \"Trouser\",\n",
        "                 2: \"Pullover\",\n",
        "                 3: \"Dress\",\n",
        "                 4: \"Coat\", \n",
        "                 5: \"Sandal\", \n",
        "                 6: \"Shirt\",\n",
        "                 7: \"Sneaker\",\n",
        "                 8: \"Bag\",\n",
        "                 9: \"Ankle Boot\"\n",
        "                 }\n",
        "    input = (label.item() if type(label) == torch.Tensor else label)\n",
        "    return output_mapping[input]"
      ],
      "metadata": {
        "id": "Z4uuBSLknnSK"
      },
      "execution_count": null,
      "outputs": []
    },
    {
      "cell_type": "code",
      "source": [
        "demo_loader = torch.utils.data.DataLoader(train_data, batch_size=10)\n",
        "\n",
        "batch = next(iter(demo_loader))\n",
        "images, labels = batch\n",
        "print(type(images), type(labels))\n",
        "print(images.shape, labels.shape)"
      ],
      "metadata": {
        "colab": {
          "base_uri": "https://localhost:8080/"
        },
        "id": "JANmw6CTn1By",
        "outputId": "2fe809fb-7aca-435e-d409-ef13dd75e998"
      },
      "execution_count": null,
      "outputs": [
        {
          "output_type": "stream",
          "name": "stdout",
          "text": [
            "<class 'torch.Tensor'> <class 'torch.Tensor'>\n",
            "torch.Size([10, 1, 28, 28]) torch.Size([10])\n"
          ]
        }
      ]
    },
    {
      "cell_type": "code",
      "source": [
        "grid = torchvision.utils.make_grid(images, nrow=10)\n",
        "\n",
        "plt.figure(figsize=(15, 20))\n",
        "plt.imshow(np.transpose(grid, (1, 2, 0)))\n",
        "print(\"labels: \", end=\" \")\n",
        "for i, label in enumerate(labels):\n",
        "    print(output_label(label), end=\", \")"
      ],
      "metadata": {
        "colab": {
          "base_uri": "https://localhost:8080/",
          "height": 156
        },
        "id": "9jAEs-qXn-8b",
        "outputId": "b024039a-13cc-4b99-a394-ec450f28228d"
      },
      "execution_count": null,
      "outputs": [
        {
          "output_type": "stream",
          "name": "stdout",
          "text": [
            "labels:  Sandal, Trouser, Pullover, Coat, Ankle Boot, Trouser, Sneaker, Coat, Sneaker, Dress, "
          ]
        },
        {
          "output_type": "display_data",
          "data": {
            "image/png": "[encoded data removed]",
            "text/plain": [
              "<Figure size 1080x1440 with 1 Axes>"
            ]
          },
          "metadata": {
            "needs_background": "light"
          }
        }
      ]
    },
    {
      "cell_type": "markdown",
      "source": [
        "Define CNN architecture"
      ],
      "metadata": {
        "id": "-oBQnoQxoINr"
      }
    },
    {
      "cell_type": "code",
      "source": [
        "class CNN(nn.Module):\n",
        "    '''\n",
        "    Module including network structure and functioning, basic training, testing and validating operations.\n",
        "    '''\n",
        "    def __init__(self, n_channels, pdrop2d, pdrop1d):\n",
        "        '''\n",
        "        The network is composed of:\n",
        "        - one convolutional layer with 1 input channel, @n_channels output channels, a 3 by 3 kernel \n",
        "        - another convolutional layer with @n_channels input channels, 2*@n_channels output channels, 5 by 5 kernel\n",
        "        - a dropout layer\n",
        "        - one fully connected layer with (img size)x(2*n_channels)=50xn_channels inputs, 100 outputs\n",
        "        - another dropout layer\n",
        "        - one fully connected layer with 100 inputs, 10 outputs (corresponding to the 10 labels)  \n",
        "        \n",
        "        Input\n",
        "        n_channels: number of convolutional channels\n",
        "        pdrop2d:    dropout probability of 2D dropout layer\n",
        "        pdrop1d:    dropout probability of 1D dropout layer\n",
        "        '''\n",
        "        super(CNN, self).__init__()\n",
        "    \n",
        "        # --> img size = 28-3+2*1+1= 28x28 \n",
        "        self.conv1 = nn.Conv2d(1, n_channels, kernel_size=3, padding=1)\n",
        "        self.mpool = nn.MaxPool2d(2, 2)    \n",
        "        # dropout layer\n",
        "        self.drop2 = nn.Dropout2d(p=pdrop2d) \n",
        "        self.conv2 = nn.Conv2d(n_channels, 2*n_channels, kernel_size=5) \n",
        "        \n",
        "        # fully connceted layer with (img size)x(2*n_channels)=50xn_channels, 100 output units\n",
        "        self.fulc1 = nn.Linear(50*n_channels, 100)             \n",
        "        # dropout after first linear layer\n",
        "        self.drop1 = nn.Dropout(p=pdrop1d)\n",
        "        # fully connected layer with inputs equal to number of outputs of previous layer, 10 outputs (10 digits)\n",
        "        self.fulc2 = nn.Linear(100, 10)\n",
        "        \n",
        "        print('Network initialized')\n",
        "\n",
        "    def forward(self, x):\n",
        "        \n",
        "        x = F.relu(self.conv1(x))\n",
        "        x = self.mpool(x)\n",
        "        x = F.relu(self.conv2(x))\n",
        "        x = self.mpool(x)\n",
        "        x = self.drop2(x)\n",
        "        x = x.view(x.size(0), -1) # reshaping necessary for linear layer\n",
        "        x = F.relu(self.fulc1(x))\n",
        "        x = self.drop1(x)\n",
        "        x = self.fulc2(x)\n",
        "        \n",
        "        return x\n",
        "    \n",
        "    def train_step(self, train_loader, optimizer, loss_func, device, epoch, verbose=False):\n",
        "        \"\"\"\n",
        "        Define the basic train step.\n",
        "        \n",
        "        train_loader: dataloader\n",
        "        optimizer:    type of selected optimizer (SGD, Adam...)\n",
        "        loss_func:    selected loss function\n",
        "        device:       gpu (if available) or cpu\n",
        "        epoch:        number of epoch in training process\n",
        "        verbose:      if True prints out status of training process, default False\n",
        "        \n",
        "        Return: training loss.\n",
        "        \"\"\"\n",
        "        \n",
        "        train_loss = [] #initialize vector containing training losses\n",
        "        self.train()    #set training mode\n",
        "        \n",
        "        for ii, s_batch in enumerate(train_loader):\n",
        "            \n",
        "            x_batch = s_batch[0].to(device)       #import data, move to device \n",
        "            label_b = s_batch[1].to(device)       #import labels, move to device\n",
        "            \n",
        "            for_out = self.forward(x_batch)       #forward pass\n",
        "            \n",
        "            tr_loss = loss_func(for_out, label_b) #compute loss\n",
        "        \n",
        "            self.zero_grad()                      #back-propagation\n",
        "            tr_loss.backward()\n",
        "            \n",
        "            optimizer.step()                      #weights update\n",
        "                \n",
        "            ba_loss = tr_loss.detach().cpu().numpy()\n",
        "            train_loss.append(ba_loss)            #save loss for batch\n",
        "            \n",
        "            if (ii % 10 == 0 and verbose): # every 10 batches print out a sumary of training results\n",
        "                print('Train Epoch: {} [{}/{} ({:.0f}%)]\\tLoss: {:.6f}'.format(\n",
        "                    epoch+1, ii * len(s_batch[0]), len(train_loader.dataset),\n",
        "                    100. * ii / len(train_loader), ba_loss))\n",
        "\n",
        "        return train_loss\n",
        "    \n",
        "    \n",
        "    def val_step(self, valid_loader, loss_func, device):\n",
        "        \"\"\"\n",
        "        Define basic validation step.\n",
        "        \n",
        "        valid_loader: dataloader\n",
        "        loss_func:    selected loss function\n",
        "        device:       gpu (if available) or cpu\n",
        "        \n",
        "        Return: validation loss, validation accuracy.\n",
        "        \"\"\"\n",
        "        val_loss = [] #initialize vector containing validation losses\n",
        "        self.eval()   #set evaluation mode\n",
        "        \n",
        "        with torch.no_grad():                         #disable gradient tracking\n",
        "            for s_batch in valid_loader:\n",
        "                \n",
        "                x_batch = s_batch[0].to(device)       #import data, move to device\n",
        "                label_b = s_batch[1].to(device)       #import labels, move to device\n",
        "            \n",
        "                for_out = self.forward(x_batch)       #forward pass\n",
        "\n",
        "                va_loss = loss_func(for_out, label_b) #compute loss\n",
        "\n",
        "                ba_loss = va_loss.detach().cpu().numpy()\n",
        "                val_loss.append(ba_loss)           #save loss for batch\n",
        "        \n",
        "        return val_loss\n",
        "    \n",
        "    def fitting(self, train_loader, val_loader, optimizer, loss_func, verbose, param):\n",
        "        '''\n",
        "        Define training process.\n",
        "        \n",
        "        train_loader: train set dataloader \n",
        "        valid_loader: validation set dataloader\n",
        "        optimizer:    selected optimizer \n",
        "        loss_func:    selected loss function\n",
        "        verbose:      if True prints out training status during training process\n",
        "        param:        dictionary containing the rest of the parameters\n",
        "        \n",
        "        Return: train and validation losses.\n",
        "        '''\n",
        "        \n",
        "        train_loss_log = [] \n",
        "        val_loss_log = []\n",
        "        \n",
        "        for epoch in tqdm(range(param['num_epochs'])):\n",
        "            # Training\n",
        "            train_loss = self.train_step(train_loader, optimizer, loss_func, \n",
        "                                         param['device'], epoch, verbose)\n",
        "                \n",
        "            # Compute and store average training loss\n",
        "            train_loss = np.mean(train_loss)\n",
        "            train_loss_log.append(train_loss)\n",
        "            \n",
        "            # Validation \n",
        "            valid_loss = self.val_step(val_loader, loss_func, param['device'])\n",
        "            \n",
        "            # Compute and store average validation loss\n",
        "            valid_loss = np.mean(valid_loss)\n",
        "            val_loss_log.append(valid_loss)\n",
        "            \n",
        "            # Check for early stopping condition\n",
        "            stop = self._early_stopping(val_loss_log, param['num_epochs'])\n",
        "            if stop: \n",
        "                print('Early stopping at epoch ', epoch)\n",
        "                param['num_epochs'] = epoch\n",
        "                break\n",
        "            \n",
        "        return train_loss_log, val_loss_log\n",
        "    \n",
        "    def predicting(self, data_loader, device):\n",
        "        '''\n",
        "        Compute and returns predicted labels.\n",
        "        '''              \n",
        "                \n",
        "        predicts = [] #initialize vector containing predictions\n",
        "        self.eval()   #set evaluation mode\n",
        "        \n",
        "        with torch.no_grad():                   #disable gradient tracking\n",
        "            for s_batch in tqdm(data_loader):\n",
        "                \n",
        "                x_batch = s_batch[0].to(device) #import data, move to device\n",
        "                \n",
        "                for_out = self.forward(x_batch) #forward pass\n",
        "\n",
        "                outputs = for_out.cpu().numpy().argmax()\n",
        "                predicts.append(outputs)        #save predictions\n",
        "        \n",
        "        return np.array(predicts)\n",
        "                    \n",
        "    def _early_stopping(self, val_loss_log, num_epochs):\n",
        "        \n",
        "        stop = False\n",
        "        \n",
        "        if len(val_loss_log)>1:\n",
        "            # set interval dimension in which to check loss values\n",
        "            range_loss = min(len(val_loss_log), 10)\n",
        "            last_loss = val_loss_log[-1]\n",
        "            mean_loss = np.mean(val_loss_log[-range_loss:-1])\n",
        "            \n",
        "            if (np.abs(last_loss-mean_loss) < 0.005): \n",
        "                stop = True\n",
        "                \n",
        "        return stop"
      ],
      "metadata": {
        "id": "xrWypF1NoBIh"
      },
      "execution_count": null,
      "outputs": []
    },
    {
      "cell_type": "markdown",
      "source": [
        "Random parameters selection"
      ],
      "metadata": {
        "id": "ndvkH7fm3N6O"
      }
    },
    {
      "cell_type": "code",
      "source": [
        "# Initial parameters\n",
        "n_epochs = 15\n",
        "batch_size_train = 192\n",
        "batch_size_test = 1000\n",
        "learning_rate = 0.002\n",
        "momentum = 0.9"
      ],
      "metadata": {
        "id": "VjwwzgXz1Djl"
      },
      "execution_count": null,
      "outputs": []
    },
    {
      "cell_type": "code",
      "source": [
        "def random_params(params):\n",
        "    selected_params = {}\n",
        "    for i in params.keys():\n",
        "        selected_params[i] = np.random.choice( params[i] )\n",
        "    return selected_params\n",
        "\n",
        "device = torch.device(\"cuda\") if torch.cuda.is_available() else torch.device(\"cpu\")\n",
        "print(f\"Training device: {device}\")\n",
        "\n",
        "params = {\"device\"        : [device],\n",
        "          \"num_epochs\"    : [n_epochs],\n",
        "          \"n_channels\"    : np.arange(3,11), \n",
        "          \"pdrop1d\"       : np.random.uniform(0, 0.25, 20),\n",
        "          \"pdrop2d\"       : np.random.uniform(0, 0.25, 20),\n",
        "          \"optimizer\"     : ['sgd', 'adam'],\n",
        "          \"momentum\"      : np.random.uniform(0.5, 0.95, 20),\n",
        "          \"learning_rate\" : loguniform.rvs(1e-5, 1e-2, size=20),\n",
        "          \"reg_param\"     : loguniform.rvs(1e-4, 1e-1, size=20),\n",
        "          }\n",
        "\n",
        "print('Random network parameters:', random_params(params))"
      ],
      "metadata": {
        "colab": {
          "base_uri": "https://localhost:8080/"
        },
        "id": "S-LVPePe0-_C",
        "outputId": "fc9db8fe-c4c0-449f-feec-f367ee981ddc"
      },
      "execution_count": null,
      "outputs": [
        {
          "output_type": "stream",
          "name": "stdout",
          "text": [
            "Training device: cuda\n",
            "Random network parameters: {'device': device(type='cuda'), 'num_epochs': 15, 'n_channels': 9, 'pdrop1d': 0.1662857764109922, 'pdrop2d': 0.01798865883302317, 'optimizer': 'adam', 'momentum': 0.5872612195455301, 'learning_rate': 0.004449159915432177, 'reg_param': 0.0004986624637438257}\n"
          ]
        }
      ]
    },
    {
      "cell_type": "markdown",
      "source": [
        "Selecting the best model with random search"
      ],
      "metadata": {
        "id": "1nPn3f9E3Y2W"
      }
    },
    {
      "cell_type": "code",
      "source": [
        "def random_search(grid_pars, train_loader, valid_loader, n_models):\n",
        "    '''\n",
        "    Random parameter search for selecting optimal network\n",
        "    \n",
        "    grid_pars    : dictionary containing all the parameters on which to perform the random search\n",
        "    train_loader : dataloader for training set\n",
        "    valid_loader : dataloader for validation set\n",
        "    n_models     : number of models tested, i.e. number of iterations \n",
        "    \n",
        "    Returns: train and validation losses and network parameters\n",
        "    '''\n",
        "    \n",
        "    # initialise outputs\n",
        "    net_params = []\n",
        "    train_loss_log = []\n",
        "    val_loss_log = []\n",
        "    \n",
        "    verbose = False # we don't need intermediate training steps\n",
        "    \n",
        "    for i in tqdm(range(n_models)):\n",
        "        \n",
        "        # select random parameters\n",
        "        params = random_params(grid_pars)\n",
        "        \n",
        "        print('Model ', i+1)\n",
        "        print('Network parameters:', params)\n",
        "        \n",
        "        # initialize network\n",
        "        net = CNN(params['n_channels'], params['pdrop2d'], params['pdrop1d'] )\n",
        "        net.to(params['device'])\n",
        "        \n",
        "        # initialize loss function\n",
        "        loss_func = nn.CrossEntropyLoss() \n",
        "        # set up optimizer\n",
        "        if params['optimizer']=='adam':\n",
        "            optimizer = optim.Adam(net.parameters(), lr=params['learning_rate'], \n",
        "                             weight_decay=params['reg_param'])\n",
        "        elif params['optimizer']=='sgd':\n",
        "            optimizer = optim.SGD(net.parameters(), lr=params['learning_rate'], \n",
        "                            momentum=params['momentum'], weight_decay=params['reg_param'])\n",
        "        \n",
        "        # training & validation process\n",
        "        train_loss, valid_loss = net.fitting(train_loader, valid_loader, optimizer, \n",
        "                                             loss_func, verbose, params)\n",
        "        \n",
        "        train_loss_log.append(train_loss)\n",
        "        val_loss_log.append(valid_loss)\n",
        "        \n",
        "        # append final to parameter dictionnary  final loss for each model studied\n",
        "        params['final_loss'] = valid_loss[-1]\n",
        "        net_params.append(params)\n",
        "        \n",
        "    return net_params, train_loss_log, val_loss_log"
      ],
      "metadata": {
        "id": "KYuIQE-u16Gp"
      },
      "execution_count": null,
      "outputs": []
    },
    {
      "cell_type": "code",
      "source": [
        "# perform random search!\n",
        "net_params, train_loss_rs, valid_loss_rs = random_search(params, train_loader, valid_loader, 15)"
      ],
      "metadata": {
        "colab": {
          "base_uri": "https://localhost:8080/"
        },
        "id": "mMADV-E417SH",
        "outputId": "4ab3b048-4366-4541-fe0f-51d0d974a09c"
      },
      "execution_count": null,
      "outputs": [
        {
          "metadata": {
            "tags": null
          },
          "name": "stderr",
          "output_type": "stream",
          "text": [
            "\r  0%|          | 0/15 [00:00<?, ?it/s]"
          ]
        },
        {
          "metadata": {
            "tags": null
          },
          "name": "stdout",
          "output_type": "stream",
          "text": [
            "Model  1\n",
            "Network parameters: {'device': device(type='cuda'), 'num_epochs': 15, 'n_channels': 9, 'pdrop1d': 0.1662857764109922, 'pdrop2d': 0.14656503063798654, 'optimizer': 'adam', 'momentum': 0.626704227631114, 'learning_rate': 0.003197594206352734, 'reg_param': 0.0004986624637438257}\n",
            "Network initialized\n"
          ]
        },
        {
          "metadata": {
            "tags": null
          },
          "name": "stderr",
          "output_type": "stream",
          "text": [
            "\n",
            "  0%|          | 0/15 [00:00<?, ?it/s]\u001b[A\n",
            "  7%|▋         | 1/15 [00:09<02:14,  9.63s/it]\u001b[A\n",
            " 13%|█▎        | 2/15 [00:19<02:07,  9.81s/it]\u001b[A\n",
            " 20%|██        | 3/15 [00:29<01:55,  9.67s/it]\u001b[A\n",
            " 27%|██▋       | 4/15 [00:38<01:45,  9.55s/it]\u001b[A\n",
            " 33%|███▎      | 5/15 [00:48<01:38,  9.84s/it]\u001b[A\n",
            " 40%|████      | 6/15 [00:58<01:27,  9.70s/it]\u001b[A\n",
            " 47%|████▋     | 7/15 [01:07<01:17,  9.64s/it]\u001b[A\n",
            " 53%|█████▎    | 8/15 [01:17<01:06,  9.57s/it]\u001b[A\n",
            " 60%|██████    | 9/15 [01:26<00:57,  9.52s/it]\u001b[A\n",
            " 67%|██████▋   | 10/15 [01:36<00:47,  9.51s/it]\u001b[A\n",
            " 73%|███████▎  | 11/15 [01:45<00:37,  9.48s/it]\u001b[A\n",
            " 80%|████████  | 12/15 [01:54<00:28,  9.46s/it]\u001b[A\n",
            " 87%|████████▋ | 13/15 [02:04<00:18,  9.46s/it]\u001b[A\n",
            " 93%|█████████▎| 14/15 [02:14<00:09,  9.82s/it]\u001b[A\n",
            "100%|██████████| 15/15 [02:27<00:00,  9.82s/it]\n",
            "  7%|▋         | 1/15 [02:36<36:32, 156.63s/it]"
          ]
        },
        {
          "metadata": {
            "tags": null
          },
          "name": "stdout",
          "output_type": "stream",
          "text": [
            "Model  2\n",
            "Network parameters: {'device': device(type='cuda'), 'num_epochs': 15, 'n_channels': 6, 'pdrop1d': 0.08090877273778954, 'pdrop2d': 0.2134587302306889, 'optimizer': 'sgd', 'momentum': 0.8897704872425243, 'learning_rate': 0.0007969292931474134, 'reg_param': 0.0004509254414130406}\n",
            "Network initialized\n"
          ]
        },
        {
          "metadata": {
            "tags": null
          },
          "name": "stderr",
          "output_type": "stream",
          "text": [
            "\n",
            "  0%|          | 0/15 [00:00<?, ?it/s]\u001b[A\n",
            "  7%|▋         | 1/15 [00:10<02:25, 10.39s/it]\u001b[A\n",
            " 13%|█▎        | 2/15 [00:19<02:04,  9.61s/it]\u001b[A\n",
            " 20%|██        | 3/15 [00:28<01:52,  9.34s/it]\u001b[A\n",
            " 27%|██▋       | 4/15 [00:37<01:41,  9.23s/it]\u001b[A\n",
            " 33%|███▎      | 5/15 [00:46<01:31,  9.16s/it]\u001b[A\n",
            " 40%|████      | 6/15 [00:55<01:22,  9.14s/it]\u001b[A\n",
            " 47%|████▋     | 7/15 [01:04<01:13,  9.13s/it]\u001b[A\n",
            " 53%|█████▎    | 8/15 [01:13<01:03,  9.12s/it]\u001b[A\n",
            " 60%|██████    | 9/15 [01:22<00:54,  9.07s/it]\u001b[A\n",
            " 67%|██████▋   | 10/15 [01:31<00:45,  9.08s/it]\u001b[A\n",
            " 73%|███████▎  | 11/15 [01:41<00:36,  9.09s/it]\u001b[A\n",
            " 80%|████████  | 12/15 [01:51<00:28,  9.35s/it]\u001b[A\n",
            " 87%|████████▋ | 13/15 [02:00<00:18,  9.29s/it]\u001b[A\n",
            " 93%|█████████▎| 14/15 [02:09<00:09,  9.29s/it]\u001b[A\n",
            "100%|██████████| 15/15 [02:19<00:00,  9.32s/it]\n",
            " 13%|█▎        | 2/15 [04:56<31:48, 146.79s/it]"
          ]
        },
        {
          "metadata": {
            "tags": null
          },
          "name": "stdout",
          "output_type": "stream",
          "text": [
            "Model  3\n",
            "Network parameters: {'device': device(type='cuda'), 'num_epochs': 15, 'n_channels': 10, 'pdrop1d': 0.08402821083910789, 'pdrop2d': 0.019516973867168386, 'optimizer': 'adam', 'momentum': 0.8910789150109428, 'learning_rate': 1.0838529055446877e-05, 'reg_param': 0.0017437632477293418}\n",
            "Network initialized\n"
          ]
        },
        {
          "metadata": {
            "tags": null
          },
          "name": "stderr",
          "output_type": "stream",
          "text": [
            "\n",
            "  0%|          | 0/15 [00:00<?, ?it/s]\u001b[A\n",
            "  7%|▋         | 1/15 [00:09<02:15,  9.65s/it]\u001b[A\n",
            " 13%|█▎        | 2/15 [00:19<02:04,  9.55s/it]\u001b[A\n",
            " 20%|██        | 3/15 [00:28<01:55,  9.59s/it]\u001b[A\n",
            " 27%|██▋       | 4/15 [00:39<01:48,  9.87s/it]\u001b[A\n",
            " 33%|███▎      | 5/15 [00:48<01:37,  9.71s/it]\u001b[A\n",
            " 40%|████      | 6/15 [00:58<01:26,  9.66s/it]\u001b[A\n",
            " 47%|████▋     | 7/15 [01:08<01:18,  9.85s/it]\u001b[A\n",
            " 53%|█████▎    | 8/15 [01:19<01:11, 10.16s/it]\u001b[A\n",
            " 60%|██████    | 9/15 [01:28<00:59,  9.92s/it]\u001b[A\n",
            " 67%|██████▋   | 10/15 [01:37<00:48,  9.75s/it]\u001b[A\n",
            " 73%|███████▎  | 11/15 [01:47<00:38,  9.64s/it]\u001b[A\n",
            " 80%|████████  | 12/15 [01:56<00:28,  9.57s/it]\u001b[A\n",
            " 87%|████████▋ | 13/15 [02:06<00:19,  9.54s/it]\u001b[A\n",
            " 93%|█████████▎| 14/15 [02:15<00:09,  9.48s/it]\u001b[A\n",
            "100%|██████████| 15/15 [02:24<00:00,  9.66s/it]\n",
            " 20%|██        | 3/15 [07:21<29:11, 145.96s/it]"
          ]
        },
        {
          "metadata": {
            "tags": null
          },
          "name": "stdout",
          "output_type": "stream",
          "text": [
            "Model  4\n",
            "Network parameters: {'device': device(type='cuda'), 'num_epochs': 15, 'n_channels': 10, 'pdrop1d': 0.1707072062565491, 'pdrop2d': 0.10450410944000538, 'optimizer': 'adam', 'momentum': 0.8884650256131368, 'learning_rate': 0.0021585403505821684, 'reg_param': 0.021622974746968053}\n",
            "Network initialized\n"
          ]
        },
        {
          "metadata": {
            "tags": null
          },
          "name": "stderr",
          "output_type": "stream",
          "text": [
            "\n",
            "  0%|          | 0/15 [00:00<?, ?it/s]\u001b[A\n",
            "  7%|▋         | 1/15 [00:09<02:11,  9.38s/it]\u001b[A\n",
            " 13%|█▎        | 2/15 [00:18<02:02,  9.42s/it]\u001b[A\n",
            " 20%|██        | 3/15 [00:28<01:52,  9.37s/it]\u001b[A\n",
            " 27%|██▋       | 4/15 [00:37<01:42,  9.33s/it]\u001b[A\n",
            " 33%|███▎      | 5/15 [00:46<01:33,  9.37s/it]\u001b[A\n",
            " 40%|████      | 6/15 [00:56<01:24,  9.40s/it]\u001b[A\n",
            " 47%|████▋     | 7/15 [01:05<01:15,  9.38s/it]\u001b[A\n",
            " 53%|█████▎    | 8/15 [01:15<01:05,  9.41s/it]\u001b[A\n",
            " 60%|██████    | 9/15 [01:24<00:56,  9.41s/it]\u001b[A\n",
            " 67%|██████▋   | 10/15 [01:33<00:47,  9.40s/it]\u001b[A\n",
            " 73%|███████▎  | 11/15 [01:43<00:37,  9.39s/it]\u001b[A\n",
            " 80%|████████  | 12/15 [02:02<00:30, 10.18s/it]\n",
            " 27%|██▋       | 4/15 [09:23<25:02, 136.57s/it]"
          ]
        },
        {
          "metadata": {
            "tags": null
          },
          "name": "stdout",
          "output_type": "stream",
          "text": [
            "Early stopping at epoch  12\n",
            "Model  5\n",
            "Network parameters: {'device': device(type='cuda'), 'num_epochs': 15, 'n_channels': 4, 'pdrop1d': 0.059557485606310634, 'pdrop2d': 0.07532029478862792, 'optimizer': 'adam', 'momentum': 0.7262582458856524, 'learning_rate': 0.00018729531117450956, 'reg_param': 0.0005931909388418126}\n",
            "Network initialized\n"
          ]
        },
        {
          "metadata": {
            "tags": null
          },
          "name": "stderr",
          "output_type": "stream",
          "text": [
            "\n",
            "  0%|          | 0/15 [00:00<?, ?it/s]\u001b[A\n",
            "  7%|▋         | 1/15 [00:08<02:04,  8.88s/it]\u001b[A\n",
            " 13%|█▎        | 2/15 [00:17<01:56,  8.98s/it]\u001b[A\n",
            " 20%|██        | 3/15 [00:26<01:47,  8.94s/it]\u001b[A\n",
            " 27%|██▋       | 4/15 [00:35<01:38,  8.98s/it]\u001b[A\n",
            " 33%|███▎      | 5/15 [00:44<01:30,  9.00s/it]\u001b[A\n",
            " 40%|████      | 6/15 [00:53<01:21,  9.03s/it]\u001b[A\n",
            " 47%|████▋     | 7/15 [01:02<01:12,  9.02s/it]\u001b[A\n",
            " 53%|█████▎    | 8/15 [01:12<01:03,  9.05s/it]\u001b[A\n",
            " 60%|██████    | 9/15 [01:21<00:54,  9.05s/it]\u001b[A\n",
            " 67%|██████▋   | 10/15 [01:30<00:45,  9.03s/it]\u001b[A\n",
            " 73%|███████▎  | 11/15 [01:39<00:36,  9.00s/it]\u001b[A\n",
            " 80%|████████  | 12/15 [01:47<00:26,  8.97s/it]\u001b[A\n",
            " 87%|████████▋ | 13/15 [01:56<00:17,  8.96s/it]\u001b[A\n",
            " 93%|█████████▎| 14/15 [02:05<00:08,  8.94s/it]\u001b[A\n",
            "100%|██████████| 15/15 [02:14<00:00,  8.98s/it]\n",
            " 33%|███▎      | 5/15 [11:38<22:38, 135.90s/it]"
          ]
        },
        {
          "metadata": {
            "tags": null
          },
          "name": "stdout",
          "output_type": "stream",
          "text": [
            "Model  6\n",
            "Network parameters: {'device': device(type='cuda'), 'num_epochs': 15, 'n_channels': 9, 'pdrop1d': 0.1707072062565491, 'pdrop2d': 0.05628865952033618, 'optimizer': 'adam', 'momentum': 0.6344674798471595, 'learning_rate': 0.001951997628780558, 'reg_param': 0.0003254975021553702}\n",
            "Network initialized\n"
          ]
        },
        {
          "metadata": {
            "tags": null
          },
          "name": "stderr",
          "output_type": "stream",
          "text": [
            "\n",
            "  0%|          | 0/15 [00:00<?, ?it/s]\u001b[A\n",
            "  7%|▋         | 1/15 [00:09<02:08,  9.20s/it]\u001b[A\n",
            " 13%|█▎        | 2/15 [00:18<02:00,  9.24s/it]\u001b[A\n",
            " 20%|██        | 3/15 [00:27<01:51,  9.26s/it]\u001b[A\n",
            " 27%|██▋       | 4/15 [00:36<01:41,  9.25s/it]\u001b[A\n",
            " 33%|███▎      | 5/15 [00:46<01:32,  9.24s/it]\u001b[A\n",
            " 40%|████      | 6/15 [00:55<01:23,  9.24s/it]\u001b[A\n",
            " 47%|████▋     | 7/15 [01:04<01:13,  9.23s/it]\u001b[A\n",
            " 53%|█████▎    | 8/15 [01:13<01:04,  9.21s/it]\u001b[A\n",
            " 60%|██████    | 9/15 [01:23<00:55,  9.22s/it]\u001b[A\n",
            " 67%|██████▋   | 10/15 [01:32<00:46,  9.22s/it]\u001b[A\n",
            " 73%|███████▎  | 11/15 [01:41<00:36,  9.21s/it]\u001b[A\n",
            " 80%|████████  | 12/15 [01:50<00:27,  9.23s/it]\u001b[A\n",
            " 87%|████████▋ | 13/15 [01:59<00:18,  9.22s/it]\u001b[A\n",
            " 93%|█████████▎| 14/15 [02:09<00:09,  9.24s/it]\u001b[A\n",
            "100%|██████████| 15/15 [02:18<00:00,  9.23s/it]\n",
            " 40%|████      | 6/15 [13:56<20:31, 136.79s/it]"
          ]
        },
        {
          "metadata": {
            "tags": null
          },
          "name": "stdout",
          "output_type": "stream",
          "text": [
            "Model  7\n",
            "Network parameters: {'device': device(type='cuda'), 'num_epochs': 15, 'n_channels': 6, 'pdrop1d': 0.15695699083843337, 'pdrop2d': 0.08413067114148787, 'optimizer': 'adam', 'momentum': 0.856313748533497, 'learning_rate': 0.0007969292931474134, 'reg_param': 0.021622974746968053}\n",
            "Network initialized\n"
          ]
        },
        {
          "metadata": {
            "tags": null
          },
          "name": "stderr",
          "output_type": "stream",
          "text": [
            "\n",
            "  0%|          | 0/15 [00:00<?, ?it/s]\u001b[A\n",
            "  7%|▋         | 1/15 [00:09<02:06,  9.02s/it]\u001b[A\n",
            " 13%|█▎        | 2/15 [00:18<01:56,  9.00s/it]\u001b[A\n",
            " 20%|██        | 3/15 [00:26<01:47,  8.96s/it]\u001b[A\n",
            " 27%|██▋       | 4/15 [00:35<01:38,  8.95s/it]\u001b[A\n",
            " 33%|███▎      | 5/15 [00:44<01:29,  8.95s/it]\u001b[A\n",
            " 40%|████      | 6/15 [00:53<01:20,  8.96s/it]\u001b[A\n",
            " 47%|████▋     | 7/15 [01:02<01:11,  8.99s/it]\u001b[A\n",
            " 53%|█████▎    | 8/15 [01:11<01:02,  8.95s/it]\u001b[A\n",
            " 60%|██████    | 9/15 [01:20<00:53,  8.95s/it]\u001b[A\n",
            " 67%|██████▋   | 10/15 [01:29<00:44,  8.94s/it]\u001b[A\n",
            " 73%|███████▎  | 11/15 [01:38<00:35,  8.98s/it]\u001b[A\n",
            " 80%|████████  | 12/15 [01:56<00:29,  9.73s/it]\n",
            " 47%|████▋     | 7/15 [15:53<17:21, 130.23s/it]"
          ]
        },
        {
          "metadata": {
            "tags": null
          },
          "name": "stdout",
          "output_type": "stream",
          "text": [
            "Early stopping at epoch  12\n",
            "Model  8\n",
            "Network parameters: {'device': device(type='cuda'), 'num_epochs': 15, 'n_channels': 4, 'pdrop1d': 0.0343830825447102, 'pdrop2d': 0.10450410944000538, 'optimizer': 'adam', 'momentum': 0.5178889291423902, 'learning_rate': 1.0838529055446877e-05, 'reg_param': 0.0008358762617355274}\n",
            "Network initialized\n"
          ]
        },
        {
          "output_type": "stream",
          "name": "stderr",
          "text": [
            "\n",
            "  0%|          | 0/15 [00:00<?, ?it/s]\u001b[A\n",
            "  7%|▋         | 1/15 [00:08<02:04,  8.88s/it]\u001b[A\n",
            " 13%|█▎        | 2/15 [00:17<01:55,  8.89s/it]\u001b[A\n",
            " 20%|██        | 3/15 [00:26<01:46,  8.88s/it]\u001b[A\n",
            " 27%|██▋       | 4/15 [00:35<01:37,  8.90s/it]\u001b[A\n",
            " 33%|███▎      | 5/15 [00:44<01:29,  8.91s/it]\u001b[A\n",
            " 40%|████      | 6/15 [00:53<01:19,  8.88s/it]\u001b[A\n",
            " 47%|████▋     | 7/15 [01:02<01:10,  8.87s/it]\u001b[A\n",
            " 53%|█████▎    | 8/15 [01:10<01:01,  8.84s/it]\u001b[A\n",
            " 60%|██████    | 9/15 [01:19<00:52,  8.83s/it]\u001b[A\n",
            " 67%|██████▋   | 10/15 [01:28<00:44,  8.81s/it]\u001b[A\n",
            " 73%|███████▎  | 11/15 [01:37<00:35,  8.81s/it]\u001b[A\n",
            " 80%|████████  | 12/15 [01:46<00:26,  8.83s/it]\u001b[A\n",
            " 87%|████████▋ | 13/15 [01:55<00:17,  8.83s/it]\u001b[A\n",
            " 93%|█████████▎| 14/15 [02:03<00:08,  8.81s/it]\u001b[A\n",
            "100%|██████████| 15/15 [02:12<00:00,  8.84s/it]\n",
            " 53%|█████▎    | 8/15 [18:06<15:16, 130.99s/it]"
          ]
        },
        {
          "output_type": "stream",
          "name": "stdout",
          "text": [
            "Model  9\n",
            "Network parameters: {'device': device(type='cuda'), 'num_epochs': 15, 'n_channels': 10, 'pdrop1d': 0.13093053523657242, 'pdrop2d': 0.13820053388121864, 'optimizer': 'adam', 'momentum': 0.626704227631114, 'learning_rate': 0.00018729531117450956, 'reg_param': 0.001989943766842918}\n",
            "Network initialized\n"
          ]
        },
        {
          "output_type": "stream",
          "name": "stderr",
          "text": [
            "\n",
            "  0%|          | 0/15 [00:00<?, ?it/s]\u001b[A\n",
            "  7%|▋         | 1/15 [00:09<02:08,  9.20s/it]\u001b[A\n",
            " 13%|█▎        | 2/15 [00:18<01:59,  9.20s/it]\u001b[A\n",
            " 20%|██        | 3/15 [00:27<01:50,  9.21s/it]\u001b[A\n",
            " 27%|██▋       | 4/15 [00:36<01:42,  9.28s/it]\u001b[A\n",
            " 33%|███▎      | 5/15 [00:46<01:32,  9.30s/it]\u001b[A\n",
            " 40%|████      | 6/15 [00:55<01:24,  9.34s/it]\u001b[A\n",
            " 47%|████▋     | 7/15 [01:05<01:14,  9.36s/it]\u001b[A\n",
            " 53%|█████▎    | 8/15 [01:14<01:05,  9.36s/it]\u001b[A\n",
            " 60%|██████    | 9/15 [01:23<00:56,  9.34s/it]\u001b[A\n",
            " 67%|██████▋   | 10/15 [01:33<00:46,  9.36s/it]\u001b[A\n",
            " 73%|███████▎  | 11/15 [01:42<00:37,  9.34s/it]\u001b[A\n",
            " 80%|████████  | 12/15 [01:51<00:27,  9.33s/it]\u001b[A\n",
            " 87%|████████▋ | 13/15 [02:01<00:18,  9.31s/it]\u001b[A\n",
            " 93%|█████████▎| 14/15 [02:10<00:09,  9.32s/it]\u001b[A\n",
            "100%|██████████| 15/15 [02:19<00:00,  9.31s/it]\n",
            " 60%|██████    | 9/15 [20:25<13:22, 133.73s/it]"
          ]
        },
        {
          "output_type": "stream",
          "name": "stdout",
          "text": [
            "Model  10\n",
            "Network parameters: {'device': device(type='cuda'), 'num_epochs': 15, 'n_channels': 5, 'pdrop1d': 0.24047664880891598, 'pdrop2d': 0.08413067114148787, 'optimizer': 'adam', 'momentum': 0.626704227631114, 'learning_rate': 0.0007969292931474134, 'reg_param': 0.0008358762617355274}\n",
            "Network initialized\n"
          ]
        },
        {
          "output_type": "stream",
          "name": "stderr",
          "text": [
            "\n",
            "  0%|          | 0/15 [00:00<?, ?it/s]\u001b[A\n",
            "  7%|▋         | 1/15 [00:08<02:05,  8.96s/it]\u001b[A\n",
            " 13%|█▎        | 2/15 [00:17<01:57,  9.00s/it]\u001b[A\n",
            " 20%|██        | 3/15 [00:26<01:47,  9.00s/it]\u001b[A\n",
            " 27%|██▋       | 4/15 [00:35<01:38,  8.98s/it]\u001b[A\n",
            " 33%|███▎      | 5/15 [00:44<01:29,  8.95s/it]\u001b[A\n",
            " 40%|████      | 6/15 [00:53<01:20,  8.98s/it]\u001b[A\n",
            " 47%|████▋     | 7/15 [01:02<01:11,  8.97s/it]\u001b[A\n",
            " 53%|█████▎    | 8/15 [01:11<01:02,  8.95s/it]\u001b[A\n",
            " 60%|██████    | 9/15 [01:20<00:53,  8.96s/it]\u001b[A\n",
            " 67%|██████▋   | 10/15 [01:29<00:44,  8.94s/it]\u001b[A\n",
            " 73%|███████▎  | 11/15 [01:38<00:35,  8.92s/it]\u001b[A\n",
            " 80%|████████  | 12/15 [01:47<00:26,  8.91s/it]\u001b[A\n",
            " 87%|████████▋ | 13/15 [01:56<00:17,  8.89s/it]\u001b[A\n",
            " 93%|█████████▎| 14/15 [02:05<00:08,  8.90s/it]\u001b[A\n",
            "100%|██████████| 15/15 [02:14<00:00,  8.94s/it]\n",
            " 67%|██████▋   | 10/15 [22:40<11:09, 133.86s/it]"
          ]
        },
        {
          "output_type": "stream",
          "name": "stdout",
          "text": [
            "Model  11\n",
            "Network parameters: {'device': device(type='cuda'), 'num_epochs': 15, 'n_channels': 5, 'pdrop1d': 0.08090877273778954, 'pdrop2d': 0.14727526373532676, 'optimizer': 'sgd', 'momentum': 0.626704227631114, 'learning_rate': 1.0838529055446877e-05, 'reg_param': 0.001989943766842918}\n",
            "Network initialized\n"
          ]
        },
        {
          "output_type": "stream",
          "name": "stderr",
          "text": [
            "\n",
            "  0%|          | 0/15 [00:00<?, ?it/s]\u001b[A\n",
            "  7%|▋         | 1/15 [00:17<04:05, 17.57s/it]\n",
            " 73%|███████▎  | 11/15 [22:57<06:33, 98.27s/it] "
          ]
        },
        {
          "output_type": "stream",
          "name": "stdout",
          "text": [
            "Early stopping at epoch  1\n",
            "Model  12\n",
            "Network parameters: {'device': device(type='cuda'), 'num_epochs': 15, 'n_channels': 6, 'pdrop1d': 0.22073095156092878, 'pdrop2d': 0.01997201474010349, 'optimizer': 'sgd', 'momentum': 0.777375344139875, 'learning_rate': 2.2871923492605465e-05, 'reg_param': 0.0004986624637438257}\n",
            "Network initialized\n"
          ]
        },
        {
          "output_type": "stream",
          "name": "stderr",
          "text": [
            "\n",
            "  0%|          | 0/15 [00:00<?, ?it/s]\u001b[A\n",
            "  7%|▋         | 1/15 [00:17<04:07, 17.66s/it]\n",
            " 80%|████████  | 12/15 [23:15<03:41, 73.76s/it]"
          ]
        },
        {
          "output_type": "stream",
          "name": "stdout",
          "text": [
            "Early stopping at epoch  1\n",
            "Model  13\n",
            "Network parameters: {'device': device(type='cuda'), 'num_epochs': 15, 'n_channels': 6, 'pdrop1d': 0.15695699083843337, 'pdrop2d': 0.10450410944000538, 'optimizer': 'sgd', 'momentum': 0.7262582458856524, 'learning_rate': 0.002032404762362631, 'reg_param': 0.001989943766842918}\n",
            "Network initialized\n"
          ]
        },
        {
          "output_type": "stream",
          "name": "stderr",
          "text": [
            "\n",
            "  0%|          | 0/15 [00:00<?, ?it/s]\u001b[A\n",
            "  7%|▋         | 1/15 [00:08<02:03,  8.83s/it]\u001b[A\n",
            " 13%|█▎        | 2/15 [00:17<01:55,  8.86s/it]\u001b[A\n",
            " 20%|██        | 3/15 [00:26<01:46,  8.86s/it]\u001b[A\n",
            " 27%|██▋       | 4/15 [00:35<01:37,  8.82s/it]\u001b[A\n",
            " 33%|███▎      | 5/15 [00:44<01:27,  8.80s/it]\u001b[A\n",
            " 40%|████      | 6/15 [00:53<01:19,  8.85s/it]\u001b[A\n",
            " 47%|████▋     | 7/15 [01:01<01:10,  8.83s/it]\u001b[A\n",
            " 53%|█████▎    | 8/15 [01:10<01:02,  8.87s/it]\u001b[A\n",
            " 60%|██████    | 9/15 [01:19<00:53,  8.86s/it]\u001b[A\n",
            " 67%|██████▋   | 10/15 [01:28<00:44,  8.85s/it]\u001b[A\n",
            " 73%|███████▎  | 11/15 [01:37<00:35,  8.83s/it]\u001b[A\n",
            " 80%|████████  | 12/15 [01:46<00:26,  8.82s/it]\u001b[A\n",
            " 87%|████████▋ | 13/15 [01:54<00:17,  8.83s/it]\u001b[A\n",
            " 93%|█████████▎| 14/15 [02:03<00:08,  8.83s/it]\u001b[A\n",
            "100%|██████████| 15/15 [02:12<00:00,  8.84s/it]\n",
            " 87%|████████▋ | 13/15 [25:28<03:03, 91.58s/it]"
          ]
        },
        {
          "output_type": "stream",
          "name": "stdout",
          "text": [
            "Model  14\n",
            "Network parameters: {'device': device(type='cuda'), 'num_epochs': 15, 'n_channels': 5, 'pdrop1d': 0.1513858862496674, 'pdrop2d': 0.11209982822314316, 'optimizer': 'sgd', 'momentum': 0.9356495937336917, 'learning_rate': 0.000520382608005761, 'reg_param': 0.0017437632477293418}\n",
            "Network initialized\n"
          ]
        },
        {
          "output_type": "stream",
          "name": "stderr",
          "text": [
            "\n",
            "  0%|          | 0/15 [00:00<?, ?it/s]\u001b[A\n",
            "  7%|▋         | 1/15 [00:08<02:03,  8.80s/it]\u001b[A\n",
            " 13%|█▎        | 2/15 [00:17<01:54,  8.82s/it]\u001b[A\n",
            " 20%|██        | 3/15 [00:26<01:45,  8.83s/it]\u001b[A\n",
            " 27%|██▋       | 4/15 [00:35<01:37,  8.86s/it]\u001b[A\n",
            " 33%|███▎      | 5/15 [00:44<01:28,  8.90s/it]\u001b[A\n",
            " 40%|████      | 6/15 [00:53<01:19,  8.87s/it]\u001b[A\n",
            " 47%|████▋     | 7/15 [01:01<01:10,  8.83s/it]\u001b[A\n",
            " 53%|█████▎    | 8/15 [01:10<01:01,  8.80s/it]\u001b[A\n",
            " 60%|██████    | 9/15 [01:19<00:52,  8.81s/it]\u001b[A\n",
            " 67%|██████▋   | 10/15 [01:28<00:44,  8.81s/it]\u001b[A\n",
            " 73%|███████▎  | 11/15 [01:37<00:35,  8.82s/it]\u001b[A\n",
            " 80%|████████  | 12/15 [01:45<00:26,  8.82s/it]\u001b[A\n",
            " 87%|████████▋ | 13/15 [01:54<00:17,  8.81s/it]\u001b[A\n",
            " 93%|█████████▎| 14/15 [02:03<00:08,  8.79s/it]\u001b[A\n",
            "100%|██████████| 15/15 [02:12<00:00,  8.81s/it]\n",
            " 93%|█████████▎| 14/15 [27:40<01:43, 103.84s/it]"
          ]
        },
        {
          "output_type": "stream",
          "name": "stdout",
          "text": [
            "Model  15\n",
            "Network parameters: {'device': device(type='cuda'), 'num_epochs': 15, 'n_channels': 9, 'pdrop1d': 0.013549028493914594, 'pdrop2d': 0.07532029478862792, 'optimizer': 'sgd', 'momentum': 0.6599246595804791, 'learning_rate': 0.000520382608005761, 'reg_param': 0.0015189658285122115}\n",
            "Network initialized\n"
          ]
        },
        {
          "output_type": "stream",
          "name": "stderr",
          "text": [
            "\n",
            "  0%|          | 0/15 [00:00<?, ?it/s]\u001b[A\n",
            "  7%|▋         | 1/15 [00:08<02:05,  8.98s/it]\u001b[A\n",
            " 13%|█▎        | 2/15 [00:18<01:57,  9.06s/it]\u001b[A\n",
            " 20%|██        | 3/15 [00:27<01:48,  9.05s/it]\u001b[A\n",
            " 27%|██▋       | 4/15 [00:36<01:39,  9.06s/it]\u001b[A\n",
            " 33%|███▎      | 5/15 [00:45<01:30,  9.07s/it]\u001b[A\n",
            " 40%|████      | 6/15 [00:54<01:21,  9.06s/it]\u001b[A\n",
            " 47%|████▋     | 7/15 [01:03<01:12,  9.06s/it]\u001b[A\n",
            " 53%|█████▎    | 8/15 [01:12<01:03,  9.07s/it]\u001b[A\n",
            " 60%|██████    | 9/15 [01:21<00:54,  9.09s/it]\u001b[A\n",
            " 67%|██████▋   | 10/15 [01:30<00:45,  9.10s/it]\u001b[A\n",
            " 73%|███████▎  | 11/15 [01:39<00:36,  9.07s/it]\u001b[A\n",
            " 80%|████████  | 12/15 [01:48<00:27,  9.05s/it]\u001b[A\n",
            " 87%|████████▋ | 13/15 [01:57<00:18,  9.07s/it]\u001b[A\n",
            " 93%|█████████▎| 14/15 [02:06<00:09,  9.05s/it]\u001b[A\n",
            "100%|██████████| 15/15 [02:15<00:00,  9.06s/it]\n",
            "100%|██████████| 15/15 [29:56<00:00, 119.74s/it]\n"
          ]
        }
      ]
    },
    {
      "cell_type": "code",
      "source": [
        "plt.clf()\n",
        "fig, ax = plt.subplots(1, 2, figsize=(16,6))\n",
        "\n",
        "for tr_l in train_loss_rs:\n",
        "    ax[0].plot(tr_l)\n",
        "    \n",
        "ax[0].set_ylabel('Loss', fontsize=24)\n",
        "ax[0].set_xlabel('Epoch', fontsize=24)\n",
        "ax[0].set_title('Training', fontsize=30)\n",
        "\n",
        "for val in valid_loss_rs:\n",
        "    ax[1].plot(val)\n",
        "    \n",
        "ax[1].set_ylabel('Loss', fontsize=24)\n",
        "ax[1].set_xlabel('Epoch', fontsize=24)\n",
        "ax[1].set_title('Validation', fontsize=30)\n",
        "\n",
        "plt.savefig('FashionMNIST_tr_val_loss.png')\n",
        "plt.show()"
      ],
      "metadata": {
        "colab": {
          "base_uri": "https://localhost:8080/",
          "height": 448
        },
        "id": "RH-11oZy2Ibo",
        "outputId": "f9f0fcd7-cf04-4ed0-e793-a730b52c4b4e"
      },
      "execution_count": null,
      "outputs": [
        {
          "output_type": "display_data",
          "data": {
            "text/plain": [
              "<Figure size 432x288 with 0 Axes>"
            ]
          },
          "metadata": {}
        },
        {
          "output_type": "display_data",
          "data": {
            "image/png": "[encoded data removed]",
            "text/plain": [
              "<Figure size 1152x432 with 2 Axes>"
            ]
          },
          "metadata": {
            "needs_background": "light"
          }
        }
      ]
    },
    {
      "cell_type": "code",
      "source": [
        "plt.clf()\n",
        "fig, ax = plt.subplots(1, 2, figsize=(16,6))\n",
        "\n",
        "for tr_l in train_loss_rs:\n",
        "    ax[0].semilogy(tr_l)\n",
        "    \n",
        "ax[0].set_ylabel('Loss', fontsize=24)\n",
        "ax[0].set_xlabel('Epoch', fontsize=24)\n",
        "ax[0].set_title('Training', fontsize=30)\n",
        "\n",
        "for val in valid_loss_rs:\n",
        "    ax[1].semilogy(val)\n",
        "    \n",
        "ax[1].set_ylabel('Loss', fontsize=24)\n",
        "ax[1].set_xlabel('Epoch', fontsize=24)\n",
        "ax[1].set_title('Validation', fontsize=30)\n",
        "\n",
        "plt.savefig('FashionMNIST_tr_val_loss_log.png')\n",
        "plt.show()"
      ],
      "metadata": {
        "colab": {
          "base_uri": "https://localhost:8080/",
          "height": 448
        },
        "id": "cxrpghG1sfVD",
        "outputId": "68fdf4ae-28a6-4e55-ac13-ccee3120c5bf"
      },
      "execution_count": null,
      "outputs": [
        {
          "output_type": "display_data",
          "data": {
            "text/plain": [
              "<Figure size 432x288 with 0 Axes>"
            ]
          },
          "metadata": {}
        },
        {
          "output_type": "display_data",
          "data": {
            "image/png": "[encoded data removed]",
            "text/plain": [
              "<Figure size 1152x432 with 2 Axes>"
            ]
          },
          "metadata": {
            "needs_background": "light"
          }
        }
      ]
    },
    {
      "cell_type": "code",
      "source": [
        "avg_val_loss = [np.mean(vl) for vl in valid_loss_rs]\n",
        "min_val_loss = [vl[-1] for vl in valid_loss_rs]\n",
        "print('Minimum average validation losses (top 10):', np.sort(avg_val_loss)[:10])\n",
        "print(np.argmin(avg_val_loss))\n",
        "print(np.argmin(min_val_loss))"
      ],
      "metadata": {
        "colab": {
          "base_uri": "https://localhost:8080/"
        },
        "id": "vZG8De1H3hJL",
        "outputId": "0b3d06b1-a912-4a1c-fb61-c20e30472de4"
      },
      "execution_count": null,
      "outputs": [
        {
          "output_type": "stream",
          "name": "stdout",
          "text": [
            "Minimum average validation losses (top 10): [0.29165184 0.29315633 0.38317662 0.47580615 0.5036897  0.5231301\n",
            " 0.528465   0.7227259  0.8573034  1.0455825 ]\n",
            "0\n",
            "5\n"
          ]
        }
      ]
    },
    {
      "cell_type": "code",
      "source": [
        "for i, pars in enumerate(net_params):\n",
        "    pars['avg_train_loss'] = np.mean(train_loss_rs[i])\n",
        "    pars['avg_valid_loss'] = np.mean(valid_loss_rs[i])\n",
        "    pars.pop('device')   # remove device parameter before saving the grid search results\n",
        "    for k in pars.keys():\n",
        "        if k!= 'optimizer':\n",
        "            pars[k] = float(pars[k]) \n",
        "\n",
        "print(net_params)"
      ],
      "metadata": {
        "colab": {
          "base_uri": "https://localhost:8080/"
        },
        "id": "-y7IXmmu3hsk",
        "outputId": "f3c107a9-e9ae-43b2-e353-75cbd63ae4f6"
      },
      "execution_count": null,
      "outputs": [
        {
          "output_type": "stream",
          "name": "stdout",
          "text": [
            "[{'num_epochs': 15.0, 'n_channels': 9.0, 'pdrop1d': 0.1662857764109922, 'pdrop2d': 0.14656503063798654, 'optimizer': 'adam', 'momentum': 0.626704227631114, 'learning_rate': 0.003197594206352734, 'reg_param': 0.0004986624637438257, 'final_loss': 0.25950103998184204, 'avg_train_loss': 0.31442153453826904, 'avg_valid_loss': 0.2916518449783325}, {'num_epochs': 15.0, 'n_channels': 6.0, 'pdrop1d': 0.08090877273778954, 'pdrop2d': 0.2134587302306889, 'optimizer': 'sgd', 'momentum': 0.8897704872425243, 'learning_rate': 0.0007969292931474134, 'reg_param': 0.0004509254414130406, 'final_loss': 0.5248467326164246, 'avg_train_loss': 1.1487579345703125, 'avg_valid_loss': 1.0455825328826904}, {'num_epochs': 15.0, 'n_channels': 10.0, 'pdrop1d': 0.08402821083910789, 'pdrop2d': 0.019516973867168386, 'optimizer': 'adam', 'momentum': 0.8910789150109428, 'learning_rate': 1.0838529055446877e-05, 'reg_param': 0.0017437632477293418, 'final_loss': 0.7124173641204834, 'avg_train_loss': 1.1417218446731567, 'avg_valid_loss': 1.060553789138794}, {'num_epochs': 12.0, 'n_channels': 10.0, 'pdrop1d': 0.1707072062565491, 'pdrop2d': 0.10450410944000538, 'optimizer': 'adam', 'momentum': 0.8884650256131368, 'learning_rate': 0.0021585403505821684, 'reg_param': 0.021622974746968053, 'final_loss': 0.48606449365615845, 'avg_train_loss': 0.5694587230682373, 'avg_valid_loss': 0.503689706325531}, {'num_epochs': 15.0, 'n_channels': 4.0, 'pdrop1d': 0.059557485606310634, 'pdrop2d': 0.07532029478862792, 'optimizer': 'adam', 'momentum': 0.7262582458856524, 'learning_rate': 0.00018729531117450956, 'reg_param': 0.0005931909388418126, 'final_loss': 0.40969061851501465, 'avg_train_loss': 0.6025753617286682, 'avg_valid_loss': 0.5231301188468933}, {'num_epochs': 15.0, 'n_channels': 9.0, 'pdrop1d': 0.1707072062565491, 'pdrop2d': 0.05628865952033618, 'optimizer': 'adam', 'momentum': 0.6344674798471595, 'learning_rate': 0.001951997628780558, 'reg_param': 0.0003254975021553702, 'final_loss': 0.24991901218891144, 'avg_train_loss': 0.32393065094947815, 'avg_valid_loss': 0.29315632581710815}, {'num_epochs': 12.0, 'n_channels': 6.0, 'pdrop1d': 0.15695699083843337, 'pdrop2d': 0.08413067114148787, 'optimizer': 'adam', 'momentum': 0.856313748533497, 'learning_rate': 0.0007969292931474134, 'reg_param': 0.021622974746968053, 'final_loss': 0.49729642271995544, 'avg_train_loss': 0.5881932973861694, 'avg_valid_loss': 0.5284649729728699}, {'num_epochs': 15.0, 'n_channels': 4.0, 'pdrop1d': 0.0343830825447102, 'pdrop2d': 0.10450410944000538, 'optimizer': 'adam', 'momentum': 0.5178889291423902, 'learning_rate': 1.0838529055446877e-05, 'reg_param': 0.0008358762617355274, 'final_loss': 0.9038569927215576, 'avg_train_loss': 1.564165711402893, 'avg_valid_loss': 1.4956090450286865}, {'num_epochs': 15.0, 'n_channels': 10.0, 'pdrop1d': 0.13093053523657242, 'pdrop2d': 0.13820053388121864, 'optimizer': 'adam', 'momentum': 0.626704227631114, 'learning_rate': 0.00018729531117450956, 'reg_param': 0.001989943766842918, 'final_loss': 0.36671629548072815, 'avg_train_loss': 0.5444313883781433, 'avg_valid_loss': 0.4758061468601227}, {'num_epochs': 15.0, 'n_channels': 5.0, 'pdrop1d': 0.24047664880891598, 'pdrop2d': 0.08413067114148787, 'optimizer': 'adam', 'momentum': 0.626704227631114, 'learning_rate': 0.0007969292931474134, 'reg_param': 0.0008358762617355274, 'final_loss': 0.31843605637550354, 'avg_train_loss': 0.44959643483161926, 'avg_valid_loss': 0.38317662477493286}, {'num_epochs': 1.0, 'n_channels': 5.0, 'pdrop1d': 0.08090877273778954, 'pdrop2d': 0.14727526373532676, 'optimizer': 'sgd', 'momentum': 0.626704227631114, 'learning_rate': 1.0838529055446877e-05, 'reg_param': 0.001989943766842918, 'final_loss': 2.2995283603668213, 'avg_train_loss': 2.3002703189849854, 'avg_valid_loss': 2.2995691299438477}, {'num_epochs': 1.0, 'n_channels': 6.0, 'pdrop1d': 0.22073095156092878, 'pdrop2d': 0.01997201474010349, 'optimizer': 'sgd', 'momentum': 0.777375344139875, 'learning_rate': 2.2871923492605465e-05, 'reg_param': 0.0004986624637438257, 'final_loss': 2.3002190589904785, 'avg_train_loss': 2.3010168075561523, 'avg_valid_loss': 2.3003313541412354}, {'num_epochs': 15.0, 'n_channels': 6.0, 'pdrop1d': 0.15695699083843337, 'pdrop2d': 0.10450410944000538, 'optimizer': 'sgd', 'momentum': 0.7262582458856524, 'learning_rate': 0.002032404762362631, 'reg_param': 0.001989943766842918, 'final_loss': 0.5421826839447021, 'avg_train_loss': 0.954893946647644, 'avg_valid_loss': 0.8573033809661865}, {'num_epochs': 15.0, 'n_channels': 5.0, 'pdrop1d': 0.1513858862496674, 'pdrop2d': 0.11209982822314316, 'optimizer': 'sgd', 'momentum': 0.9356495937336917, 'learning_rate': 0.000520382608005761, 'reg_param': 0.0017437632477293418, 'final_loss': 0.49442124366760254, 'avg_train_loss': 0.8192550539970398, 'avg_valid_loss': 0.7227259278297424}, {'num_epochs': 15.0, 'n_channels': 9.0, 'pdrop1d': 0.013549028493914594, 'pdrop2d': 0.07532029478862792, 'optimizer': 'sgd', 'momentum': 0.6599246595804791, 'learning_rate': 0.000520382608005761, 'reg_param': 0.0015189658285122115, 'final_loss': 0.7741564512252808, 'avg_train_loss': 1.4959806203842163, 'avg_valid_loss': 1.429451584815979}]\n"
          ]
        }
      ]
    },
    {
      "cell_type": "markdown",
      "source": [
        "Select best net"
      ],
      "metadata": {
        "id": "g0FZLDlR9j5k"
      }
    },
    {
      "cell_type": "code",
      "source": [
        "best_net = net_params[np.argmin([i['avg_valid_loss'] for i in net_params])]\n",
        "print('Best network parameters:', best_net)"
      ],
      "metadata": {
        "colab": {
          "base_uri": "https://localhost:8080/"
        },
        "id": "PDytMzSG9YyM",
        "outputId": "35632eed-8642-4000-ecff-e9bc2fe67c03"
      },
      "execution_count": null,
      "outputs": [
        {
          "output_type": "stream",
          "name": "stdout",
          "text": [
            "Best network parameters: {'num_epochs': 15.0, 'n_channels': 9.0, 'pdrop1d': 0.1662857764109922, 'pdrop2d': 0.14656503063798654, 'optimizer': 'adam', 'momentum': 0.626704227631114, 'learning_rate': 0.003197594206352734, 'reg_param': 0.0004986624637438257, 'final_loss': 0.25950103998184204, 'avg_train_loss': 0.31442153453826904, 'avg_valid_loss': 0.2916518449783325}\n"
          ]
        }
      ]
    },
    {
      "cell_type": "markdown",
      "source": [
        "Test final_net performances"
      ],
      "metadata": {
        "id": "flz_0lQZ9tcC"
      }
    },
    {
      "cell_type": "code",
      "source": [
        "# use full train set to train, test set to validate model\n",
        "train_loader_all = torch.utils.data.DataLoader(train_dataset, batch_size=batch_size_train, shuffle=True)\n",
        "\n",
        "# initialize network\n",
        "final_net = CNN(int(best_net['n_channels']), best_net['pdrop2d'], best_net['pdrop1d'] )\n",
        "final_net.to(device)\n",
        "        \n",
        "# initialize loss function\n",
        "loss_func = nn.CrossEntropyLoss() \n",
        "\n",
        "# set up optimizer\n",
        "if best_net['optimizer']=='adam':\n",
        "    optimizer = optim.Adam(final_net.parameters(), lr=best_net['learning_rate'], \n",
        "                     weight_decay=best_net['reg_param'])\n",
        "elif best_net['optimizer']=='sgd':\n",
        "    optimizer = optim.SGD(final_net.parameters(), lr=best_net['learning_rate'], \n",
        "                    momentum=best_net['momentum'], weight_decay=best_net['reg_param'])\n",
        "    \n",
        "best_net['num_epochs'] = 30\n",
        "best_net['device'] = device\n",
        "verbose = True # see training process checkpoints\n",
        "\n",
        "# Training and testing\n",
        "best_train_loss, best_test_loss = final_net.fitting(train_loader_all, test_loader, optimizer,\n",
        "                                                    loss_func, verbose, best_net)"
      ],
      "metadata": {
        "colab": {
          "base_uri": "https://localhost:8080/"
        },
        "id": "QbY6fMqM9oV1",
        "outputId": "a701e110-78d8-4f3e-c590-41d26afee2f4"
      },
      "execution_count": null,
      "outputs": [
        {
          "output_type": "stream",
          "name": "stdout",
          "text": [
            "Network initialized\n"
          ]
        },
        {
          "output_type": "stream",
          "name": "stderr",
          "text": [
            "\r  0%|          | 0/30 [00:00<?, ?it/s]"
          ]
        },
        {
          "output_type": "stream",
          "name": "stdout",
          "text": [
            "Train Epoch: 1 [0/60000 (0%)]\tLoss: 2.308060\n",
            "Train Epoch: 1 [1920/60000 (3%)]\tLoss: 1.567408\n",
            "Train Epoch: 1 [3840/60000 (6%)]\tLoss: 0.982205\n",
            "Train Epoch: 1 [5760/60000 (10%)]\tLoss: 0.977561\n",
            "Train Epoch: 1 [7680/60000 (13%)]\tLoss: 0.775772\n",
            "Train Epoch: 1 [9600/60000 (16%)]\tLoss: 0.741803\n",
            "Train Epoch: 1 [11520/60000 (19%)]\tLoss: 0.663177\n",
            "Train Epoch: 1 [13440/60000 (22%)]\tLoss: 0.674195\n",
            "Train Epoch: 1 [15360/60000 (26%)]\tLoss: 0.690433\n",
            "Train Epoch: 1 [17280/60000 (29%)]\tLoss: 0.589582\n",
            "Train Epoch: 1 [19200/60000 (32%)]\tLoss: 0.606409\n",
            "Train Epoch: 1 [21120/60000 (35%)]\tLoss: 0.624775\n",
            "Train Epoch: 1 [23040/60000 (38%)]\tLoss: 0.516269\n",
            "Train Epoch: 1 [24960/60000 (42%)]\tLoss: 0.532731\n",
            "Train Epoch: 1 [26880/60000 (45%)]\tLoss: 0.450809\n",
            "Train Epoch: 1 [28800/60000 (48%)]\tLoss: 0.568819\n",
            "Train Epoch: 1 [30720/60000 (51%)]\tLoss: 0.593218\n",
            "Train Epoch: 1 [32640/60000 (54%)]\tLoss: 0.516442\n",
            "Train Epoch: 1 [34560/60000 (58%)]\tLoss: 0.630211\n",
            "Train Epoch: 1 [36480/60000 (61%)]\tLoss: 0.413588\n",
            "Train Epoch: 1 [38400/60000 (64%)]\tLoss: 0.428726\n",
            "Train Epoch: 1 [40320/60000 (67%)]\tLoss: 0.451797\n",
            "Train Epoch: 1 [42240/60000 (70%)]\tLoss: 0.557686\n",
            "Train Epoch: 1 [44160/60000 (73%)]\tLoss: 0.417727\n",
            "Train Epoch: 1 [46080/60000 (77%)]\tLoss: 0.506577\n",
            "Train Epoch: 1 [48000/60000 (80%)]\tLoss: 0.446643\n",
            "Train Epoch: 1 [49920/60000 (83%)]\tLoss: 0.536692\n",
            "Train Epoch: 1 [51840/60000 (86%)]\tLoss: 0.434563\n",
            "Train Epoch: 1 [53760/60000 (89%)]\tLoss: 0.426498\n",
            "Train Epoch: 1 [55680/60000 (93%)]\tLoss: 0.362950\n",
            "Train Epoch: 1 [57600/60000 (96%)]\tLoss: 0.529883\n",
            "Train Epoch: 1 [59520/60000 (99%)]\tLoss: 0.543857\n"
          ]
        },
        {
          "output_type": "stream",
          "name": "stderr",
          "text": [
            "\r  3%|▎         | 1/30 [00:11<05:21, 11.07s/it]"
          ]
        },
        {
          "output_type": "stream",
          "name": "stdout",
          "text": [
            "Train Epoch: 2 [0/60000 (0%)]\tLoss: 0.381602\n",
            "Train Epoch: 2 [1920/60000 (3%)]\tLoss: 0.446562\n",
            "Train Epoch: 2 [3840/60000 (6%)]\tLoss: 0.404537\n",
            "Train Epoch: 2 [5760/60000 (10%)]\tLoss: 0.402520\n",
            "Train Epoch: 2 [7680/60000 (13%)]\tLoss: 0.392052\n",
            "Train Epoch: 2 [9600/60000 (16%)]\tLoss: 0.513614\n",
            "Train Epoch: 2 [11520/60000 (19%)]\tLoss: 0.473770\n",
            "Train Epoch: 2 [13440/60000 (22%)]\tLoss: 0.551902\n",
            "Train Epoch: 2 [15360/60000 (26%)]\tLoss: 0.481308\n",
            "Train Epoch: 2 [17280/60000 (29%)]\tLoss: 0.544106\n",
            "Train Epoch: 2 [19200/60000 (32%)]\tLoss: 0.438494\n",
            "Train Epoch: 2 [21120/60000 (35%)]\tLoss: 0.555067\n",
            "Train Epoch: 2 [23040/60000 (38%)]\tLoss: 0.425972\n",
            "Train Epoch: 2 [24960/60000 (42%)]\tLoss: 0.351582\n",
            "Train Epoch: 2 [26880/60000 (45%)]\tLoss: 0.496635\n",
            "Train Epoch: 2 [28800/60000 (48%)]\tLoss: 0.330985\n",
            "Train Epoch: 2 [30720/60000 (51%)]\tLoss: 0.495650\n",
            "Train Epoch: 2 [32640/60000 (54%)]\tLoss: 0.417849\n",
            "Train Epoch: 2 [34560/60000 (58%)]\tLoss: 0.387418\n",
            "Train Epoch: 2 [36480/60000 (61%)]\tLoss: 0.416824\n",
            "Train Epoch: 2 [38400/60000 (64%)]\tLoss: 0.443494\n",
            "Train Epoch: 2 [40320/60000 (67%)]\tLoss: 0.415049\n",
            "Train Epoch: 2 [42240/60000 (70%)]\tLoss: 0.368565\n",
            "Train Epoch: 2 [44160/60000 (73%)]\tLoss: 0.416527\n",
            "Train Epoch: 2 [46080/60000 (77%)]\tLoss: 0.450218\n",
            "Train Epoch: 2 [48000/60000 (80%)]\tLoss: 0.386619\n",
            "Train Epoch: 2 [49920/60000 (83%)]\tLoss: 0.436229\n",
            "Train Epoch: 2 [51840/60000 (86%)]\tLoss: 0.359023\n",
            "Train Epoch: 2 [53760/60000 (89%)]\tLoss: 0.356419\n",
            "Train Epoch: 2 [55680/60000 (93%)]\tLoss: 0.349407\n",
            "Train Epoch: 2 [57600/60000 (96%)]\tLoss: 0.330045\n",
            "Train Epoch: 2 [59520/60000 (99%)]\tLoss: 0.384290\n"
          ]
        },
        {
          "output_type": "stream",
          "name": "stderr",
          "text": [
            "\r  7%|▋         | 2/30 [00:22<05:08, 11.03s/it]"
          ]
        },
        {
          "output_type": "stream",
          "name": "stdout",
          "text": [
            "Train Epoch: 3 [0/60000 (0%)]\tLoss: 0.376707\n",
            "Train Epoch: 3 [1920/60000 (3%)]\tLoss: 0.476104\n",
            "Train Epoch: 3 [3840/60000 (6%)]\tLoss: 0.393574\n",
            "Train Epoch: 3 [5760/60000 (10%)]\tLoss: 0.382794\n",
            "Train Epoch: 3 [7680/60000 (13%)]\tLoss: 0.335918\n",
            "Train Epoch: 3 [9600/60000 (16%)]\tLoss: 0.267573\n",
            "Train Epoch: 3 [11520/60000 (19%)]\tLoss: 0.322815\n",
            "Train Epoch: 3 [13440/60000 (22%)]\tLoss: 0.357021\n",
            "Train Epoch: 3 [15360/60000 (26%)]\tLoss: 0.424893\n",
            "Train Epoch: 3 [17280/60000 (29%)]\tLoss: 0.410587\n",
            "Train Epoch: 3 [19200/60000 (32%)]\tLoss: 0.353500\n",
            "Train Epoch: 3 [21120/60000 (35%)]\tLoss: 0.526589\n",
            "Train Epoch: 3 [23040/60000 (38%)]\tLoss: 0.329917\n",
            "Train Epoch: 3 [24960/60000 (42%)]\tLoss: 0.401552\n",
            "Train Epoch: 3 [26880/60000 (45%)]\tLoss: 0.331344\n",
            "Train Epoch: 3 [28800/60000 (48%)]\tLoss: 0.323583\n",
            "Train Epoch: 3 [30720/60000 (51%)]\tLoss: 0.295335\n",
            "Train Epoch: 3 [32640/60000 (54%)]\tLoss: 0.353284\n",
            "Train Epoch: 3 [34560/60000 (58%)]\tLoss: 0.441992\n",
            "Train Epoch: 3 [36480/60000 (61%)]\tLoss: 0.331860\n",
            "Train Epoch: 3 [38400/60000 (64%)]\tLoss: 0.354122\n",
            "Train Epoch: 3 [40320/60000 (67%)]\tLoss: 0.407537\n",
            "Train Epoch: 3 [42240/60000 (70%)]\tLoss: 0.358703\n",
            "Train Epoch: 3 [44160/60000 (73%)]\tLoss: 0.308688\n",
            "Train Epoch: 3 [46080/60000 (77%)]\tLoss: 0.450009\n",
            "Train Epoch: 3 [48000/60000 (80%)]\tLoss: 0.341408\n",
            "Train Epoch: 3 [49920/60000 (83%)]\tLoss: 0.369801\n",
            "Train Epoch: 3 [51840/60000 (86%)]\tLoss: 0.348430\n",
            "Train Epoch: 3 [53760/60000 (89%)]\tLoss: 0.343347\n",
            "Train Epoch: 3 [55680/60000 (93%)]\tLoss: 0.332497\n",
            "Train Epoch: 3 [57600/60000 (96%)]\tLoss: 0.320185\n",
            "Train Epoch: 3 [59520/60000 (99%)]\tLoss: 0.366236\n"
          ]
        },
        {
          "output_type": "stream",
          "name": "stderr",
          "text": [
            "\r 10%|█         | 3/30 [00:33<04:57, 11.03s/it]"
          ]
        },
        {
          "output_type": "stream",
          "name": "stdout",
          "text": [
            "Train Epoch: 4 [0/60000 (0%)]\tLoss: 0.308996\n",
            "Train Epoch: 4 [1920/60000 (3%)]\tLoss: 0.277448\n",
            "Train Epoch: 4 [3840/60000 (6%)]\tLoss: 0.331845\n",
            "Train Epoch: 4 [5760/60000 (10%)]\tLoss: 0.427128\n",
            "Train Epoch: 4 [7680/60000 (13%)]\tLoss: 0.327648\n",
            "Train Epoch: 4 [9600/60000 (16%)]\tLoss: 0.340984\n",
            "Train Epoch: 4 [11520/60000 (19%)]\tLoss: 0.364693\n",
            "Train Epoch: 4 [13440/60000 (22%)]\tLoss: 0.470541\n",
            "Train Epoch: 4 [15360/60000 (26%)]\tLoss: 0.370799\n",
            "Train Epoch: 4 [17280/60000 (29%)]\tLoss: 0.389045\n",
            "Train Epoch: 4 [19200/60000 (32%)]\tLoss: 0.340723\n",
            "Train Epoch: 4 [21120/60000 (35%)]\tLoss: 0.381120\n",
            "Train Epoch: 4 [23040/60000 (38%)]\tLoss: 0.327561\n",
            "Train Epoch: 4 [24960/60000 (42%)]\tLoss: 0.213195\n",
            "Train Epoch: 4 [26880/60000 (45%)]\tLoss: 0.360193\n",
            "Train Epoch: 4 [28800/60000 (48%)]\tLoss: 0.268064\n",
            "Train Epoch: 4 [30720/60000 (51%)]\tLoss: 0.308536\n",
            "Train Epoch: 4 [32640/60000 (54%)]\tLoss: 0.321509\n",
            "Train Epoch: 4 [34560/60000 (58%)]\tLoss: 0.227788\n",
            "Train Epoch: 4 [36480/60000 (61%)]\tLoss: 0.250474\n",
            "Train Epoch: 4 [38400/60000 (64%)]\tLoss: 0.317507\n",
            "Train Epoch: 4 [40320/60000 (67%)]\tLoss: 0.378153\n",
            "Train Epoch: 4 [42240/60000 (70%)]\tLoss: 0.239415\n",
            "Train Epoch: 4 [44160/60000 (73%)]\tLoss: 0.273647\n",
            "Train Epoch: 4 [46080/60000 (77%)]\tLoss: 0.451696\n",
            "Train Epoch: 4 [48000/60000 (80%)]\tLoss: 0.318445\n",
            "Train Epoch: 4 [49920/60000 (83%)]\tLoss: 0.290527\n",
            "Train Epoch: 4 [51840/60000 (86%)]\tLoss: 0.254744\n",
            "Train Epoch: 4 [53760/60000 (89%)]\tLoss: 0.324055\n",
            "Train Epoch: 4 [55680/60000 (93%)]\tLoss: 0.379831\n",
            "Train Epoch: 4 [57600/60000 (96%)]\tLoss: 0.328377\n",
            "Train Epoch: 4 [59520/60000 (99%)]\tLoss: 0.260140\n"
          ]
        },
        {
          "output_type": "stream",
          "name": "stderr",
          "text": [
            "\r 13%|█▎        | 4/30 [00:44<04:46, 11.03s/it]"
          ]
        },
        {
          "output_type": "stream",
          "name": "stdout",
          "text": [
            "Train Epoch: 5 [0/60000 (0%)]\tLoss: 0.219404\n",
            "Train Epoch: 5 [1920/60000 (3%)]\tLoss: 0.328028\n",
            "Train Epoch: 5 [3840/60000 (6%)]\tLoss: 0.272179\n",
            "Train Epoch: 5 [5760/60000 (10%)]\tLoss: 0.358809\n",
            "Train Epoch: 5 [7680/60000 (13%)]\tLoss: 0.334309\n",
            "Train Epoch: 5 [9600/60000 (16%)]\tLoss: 0.258884\n",
            "Train Epoch: 5 [11520/60000 (19%)]\tLoss: 0.320403\n",
            "Train Epoch: 5 [13440/60000 (22%)]\tLoss: 0.310025\n",
            "Train Epoch: 5 [15360/60000 (26%)]\tLoss: 0.325405\n",
            "Train Epoch: 5 [17280/60000 (29%)]\tLoss: 0.400001\n",
            "Train Epoch: 5 [19200/60000 (32%)]\tLoss: 0.361540\n",
            "Train Epoch: 5 [21120/60000 (35%)]\tLoss: 0.317081\n",
            "Train Epoch: 5 [23040/60000 (38%)]\tLoss: 0.271922\n",
            "Train Epoch: 5 [24960/60000 (42%)]\tLoss: 0.284460\n",
            "Train Epoch: 5 [26880/60000 (45%)]\tLoss: 0.195433\n",
            "Train Epoch: 5 [28800/60000 (48%)]\tLoss: 0.317618\n",
            "Train Epoch: 5 [30720/60000 (51%)]\tLoss: 0.347856\n",
            "Train Epoch: 5 [32640/60000 (54%)]\tLoss: 0.328631\n",
            "Train Epoch: 5 [34560/60000 (58%)]\tLoss: 0.243990\n",
            "Train Epoch: 5 [36480/60000 (61%)]\tLoss: 0.327401\n",
            "Train Epoch: 5 [38400/60000 (64%)]\tLoss: 0.441321\n",
            "Train Epoch: 5 [40320/60000 (67%)]\tLoss: 0.312143\n",
            "Train Epoch: 5 [42240/60000 (70%)]\tLoss: 0.322447\n",
            "Train Epoch: 5 [44160/60000 (73%)]\tLoss: 0.214175\n",
            "Train Epoch: 5 [46080/60000 (77%)]\tLoss: 0.270711\n",
            "Train Epoch: 5 [48000/60000 (80%)]\tLoss: 0.342353\n",
            "Train Epoch: 5 [49920/60000 (83%)]\tLoss: 0.258503\n",
            "Train Epoch: 5 [51840/60000 (86%)]\tLoss: 0.279715\n",
            "Train Epoch: 5 [53760/60000 (89%)]\tLoss: 0.368428\n",
            "Train Epoch: 5 [55680/60000 (93%)]\tLoss: 0.357058\n",
            "Train Epoch: 5 [57600/60000 (96%)]\tLoss: 0.286212\n",
            "Train Epoch: 5 [59520/60000 (99%)]\tLoss: 0.356780\n"
          ]
        },
        {
          "output_type": "stream",
          "name": "stderr",
          "text": [
            "\r 17%|█▋        | 5/30 [00:55<04:36, 11.04s/it]"
          ]
        },
        {
          "output_type": "stream",
          "name": "stdout",
          "text": [
            "Train Epoch: 6 [0/60000 (0%)]\tLoss: 0.318125\n",
            "Train Epoch: 6 [1920/60000 (3%)]\tLoss: 0.292372\n",
            "Train Epoch: 6 [3840/60000 (6%)]\tLoss: 0.328521\n",
            "Train Epoch: 6 [5760/60000 (10%)]\tLoss: 0.279677\n",
            "Train Epoch: 6 [7680/60000 (13%)]\tLoss: 0.298055\n",
            "Train Epoch: 6 [9600/60000 (16%)]\tLoss: 0.362663\n",
            "Train Epoch: 6 [11520/60000 (19%)]\tLoss: 0.321169\n",
            "Train Epoch: 6 [13440/60000 (22%)]\tLoss: 0.259705\n",
            "Train Epoch: 6 [15360/60000 (26%)]\tLoss: 0.304428\n",
            "Train Epoch: 6 [17280/60000 (29%)]\tLoss: 0.289028\n",
            "Train Epoch: 6 [19200/60000 (32%)]\tLoss: 0.400351\n",
            "Train Epoch: 6 [21120/60000 (35%)]\tLoss: 0.294776\n",
            "Train Epoch: 6 [23040/60000 (38%)]\tLoss: 0.317460\n",
            "Train Epoch: 6 [24960/60000 (42%)]\tLoss: 0.284950\n",
            "Train Epoch: 6 [26880/60000 (45%)]\tLoss: 0.397668\n",
            "Train Epoch: 6 [28800/60000 (48%)]\tLoss: 0.434451\n",
            "Train Epoch: 6 [30720/60000 (51%)]\tLoss: 0.372370\n",
            "Train Epoch: 6 [32640/60000 (54%)]\tLoss: 0.272008\n",
            "Train Epoch: 6 [34560/60000 (58%)]\tLoss: 0.392788\n",
            "Train Epoch: 6 [36480/60000 (61%)]\tLoss: 0.343421\n",
            "Train Epoch: 6 [38400/60000 (64%)]\tLoss: 0.372899\n",
            "Train Epoch: 6 [40320/60000 (67%)]\tLoss: 0.318188\n",
            "Train Epoch: 6 [42240/60000 (70%)]\tLoss: 0.432533\n",
            "Train Epoch: 6 [44160/60000 (73%)]\tLoss: 0.271492\n",
            "Train Epoch: 6 [46080/60000 (77%)]\tLoss: 0.309936\n",
            "Train Epoch: 6 [48000/60000 (80%)]\tLoss: 0.241423\n",
            "Train Epoch: 6 [49920/60000 (83%)]\tLoss: 0.256770\n",
            "Train Epoch: 6 [51840/60000 (86%)]\tLoss: 0.175905\n",
            "Train Epoch: 6 [53760/60000 (89%)]\tLoss: 0.276479\n",
            "Train Epoch: 6 [55680/60000 (93%)]\tLoss: 0.284321\n",
            "Train Epoch: 6 [57600/60000 (96%)]\tLoss: 0.329485\n",
            "Train Epoch: 6 [59520/60000 (99%)]\tLoss: 0.239516\n"
          ]
        },
        {
          "output_type": "stream",
          "name": "stderr",
          "text": [
            "\r 20%|██        | 6/30 [01:07<04:32, 11.34s/it]"
          ]
        },
        {
          "output_type": "stream",
          "name": "stdout",
          "text": [
            "Train Epoch: 7 [0/60000 (0%)]\tLoss: 0.269159\n",
            "Train Epoch: 7 [1920/60000 (3%)]\tLoss: 0.254330\n",
            "Train Epoch: 7 [3840/60000 (6%)]\tLoss: 0.325397\n",
            "Train Epoch: 7 [5760/60000 (10%)]\tLoss: 0.282572\n",
            "Train Epoch: 7 [7680/60000 (13%)]\tLoss: 0.224521\n",
            "Train Epoch: 7 [9600/60000 (16%)]\tLoss: 0.249298\n",
            "Train Epoch: 7 [11520/60000 (19%)]\tLoss: 0.263717\n",
            "Train Epoch: 7 [13440/60000 (22%)]\tLoss: 0.315268\n",
            "Train Epoch: 7 [15360/60000 (26%)]\tLoss: 0.296129\n",
            "Train Epoch: 7 [17280/60000 (29%)]\tLoss: 0.347573\n",
            "Train Epoch: 7 [19200/60000 (32%)]\tLoss: 0.329084\n",
            "Train Epoch: 7 [21120/60000 (35%)]\tLoss: 0.328918\n",
            "Train Epoch: 7 [23040/60000 (38%)]\tLoss: 0.256899\n",
            "Train Epoch: 7 [24960/60000 (42%)]\tLoss: 0.300784\n",
            "Train Epoch: 7 [26880/60000 (45%)]\tLoss: 0.271555\n",
            "Train Epoch: 7 [28800/60000 (48%)]\tLoss: 0.313811\n",
            "Train Epoch: 7 [30720/60000 (51%)]\tLoss: 0.264642\n",
            "Train Epoch: 7 [32640/60000 (54%)]\tLoss: 0.217263\n",
            "Train Epoch: 7 [34560/60000 (58%)]\tLoss: 0.338742\n",
            "Train Epoch: 7 [36480/60000 (61%)]\tLoss: 0.289085\n",
            "Train Epoch: 7 [38400/60000 (64%)]\tLoss: 0.332155\n",
            "Train Epoch: 7 [40320/60000 (67%)]\tLoss: 0.346545\n",
            "Train Epoch: 7 [42240/60000 (70%)]\tLoss: 0.298067\n",
            "Train Epoch: 7 [44160/60000 (73%)]\tLoss: 0.271276\n",
            "Train Epoch: 7 [46080/60000 (77%)]\tLoss: 0.274993\n",
            "Train Epoch: 7 [48000/60000 (80%)]\tLoss: 0.302491\n",
            "Train Epoch: 7 [49920/60000 (83%)]\tLoss: 0.247024\n",
            "Train Epoch: 7 [51840/60000 (86%)]\tLoss: 0.252954\n",
            "Train Epoch: 7 [53760/60000 (89%)]\tLoss: 0.321869\n",
            "Train Epoch: 7 [55680/60000 (93%)]\tLoss: 0.302500\n",
            "Train Epoch: 7 [57600/60000 (96%)]\tLoss: 0.329233\n",
            "Train Epoch: 7 [59520/60000 (99%)]\tLoss: 0.327965\n"
          ]
        },
        {
          "output_type": "stream",
          "name": "stderr",
          "text": [
            "\r 23%|██▎       | 7/30 [01:18<04:17, 11.21s/it]"
          ]
        },
        {
          "output_type": "stream",
          "name": "stdout",
          "text": [
            "Train Epoch: 8 [0/60000 (0%)]\tLoss: 0.239159\n",
            "Train Epoch: 8 [1920/60000 (3%)]\tLoss: 0.248475\n",
            "Train Epoch: 8 [3840/60000 (6%)]\tLoss: 0.375716\n",
            "Train Epoch: 8 [5760/60000 (10%)]\tLoss: 0.349115\n",
            "Train Epoch: 8 [7680/60000 (13%)]\tLoss: 0.331515\n",
            "Train Epoch: 8 [9600/60000 (16%)]\tLoss: 0.291736\n",
            "Train Epoch: 8 [11520/60000 (19%)]\tLoss: 0.330981\n",
            "Train Epoch: 8 [13440/60000 (22%)]\tLoss: 0.336050\n",
            "Train Epoch: 8 [15360/60000 (26%)]\tLoss: 0.214553\n",
            "Train Epoch: 8 [17280/60000 (29%)]\tLoss: 0.330893\n",
            "Train Epoch: 8 [19200/60000 (32%)]\tLoss: 0.240225\n",
            "Train Epoch: 8 [21120/60000 (35%)]\tLoss: 0.311100\n",
            "Train Epoch: 8 [23040/60000 (38%)]\tLoss: 0.344537\n",
            "Train Epoch: 8 [24960/60000 (42%)]\tLoss: 0.369079\n",
            "Train Epoch: 8 [26880/60000 (45%)]\tLoss: 0.342548\n",
            "Train Epoch: 8 [28800/60000 (48%)]\tLoss: 0.259080\n",
            "Train Epoch: 8 [30720/60000 (51%)]\tLoss: 0.244396\n",
            "Train Epoch: 8 [32640/60000 (54%)]\tLoss: 0.366888\n",
            "Train Epoch: 8 [34560/60000 (58%)]\tLoss: 0.307823\n",
            "Train Epoch: 8 [36480/60000 (61%)]\tLoss: 0.389799\n",
            "Train Epoch: 8 [38400/60000 (64%)]\tLoss: 0.375682\n",
            "Train Epoch: 8 [40320/60000 (67%)]\tLoss: 0.296255\n",
            "Train Epoch: 8 [42240/60000 (70%)]\tLoss: 0.427122\n",
            "Train Epoch: 8 [44160/60000 (73%)]\tLoss: 0.276520\n",
            "Train Epoch: 8 [46080/60000 (77%)]\tLoss: 0.333892\n",
            "Train Epoch: 8 [48000/60000 (80%)]\tLoss: 0.245847\n",
            "Train Epoch: 8 [49920/60000 (83%)]\tLoss: 0.243518\n",
            "Train Epoch: 8 [51840/60000 (86%)]\tLoss: 0.289590\n",
            "Train Epoch: 8 [53760/60000 (89%)]\tLoss: 0.305989\n",
            "Train Epoch: 8 [55680/60000 (93%)]\tLoss: 0.342859\n",
            "Train Epoch: 8 [57600/60000 (96%)]\tLoss: 0.223849\n",
            "Train Epoch: 8 [59520/60000 (99%)]\tLoss: 0.352363\n"
          ]
        },
        {
          "output_type": "stream",
          "name": "stderr",
          "text": [
            "\r 27%|██▋       | 8/30 [01:28<04:04, 11.11s/it]"
          ]
        },
        {
          "output_type": "stream",
          "name": "stdout",
          "text": [
            "Train Epoch: 9 [0/60000 (0%)]\tLoss: 0.297022\n",
            "Train Epoch: 9 [1920/60000 (3%)]\tLoss: 0.308848\n",
            "Train Epoch: 9 [3840/60000 (6%)]\tLoss: 0.309022\n",
            "Train Epoch: 9 [5760/60000 (10%)]\tLoss: 0.193744\n",
            "Train Epoch: 9 [7680/60000 (13%)]\tLoss: 0.278193\n",
            "Train Epoch: 9 [9600/60000 (16%)]\tLoss: 0.239323\n",
            "Train Epoch: 9 [11520/60000 (19%)]\tLoss: 0.266282\n",
            "Train Epoch: 9 [13440/60000 (22%)]\tLoss: 0.249762\n",
            "Train Epoch: 9 [15360/60000 (26%)]\tLoss: 0.341351\n",
            "Train Epoch: 9 [17280/60000 (29%)]\tLoss: 0.350670\n",
            "Train Epoch: 9 [19200/60000 (32%)]\tLoss: 0.217000\n",
            "Train Epoch: 9 [21120/60000 (35%)]\tLoss: 0.235404\n",
            "Train Epoch: 9 [23040/60000 (38%)]\tLoss: 0.233706\n",
            "Train Epoch: 9 [24960/60000 (42%)]\tLoss: 0.232502\n",
            "Train Epoch: 9 [26880/60000 (45%)]\tLoss: 0.343494\n",
            "Train Epoch: 9 [28800/60000 (48%)]\tLoss: 0.376642\n",
            "Train Epoch: 9 [30720/60000 (51%)]\tLoss: 0.356044\n",
            "Train Epoch: 9 [32640/60000 (54%)]\tLoss: 0.251794\n",
            "Train Epoch: 9 [34560/60000 (58%)]\tLoss: 0.244385\n",
            "Train Epoch: 9 [36480/60000 (61%)]\tLoss: 0.212073\n",
            "Train Epoch: 9 [38400/60000 (64%)]\tLoss: 0.285716\n",
            "Train Epoch: 9 [40320/60000 (67%)]\tLoss: 0.296076\n",
            "Train Epoch: 9 [42240/60000 (70%)]\tLoss: 0.354495\n",
            "Train Epoch: 9 [44160/60000 (73%)]\tLoss: 0.315824\n",
            "Train Epoch: 9 [46080/60000 (77%)]\tLoss: 0.334862\n",
            "Train Epoch: 9 [48000/60000 (80%)]\tLoss: 0.214607\n",
            "Train Epoch: 9 [49920/60000 (83%)]\tLoss: 0.247901\n",
            "Train Epoch: 9 [51840/60000 (86%)]\tLoss: 0.288028\n",
            "Train Epoch: 9 [53760/60000 (89%)]\tLoss: 0.285031\n",
            "Train Epoch: 9 [55680/60000 (93%)]\tLoss: 0.271081\n",
            "Train Epoch: 9 [57600/60000 (96%)]\tLoss: 0.242787\n",
            "Train Epoch: 9 [59520/60000 (99%)]\tLoss: 0.283617\n"
          ]
        },
        {
          "output_type": "stream",
          "name": "stderr",
          "text": [
            "\r 30%|███       | 9/30 [01:39<03:52, 11.05s/it]"
          ]
        },
        {
          "output_type": "stream",
          "name": "stdout",
          "text": [
            "Train Epoch: 10 [0/60000 (0%)]\tLoss: 0.296793\n",
            "Train Epoch: 10 [1920/60000 (3%)]\tLoss: 0.305906\n",
            "Train Epoch: 10 [3840/60000 (6%)]\tLoss: 0.252876\n",
            "Train Epoch: 10 [5760/60000 (10%)]\tLoss: 0.286638\n",
            "Train Epoch: 10 [7680/60000 (13%)]\tLoss: 0.301867\n",
            "Train Epoch: 10 [9600/60000 (16%)]\tLoss: 0.276900\n",
            "Train Epoch: 10 [11520/60000 (19%)]\tLoss: 0.307376\n",
            "Train Epoch: 10 [13440/60000 (22%)]\tLoss: 0.356153\n",
            "Train Epoch: 10 [15360/60000 (26%)]\tLoss: 0.234353\n",
            "Train Epoch: 10 [17280/60000 (29%)]\tLoss: 0.341515\n",
            "Train Epoch: 10 [19200/60000 (32%)]\tLoss: 0.300843\n",
            "Train Epoch: 10 [21120/60000 (35%)]\tLoss: 0.293701\n",
            "Train Epoch: 10 [23040/60000 (38%)]\tLoss: 0.293877\n",
            "Train Epoch: 10 [24960/60000 (42%)]\tLoss: 0.280534\n",
            "Train Epoch: 10 [26880/60000 (45%)]\tLoss: 0.305823\n",
            "Train Epoch: 10 [28800/60000 (48%)]\tLoss: 0.294555\n",
            "Train Epoch: 10 [30720/60000 (51%)]\tLoss: 0.312812\n",
            "Train Epoch: 10 [32640/60000 (54%)]\tLoss: 0.236955\n",
            "Train Epoch: 10 [34560/60000 (58%)]\tLoss: 0.213464\n",
            "Train Epoch: 10 [36480/60000 (61%)]\tLoss: 0.293020\n",
            "Train Epoch: 10 [38400/60000 (64%)]\tLoss: 0.366968\n",
            "Train Epoch: 10 [40320/60000 (67%)]\tLoss: 0.337703\n",
            "Train Epoch: 10 [42240/60000 (70%)]\tLoss: 0.285385\n",
            "Train Epoch: 10 [44160/60000 (73%)]\tLoss: 0.400791\n",
            "Train Epoch: 10 [46080/60000 (77%)]\tLoss: 0.296233\n",
            "Train Epoch: 10 [48000/60000 (80%)]\tLoss: 0.346919\n",
            "Train Epoch: 10 [49920/60000 (83%)]\tLoss: 0.239958\n",
            "Train Epoch: 10 [51840/60000 (86%)]\tLoss: 0.281896\n",
            "Train Epoch: 10 [53760/60000 (89%)]\tLoss: 0.263775\n",
            "Train Epoch: 10 [55680/60000 (93%)]\tLoss: 0.315698\n",
            "Train Epoch: 10 [57600/60000 (96%)]\tLoss: 0.345145\n",
            "Train Epoch: 10 [59520/60000 (99%)]\tLoss: 0.349943\n"
          ]
        },
        {
          "output_type": "stream",
          "name": "stderr",
          "text": [
            "\r 33%|███▎      | 10/30 [01:50<03:40, 11.01s/it]"
          ]
        },
        {
          "output_type": "stream",
          "name": "stdout",
          "text": [
            "Train Epoch: 11 [0/60000 (0%)]\tLoss: 0.349846\n",
            "Train Epoch: 11 [1920/60000 (3%)]\tLoss: 0.259048\n",
            "Train Epoch: 11 [3840/60000 (6%)]\tLoss: 0.208856\n",
            "Train Epoch: 11 [5760/60000 (10%)]\tLoss: 0.226652\n",
            "Train Epoch: 11 [7680/60000 (13%)]\tLoss: 0.321519\n",
            "Train Epoch: 11 [9600/60000 (16%)]\tLoss: 0.280052\n",
            "Train Epoch: 11 [11520/60000 (19%)]\tLoss: 0.257466\n",
            "Train Epoch: 11 [13440/60000 (22%)]\tLoss: 0.316390\n",
            "Train Epoch: 11 [15360/60000 (26%)]\tLoss: 0.199280\n",
            "Train Epoch: 11 [17280/60000 (29%)]\tLoss: 0.315792\n",
            "Train Epoch: 11 [19200/60000 (32%)]\tLoss: 0.366084\n",
            "Train Epoch: 11 [21120/60000 (35%)]\tLoss: 0.345604\n",
            "Train Epoch: 11 [23040/60000 (38%)]\tLoss: 0.271884\n",
            "Train Epoch: 11 [24960/60000 (42%)]\tLoss: 0.304850\n",
            "Train Epoch: 11 [26880/60000 (45%)]\tLoss: 0.351831\n",
            "Train Epoch: 11 [28800/60000 (48%)]\tLoss: 0.355372\n",
            "Train Epoch: 11 [30720/60000 (51%)]\tLoss: 0.268384\n",
            "Train Epoch: 11 [32640/60000 (54%)]\tLoss: 0.378002\n",
            "Train Epoch: 11 [34560/60000 (58%)]\tLoss: 0.294490\n",
            "Train Epoch: 11 [36480/60000 (61%)]\tLoss: 0.285871\n",
            "Train Epoch: 11 [38400/60000 (64%)]\tLoss: 0.290185\n",
            "Train Epoch: 11 [40320/60000 (67%)]\tLoss: 0.327342\n",
            "Train Epoch: 11 [42240/60000 (70%)]\tLoss: 0.409714\n",
            "Train Epoch: 11 [44160/60000 (73%)]\tLoss: 0.302547\n",
            "Train Epoch: 11 [46080/60000 (77%)]\tLoss: 0.262559\n",
            "Train Epoch: 11 [48000/60000 (80%)]\tLoss: 0.328089\n",
            "Train Epoch: 11 [49920/60000 (83%)]\tLoss: 0.233080\n",
            "Train Epoch: 11 [51840/60000 (86%)]\tLoss: 0.203261\n",
            "Train Epoch: 11 [53760/60000 (89%)]\tLoss: 0.261840\n",
            "Train Epoch: 11 [55680/60000 (93%)]\tLoss: 0.308497\n",
            "Train Epoch: 11 [57600/60000 (96%)]\tLoss: 0.231895\n",
            "Train Epoch: 11 [59520/60000 (99%)]\tLoss: 0.240475\n"
          ]
        },
        {
          "output_type": "stream",
          "name": "stderr",
          "text": [
            "\r 37%|███▋      | 11/30 [02:01<03:28, 10.96s/it]"
          ]
        },
        {
          "output_type": "stream",
          "name": "stdout",
          "text": [
            "Train Epoch: 12 [0/60000 (0%)]\tLoss: 0.331709\n",
            "Train Epoch: 12 [1920/60000 (3%)]\tLoss: 0.258764\n",
            "Train Epoch: 12 [3840/60000 (6%)]\tLoss: 0.190856\n",
            "Train Epoch: 12 [5760/60000 (10%)]\tLoss: 0.245839\n",
            "Train Epoch: 12 [7680/60000 (13%)]\tLoss: 0.333063\n",
            "Train Epoch: 12 [9600/60000 (16%)]\tLoss: 0.268711\n",
            "Train Epoch: 12 [11520/60000 (19%)]\tLoss: 0.290820\n",
            "Train Epoch: 12 [13440/60000 (22%)]\tLoss: 0.275901\n",
            "Train Epoch: 12 [15360/60000 (26%)]\tLoss: 0.313850\n",
            "Train Epoch: 12 [17280/60000 (29%)]\tLoss: 0.239356\n",
            "Train Epoch: 12 [19200/60000 (32%)]\tLoss: 0.202741\n",
            "Train Epoch: 12 [21120/60000 (35%)]\tLoss: 0.355181\n",
            "Train Epoch: 12 [23040/60000 (38%)]\tLoss: 0.280020\n",
            "Train Epoch: 12 [24960/60000 (42%)]\tLoss: 0.318709\n",
            "Train Epoch: 12 [26880/60000 (45%)]\tLoss: 0.273472\n",
            "Train Epoch: 12 [28800/60000 (48%)]\tLoss: 0.287728\n",
            "Train Epoch: 12 [30720/60000 (51%)]\tLoss: 0.227019\n",
            "Train Epoch: 12 [32640/60000 (54%)]\tLoss: 0.352609\n",
            "Train Epoch: 12 [34560/60000 (58%)]\tLoss: 0.354807\n",
            "Train Epoch: 12 [36480/60000 (61%)]\tLoss: 0.250455\n",
            "Train Epoch: 12 [38400/60000 (64%)]\tLoss: 0.250086\n",
            "Train Epoch: 12 [40320/60000 (67%)]\tLoss: 0.233672\n",
            "Train Epoch: 12 [42240/60000 (70%)]\tLoss: 0.266894\n",
            "Train Epoch: 12 [44160/60000 (73%)]\tLoss: 0.259244\n",
            "Train Epoch: 12 [46080/60000 (77%)]\tLoss: 0.259610\n",
            "Train Epoch: 12 [48000/60000 (80%)]\tLoss: 0.251489\n",
            "Train Epoch: 12 [49920/60000 (83%)]\tLoss: 0.298818\n",
            "Train Epoch: 12 [51840/60000 (86%)]\tLoss: 0.246714\n",
            "Train Epoch: 12 [53760/60000 (89%)]\tLoss: 0.325321\n",
            "Train Epoch: 12 [55680/60000 (93%)]\tLoss: 0.269955\n",
            "Train Epoch: 12 [57600/60000 (96%)]\tLoss: 0.213206\n",
            "Train Epoch: 12 [59520/60000 (99%)]\tLoss: 0.245513\n"
          ]
        },
        {
          "output_type": "stream",
          "name": "stderr",
          "text": [
            "\r 40%|████      | 12/30 [02:12<03:17, 10.97s/it]"
          ]
        },
        {
          "output_type": "stream",
          "name": "stdout",
          "text": [
            "Train Epoch: 13 [0/60000 (0%)]\tLoss: 0.295190\n",
            "Train Epoch: 13 [1920/60000 (3%)]\tLoss: 0.296991\n",
            "Train Epoch: 13 [3840/60000 (6%)]\tLoss: 0.257279\n",
            "Train Epoch: 13 [5760/60000 (10%)]\tLoss: 0.264819\n",
            "Train Epoch: 13 [7680/60000 (13%)]\tLoss: 0.266597\n",
            "Train Epoch: 13 [9600/60000 (16%)]\tLoss: 0.208243\n",
            "Train Epoch: 13 [11520/60000 (19%)]\tLoss: 0.285345\n",
            "Train Epoch: 13 [13440/60000 (22%)]\tLoss: 0.281917\n",
            "Train Epoch: 13 [15360/60000 (26%)]\tLoss: 0.312923\n",
            "Train Epoch: 13 [17280/60000 (29%)]\tLoss: 0.210254\n",
            "Train Epoch: 13 [19200/60000 (32%)]\tLoss: 0.295096\n",
            "Train Epoch: 13 [21120/60000 (35%)]\tLoss: 0.258519\n",
            "Train Epoch: 13 [23040/60000 (38%)]\tLoss: 0.292065\n",
            "Train Epoch: 13 [24960/60000 (42%)]\tLoss: 0.342024\n",
            "Train Epoch: 13 [26880/60000 (45%)]\tLoss: 0.244859\n",
            "Train Epoch: 13 [28800/60000 (48%)]\tLoss: 0.305468\n",
            "Train Epoch: 13 [30720/60000 (51%)]\tLoss: 0.245475\n",
            "Train Epoch: 13 [32640/60000 (54%)]\tLoss: 0.330411\n",
            "Train Epoch: 13 [34560/60000 (58%)]\tLoss: 0.278559\n",
            "Train Epoch: 13 [36480/60000 (61%)]\tLoss: 0.275975\n",
            "Train Epoch: 13 [38400/60000 (64%)]\tLoss: 0.217978\n",
            "Train Epoch: 13 [40320/60000 (67%)]\tLoss: 0.192635\n",
            "Train Epoch: 13 [42240/60000 (70%)]\tLoss: 0.217011\n",
            "Train Epoch: 13 [44160/60000 (73%)]\tLoss: 0.335115\n",
            "Train Epoch: 13 [46080/60000 (77%)]\tLoss: 0.253140\n",
            "Train Epoch: 13 [48000/60000 (80%)]\tLoss: 0.201421\n",
            "Train Epoch: 13 [49920/60000 (83%)]\tLoss: 0.255939\n",
            "Train Epoch: 13 [51840/60000 (86%)]\tLoss: 0.357415\n",
            "Train Epoch: 13 [53760/60000 (89%)]\tLoss: 0.184574\n",
            "Train Epoch: 13 [55680/60000 (93%)]\tLoss: 0.273309\n",
            "Train Epoch: 13 [57600/60000 (96%)]\tLoss: 0.265943\n",
            "Train Epoch: 13 [59520/60000 (99%)]\tLoss: 0.285198\n"
          ]
        },
        {
          "output_type": "stream",
          "name": "stderr",
          "text": [
            "\r 43%|████▎     | 13/30 [02:23<03:05, 10.92s/it]"
          ]
        },
        {
          "output_type": "stream",
          "name": "stdout",
          "text": [
            "Train Epoch: 14 [0/60000 (0%)]\tLoss: 0.335301\n",
            "Train Epoch: 14 [1920/60000 (3%)]\tLoss: 0.190449\n",
            "Train Epoch: 14 [3840/60000 (6%)]\tLoss: 0.263175\n",
            "Train Epoch: 14 [5760/60000 (10%)]\tLoss: 0.272790\n",
            "Train Epoch: 14 [7680/60000 (13%)]\tLoss: 0.267244\n",
            "Train Epoch: 14 [9600/60000 (16%)]\tLoss: 0.287428\n",
            "Train Epoch: 14 [11520/60000 (19%)]\tLoss: 0.267723\n",
            "Train Epoch: 14 [13440/60000 (22%)]\tLoss: 0.290398\n",
            "Train Epoch: 14 [15360/60000 (26%)]\tLoss: 0.271320\n",
            "Train Epoch: 14 [17280/60000 (29%)]\tLoss: 0.244581\n",
            "Train Epoch: 14 [19200/60000 (32%)]\tLoss: 0.316526\n",
            "Train Epoch: 14 [21120/60000 (35%)]\tLoss: 0.144658\n",
            "Train Epoch: 14 [23040/60000 (38%)]\tLoss: 0.180436\n",
            "Train Epoch: 14 [24960/60000 (42%)]\tLoss: 0.443636\n",
            "Train Epoch: 14 [26880/60000 (45%)]\tLoss: 0.286314\n",
            "Train Epoch: 14 [28800/60000 (48%)]\tLoss: 0.314487\n",
            "Train Epoch: 14 [30720/60000 (51%)]\tLoss: 0.326842\n",
            "Train Epoch: 14 [32640/60000 (54%)]\tLoss: 0.300962\n",
            "Train Epoch: 14 [34560/60000 (58%)]\tLoss: 0.237980\n",
            "Train Epoch: 14 [36480/60000 (61%)]\tLoss: 0.267965\n",
            "Train Epoch: 14 [38400/60000 (64%)]\tLoss: 0.292840\n",
            "Train Epoch: 14 [40320/60000 (67%)]\tLoss: 0.342230\n",
            "Train Epoch: 14 [42240/60000 (70%)]\tLoss: 0.324186\n",
            "Train Epoch: 14 [44160/60000 (73%)]\tLoss: 0.235048\n",
            "Train Epoch: 14 [46080/60000 (77%)]\tLoss: 0.281431\n",
            "Train Epoch: 14 [48000/60000 (80%)]\tLoss: 0.256691\n",
            "Train Epoch: 14 [49920/60000 (83%)]\tLoss: 0.305328\n",
            "Train Epoch: 14 [51840/60000 (86%)]\tLoss: 0.258961\n",
            "Train Epoch: 14 [53760/60000 (89%)]\tLoss: 0.245186\n",
            "Train Epoch: 14 [55680/60000 (93%)]\tLoss: 0.252407\n",
            "Train Epoch: 14 [57600/60000 (96%)]\tLoss: 0.289438\n",
            "Train Epoch: 14 [59520/60000 (99%)]\tLoss: 0.290282\n"
          ]
        },
        {
          "output_type": "stream",
          "name": "stderr",
          "text": [
            "\r 47%|████▋     | 14/30 [02:34<02:54, 10.90s/it]"
          ]
        },
        {
          "output_type": "stream",
          "name": "stdout",
          "text": [
            "Train Epoch: 15 [0/60000 (0%)]\tLoss: 0.234957\n",
            "Train Epoch: 15 [1920/60000 (3%)]\tLoss: 0.275120\n",
            "Train Epoch: 15 [3840/60000 (6%)]\tLoss: 0.218969\n",
            "Train Epoch: 15 [5760/60000 (10%)]\tLoss: 0.174975\n",
            "Train Epoch: 15 [7680/60000 (13%)]\tLoss: 0.267585\n",
            "Train Epoch: 15 [9600/60000 (16%)]\tLoss: 0.271803\n",
            "Train Epoch: 15 [11520/60000 (19%)]\tLoss: 0.178102\n",
            "Train Epoch: 15 [13440/60000 (22%)]\tLoss: 0.347947\n",
            "Train Epoch: 15 [15360/60000 (26%)]\tLoss: 0.183681\n",
            "Train Epoch: 15 [17280/60000 (29%)]\tLoss: 0.355941\n",
            "Train Epoch: 15 [19200/60000 (32%)]\tLoss: 0.287038\n",
            "Train Epoch: 15 [21120/60000 (35%)]\tLoss: 0.251115\n",
            "Train Epoch: 15 [23040/60000 (38%)]\tLoss: 0.224258\n",
            "Train Epoch: 15 [24960/60000 (42%)]\tLoss: 0.212173\n",
            "Train Epoch: 15 [26880/60000 (45%)]\tLoss: 0.175020\n",
            "Train Epoch: 15 [28800/60000 (48%)]\tLoss: 0.289423\n",
            "Train Epoch: 15 [30720/60000 (51%)]\tLoss: 0.317132\n",
            "Train Epoch: 15 [32640/60000 (54%)]\tLoss: 0.270278\n",
            "Train Epoch: 15 [34560/60000 (58%)]\tLoss: 0.256189\n",
            "Train Epoch: 15 [36480/60000 (61%)]\tLoss: 0.310815\n",
            "Train Epoch: 15 [38400/60000 (64%)]\tLoss: 0.333759\n",
            "Train Epoch: 15 [40320/60000 (67%)]\tLoss: 0.302607\n",
            "Train Epoch: 15 [42240/60000 (70%)]\tLoss: 0.235169\n",
            "Train Epoch: 15 [44160/60000 (73%)]\tLoss: 0.285638\n",
            "Train Epoch: 15 [46080/60000 (77%)]\tLoss: 0.228639\n",
            "Train Epoch: 15 [48000/60000 (80%)]\tLoss: 0.243778\n",
            "Train Epoch: 15 [49920/60000 (83%)]\tLoss: 0.314068\n",
            "Train Epoch: 15 [51840/60000 (86%)]\tLoss: 0.206708\n",
            "Train Epoch: 15 [53760/60000 (89%)]\tLoss: 0.263189\n",
            "Train Epoch: 15 [55680/60000 (93%)]\tLoss: 0.271708\n",
            "Train Epoch: 15 [57600/60000 (96%)]\tLoss: 0.305270\n",
            "Train Epoch: 15 [59520/60000 (99%)]\tLoss: 0.261054\n"
          ]
        },
        {
          "output_type": "stream",
          "name": "stderr",
          "text": [
            "\r 50%|█████     | 15/30 [02:45<02:43, 10.89s/it]"
          ]
        },
        {
          "output_type": "stream",
          "name": "stdout",
          "text": [
            "Train Epoch: 16 [0/60000 (0%)]\tLoss: 0.198733\n",
            "Train Epoch: 16 [1920/60000 (3%)]\tLoss: 0.225667\n",
            "Train Epoch: 16 [3840/60000 (6%)]\tLoss: 0.196224\n",
            "Train Epoch: 16 [5760/60000 (10%)]\tLoss: 0.199352\n",
            "Train Epoch: 16 [7680/60000 (13%)]\tLoss: 0.324855\n",
            "Train Epoch: 16 [9600/60000 (16%)]\tLoss: 0.331068\n",
            "Train Epoch: 16 [11520/60000 (19%)]\tLoss: 0.303232\n",
            "Train Epoch: 16 [13440/60000 (22%)]\tLoss: 0.311831\n",
            "Train Epoch: 16 [15360/60000 (26%)]\tLoss: 0.310778\n",
            "Train Epoch: 16 [17280/60000 (29%)]\tLoss: 0.217680\n",
            "Train Epoch: 16 [19200/60000 (32%)]\tLoss: 0.256189\n",
            "Train Epoch: 16 [21120/60000 (35%)]\tLoss: 0.218126\n",
            "Train Epoch: 16 [23040/60000 (38%)]\tLoss: 0.239019\n",
            "Train Epoch: 16 [24960/60000 (42%)]\tLoss: 0.259637\n",
            "Train Epoch: 16 [26880/60000 (45%)]\tLoss: 0.197298\n",
            "Train Epoch: 16 [28800/60000 (48%)]\tLoss: 0.230720\n",
            "Train Epoch: 16 [30720/60000 (51%)]\tLoss: 0.252888\n",
            "Train Epoch: 16 [32640/60000 (54%)]\tLoss: 0.195517\n",
            "Train Epoch: 16 [34560/60000 (58%)]\tLoss: 0.207665\n",
            "Train Epoch: 16 [36480/60000 (61%)]\tLoss: 0.335051\n",
            "Train Epoch: 16 [38400/60000 (64%)]\tLoss: 0.267799\n",
            "Train Epoch: 16 [40320/60000 (67%)]\tLoss: 0.278897\n",
            "Train Epoch: 16 [42240/60000 (70%)]\tLoss: 0.360456\n",
            "Train Epoch: 16 [44160/60000 (73%)]\tLoss: 0.239278\n",
            "Train Epoch: 16 [46080/60000 (77%)]\tLoss: 0.207769\n",
            "Train Epoch: 16 [48000/60000 (80%)]\tLoss: 0.195085\n",
            "Train Epoch: 16 [49920/60000 (83%)]\tLoss: 0.276087\n",
            "Train Epoch: 16 [51840/60000 (86%)]\tLoss: 0.237896\n",
            "Train Epoch: 16 [53760/60000 (89%)]\tLoss: 0.221778\n",
            "Train Epoch: 16 [55680/60000 (93%)]\tLoss: 0.300932\n",
            "Train Epoch: 16 [57600/60000 (96%)]\tLoss: 0.336198\n",
            "Train Epoch: 16 [59520/60000 (99%)]\tLoss: 0.154656\n"
          ]
        },
        {
          "output_type": "stream",
          "name": "stderr",
          "text": [
            "\r 53%|█████▎    | 16/30 [02:56<02:32, 10.90s/it]"
          ]
        },
        {
          "output_type": "stream",
          "name": "stdout",
          "text": [
            "Train Epoch: 17 [0/60000 (0%)]\tLoss: 0.256407\n",
            "Train Epoch: 17 [1920/60000 (3%)]\tLoss: 0.276373\n",
            "Train Epoch: 17 [3840/60000 (6%)]\tLoss: 0.253931\n",
            "Train Epoch: 17 [5760/60000 (10%)]\tLoss: 0.343390\n",
            "Train Epoch: 17 [7680/60000 (13%)]\tLoss: 0.261941\n",
            "Train Epoch: 17 [9600/60000 (16%)]\tLoss: 0.276049\n",
            "Train Epoch: 17 [11520/60000 (19%)]\tLoss: 0.168579\n",
            "Train Epoch: 17 [13440/60000 (22%)]\tLoss: 0.254140\n",
            "Train Epoch: 17 [15360/60000 (26%)]\tLoss: 0.279625\n",
            "Train Epoch: 17 [17280/60000 (29%)]\tLoss: 0.289783\n",
            "Train Epoch: 17 [19200/60000 (32%)]\tLoss: 0.188753\n",
            "Train Epoch: 17 [21120/60000 (35%)]\tLoss: 0.228160\n",
            "Train Epoch: 17 [23040/60000 (38%)]\tLoss: 0.312727\n",
            "Train Epoch: 17 [24960/60000 (42%)]\tLoss: 0.285973\n",
            "Train Epoch: 17 [26880/60000 (45%)]\tLoss: 0.354938\n",
            "Train Epoch: 17 [28800/60000 (48%)]\tLoss: 0.254773\n",
            "Train Epoch: 17 [30720/60000 (51%)]\tLoss: 0.235101\n",
            "Train Epoch: 17 [32640/60000 (54%)]\tLoss: 0.217494\n",
            "Train Epoch: 17 [34560/60000 (58%)]\tLoss: 0.270757\n",
            "Train Epoch: 17 [36480/60000 (61%)]\tLoss: 0.309868\n",
            "Train Epoch: 17 [38400/60000 (64%)]\tLoss: 0.197914\n",
            "Train Epoch: 17 [40320/60000 (67%)]\tLoss: 0.302681\n",
            "Train Epoch: 17 [42240/60000 (70%)]\tLoss: 0.265985\n",
            "Train Epoch: 17 [44160/60000 (73%)]\tLoss: 0.238337\n",
            "Train Epoch: 17 [46080/60000 (77%)]\tLoss: 0.346840\n",
            "Train Epoch: 17 [48000/60000 (80%)]\tLoss: 0.169098\n",
            "Train Epoch: 17 [49920/60000 (83%)]\tLoss: 0.272928\n",
            "Train Epoch: 17 [51840/60000 (86%)]\tLoss: 0.259995\n",
            "Train Epoch: 17 [53760/60000 (89%)]\tLoss: 0.305003\n",
            "Train Epoch: 17 [55680/60000 (93%)]\tLoss: 0.303477\n",
            "Train Epoch: 17 [57600/60000 (96%)]\tLoss: 0.330211\n",
            "Train Epoch: 17 [59520/60000 (99%)]\tLoss: 0.208639\n"
          ]
        },
        {
          "output_type": "stream",
          "name": "stderr",
          "text": [
            "\r 57%|█████▋    | 17/30 [03:06<02:21, 10.86s/it]"
          ]
        },
        {
          "output_type": "stream",
          "name": "stdout",
          "text": [
            "Train Epoch: 18 [0/60000 (0%)]\tLoss: 0.280138\n",
            "Train Epoch: 18 [1920/60000 (3%)]\tLoss: 0.301264\n",
            "Train Epoch: 18 [3840/60000 (6%)]\tLoss: 0.255416\n",
            "Train Epoch: 18 [5760/60000 (10%)]\tLoss: 0.265818\n",
            "Train Epoch: 18 [7680/60000 (13%)]\tLoss: 0.313622\n",
            "Train Epoch: 18 [9600/60000 (16%)]\tLoss: 0.220734\n",
            "Train Epoch: 18 [11520/60000 (19%)]\tLoss: 0.278371\n",
            "Train Epoch: 18 [13440/60000 (22%)]\tLoss: 0.303493\n",
            "Train Epoch: 18 [15360/60000 (26%)]\tLoss: 0.246773\n",
            "Train Epoch: 18 [17280/60000 (29%)]\tLoss: 0.403442\n",
            "Train Epoch: 18 [19200/60000 (32%)]\tLoss: 0.282535\n",
            "Train Epoch: 18 [21120/60000 (35%)]\tLoss: 0.219159\n",
            "Train Epoch: 18 [23040/60000 (38%)]\tLoss: 0.319856\n",
            "Train Epoch: 18 [24960/60000 (42%)]\tLoss: 0.258739\n",
            "Train Epoch: 18 [26880/60000 (45%)]\tLoss: 0.283371\n",
            "Train Epoch: 18 [28800/60000 (48%)]\tLoss: 0.228199\n",
            "Train Epoch: 18 [30720/60000 (51%)]\tLoss: 0.158598\n",
            "Train Epoch: 18 [32640/60000 (54%)]\tLoss: 0.291425\n",
            "Train Epoch: 18 [34560/60000 (58%)]\tLoss: 0.361459\n",
            "Train Epoch: 18 [36480/60000 (61%)]\tLoss: 0.322470\n",
            "Train Epoch: 18 [38400/60000 (64%)]\tLoss: 0.259133\n",
            "Train Epoch: 18 [40320/60000 (67%)]\tLoss: 0.254799\n",
            "Train Epoch: 18 [42240/60000 (70%)]\tLoss: 0.235789\n",
            "Train Epoch: 18 [44160/60000 (73%)]\tLoss: 0.252503\n",
            "Train Epoch: 18 [46080/60000 (77%)]\tLoss: 0.176319\n",
            "Train Epoch: 18 [48000/60000 (80%)]\tLoss: 0.208023\n",
            "Train Epoch: 18 [49920/60000 (83%)]\tLoss: 0.296287\n",
            "Train Epoch: 18 [51840/60000 (86%)]\tLoss: 0.243824\n",
            "Train Epoch: 18 [53760/60000 (89%)]\tLoss: 0.338482\n",
            "Train Epoch: 18 [55680/60000 (93%)]\tLoss: 0.189556\n",
            "Train Epoch: 18 [57600/60000 (96%)]\tLoss: 0.257616\n",
            "Train Epoch: 18 [59520/60000 (99%)]\tLoss: 0.265901\n"
          ]
        },
        {
          "output_type": "stream",
          "name": "stderr",
          "text": [
            "\r 60%|██████    | 18/30 [03:17<02:10, 10.89s/it]"
          ]
        },
        {
          "output_type": "stream",
          "name": "stdout",
          "text": [
            "Train Epoch: 19 [0/60000 (0%)]\tLoss: 0.256838\n",
            "Train Epoch: 19 [1920/60000 (3%)]\tLoss: 0.266729\n",
            "Train Epoch: 19 [3840/60000 (6%)]\tLoss: 0.274973\n",
            "Train Epoch: 19 [5760/60000 (10%)]\tLoss: 0.341166\n",
            "Train Epoch: 19 [7680/60000 (13%)]\tLoss: 0.192948\n",
            "Train Epoch: 19 [9600/60000 (16%)]\tLoss: 0.335747\n",
            "Train Epoch: 19 [11520/60000 (19%)]\tLoss: 0.267642\n",
            "Train Epoch: 19 [13440/60000 (22%)]\tLoss: 0.355244\n",
            "Train Epoch: 19 [15360/60000 (26%)]\tLoss: 0.300475\n",
            "Train Epoch: 19 [17280/60000 (29%)]\tLoss: 0.209252\n",
            "Train Epoch: 19 [19200/60000 (32%)]\tLoss: 0.271209\n",
            "Train Epoch: 19 [21120/60000 (35%)]\tLoss: 0.307862\n",
            "Train Epoch: 19 [23040/60000 (38%)]\tLoss: 0.360300\n",
            "Train Epoch: 19 [24960/60000 (42%)]\tLoss: 0.235118\n",
            "Train Epoch: 19 [26880/60000 (45%)]\tLoss: 0.249308\n",
            "Train Epoch: 19 [28800/60000 (48%)]\tLoss: 0.361509\n",
            "Train Epoch: 19 [30720/60000 (51%)]\tLoss: 0.253235\n",
            "Train Epoch: 19 [32640/60000 (54%)]\tLoss: 0.202507\n",
            "Train Epoch: 19 [34560/60000 (58%)]\tLoss: 0.210967\n",
            "Train Epoch: 19 [36480/60000 (61%)]\tLoss: 0.258927\n",
            "Train Epoch: 19 [38400/60000 (64%)]\tLoss: 0.311279\n",
            "Train Epoch: 19 [40320/60000 (67%)]\tLoss: 0.277707\n",
            "Train Epoch: 19 [42240/60000 (70%)]\tLoss: 0.228750\n",
            "Train Epoch: 19 [44160/60000 (73%)]\tLoss: 0.212472\n",
            "Train Epoch: 19 [46080/60000 (77%)]\tLoss: 0.317378\n",
            "Train Epoch: 19 [48000/60000 (80%)]\tLoss: 0.273313\n",
            "Train Epoch: 19 [49920/60000 (83%)]\tLoss: 0.204536\n",
            "Train Epoch: 19 [51840/60000 (86%)]\tLoss: 0.272668\n",
            "Train Epoch: 19 [53760/60000 (89%)]\tLoss: 0.237036\n",
            "Train Epoch: 19 [55680/60000 (93%)]\tLoss: 0.326800\n",
            "Train Epoch: 19 [57600/60000 (96%)]\tLoss: 0.210443\n",
            "Train Epoch: 19 [59520/60000 (99%)]\tLoss: 0.221734\n"
          ]
        },
        {
          "output_type": "stream",
          "name": "stderr",
          "text": [
            "\r 60%|██████    | 18/30 [03:28<02:19, 11.60s/it]"
          ]
        },
        {
          "output_type": "stream",
          "name": "stdout",
          "text": [
            "Early stopping at epoch  18\n"
          ]
        },
        {
          "output_type": "stream",
          "name": "stderr",
          "text": [
            "\n"
          ]
        }
      ]
    },
    {
      "cell_type": "code",
      "source": [
        "# Plot training results\n",
        "plt.clf()\n",
        "fig, ax = plt.subplots(1, 2, figsize=(16,6))\n",
        "\n",
        "ax[0].set_xlabel('Epoch', fontsize=24)\n",
        "ax[0].set_ylabel('Loss', fontsize=24)\n",
        "ax[1].set_xlabel('Epoch', fontsize=24)\n",
        "ax[1].set_ylabel('Loss', fontsize=24)\n",
        "\n",
        "ax[0].set_title('Best net - Losses vs. Epoch', fontsize=24)\n",
        "ax[0].plot(best_train_loss, label='train')\n",
        "ax[0].plot(best_test_loss, label='test')\n",
        "ax[0].legend(loc='best', fontsize=14)\n",
        "\n",
        "ax[1].set_title('Best net - Losses vs. Epoch, y-logscale', fontsize=24)\n",
        "ax[1].semilogy(best_train_loss, label='train')\n",
        "ax[1].semilogy(best_test_loss, label='test')\n",
        "ax[1].legend(loc='best', fontsize=14)\n",
        "\n",
        "plt.savefig('FashionMNIST_tr_test_loss_BEST.png')\n",
        "plt.show()"
      ],
      "metadata": {
        "colab": {
          "base_uri": "https://localhost:8080/",
          "height": 444
        },
        "id": "BCkOM1g9-ORE",
        "outputId": "94e74d5b-9434-484f-99c7-81b4ffb24ba0"
      },
      "execution_count": null,
      "outputs": [
        {
          "output_type": "display_data",
          "data": {
            "text/plain": [
              "<Figure size 432x288 with 0 Axes>"
            ]
          },
          "metadata": {}
        },
        {
          "output_type": "display_data",
          "data": {
            "image/png": "[encoded data removed]",
            "text/plain": [
              "<Figure size 1152x432 with 2 Axes>"
            ]
          },
          "metadata": {
            "needs_background": "light"
          }
        }
      ]
    },
    {
      "cell_type": "code",
      "execution_count": null,
      "metadata": {
        "id": "ND_JBUpk4wkO",
        "colab": {
          "base_uri": "https://localhost:8080/"
        },
        "outputId": "5b84e756-df91-468b-ab24-8701c2606de0"
      },
      "outputs": [
        {
          "output_type": "stream",
          "name": "stdout",
          "text": [
            "\n",
            " Average test loss: 0.0021, Accuracy: 9006.0/10000.0 (90%)\n",
            "\n"
          ]
        }
      ],
      "source": [
        "def testing(network, test_loader, loss_func, device):\n",
        "    '''\n",
        "    Define testing procedure, given a trained @network, a dataloader @test_loader and a loss function @loss_func.\n",
        "    \n",
        "    network:     trained network\n",
        "    test_loader: test set dataloader \n",
        "    loss_func:   selected loss function\n",
        "    device:      gpu (if available) or cpu\n",
        "    \n",
        "    Return: average test loss and test accuracy.        \n",
        "    '''\n",
        "\n",
        "    network.eval()  #set evaluation mode\n",
        "    \n",
        "    # define support variables\n",
        "    corrects  = 0.\n",
        "    totals    = 0.\n",
        "    test_loss = 0.\n",
        "    \n",
        "    with torch.no_grad():\n",
        "        for s_batch in test_loader:\n",
        "            \n",
        "            x_batch = s_batch[0].to(device)       #import data, move to device\n",
        "            label_b = s_batch[1].to(device)       #import labels, move to device !!![1][0]????\n",
        "            \n",
        "            outputs = network(x_batch)\n",
        "            \n",
        "            test_loss += loss_func(outputs, label_b).item()\n",
        "            \n",
        "            _, predicted = torch.max(outputs.data, 1)\n",
        "            totals += label_b.size(0)\n",
        "            corrects += (predicted == label_b).sum().item()\n",
        "        \n",
        "        accuracy = (corrects / totals) * 100\n",
        "        avg_test_loss = test_loss / totals\n",
        "        \n",
        "        print('\\n Average test loss: {:.4f}, Accuracy: {}/{} ({:.0f}%)\\n'.format(\n",
        "                    avg_test_loss, corrects, totals, accuracy))\n",
        "           \n",
        "    return avg_test_loss, accuracy\n",
        "\n",
        "final_avg_test_loss, accuracy = testing(final_net, test_loader, loss_func, device)"
      ]
    },
    {
      "cell_type": "code",
      "source": [
        "!pip install skorch"
      ],
      "metadata": {
        "colab": {
          "base_uri": "https://localhost:8080/"
        },
        "id": "w5RRNx8cGgEK",
        "outputId": "53a0d296-b70c-41b0-b677-9fbf13a361b9"
      },
      "execution_count": null,
      "outputs": [
        {
          "output_type": "stream",
          "name": "stdout",
          "text": [
            "Collecting skorch\n",
            "  Downloading skorch-0.11.0-py3-none-any.whl (155 kB)\n",
            "\u001b[?25l\r\u001b[K     |██▏                             | 10 kB 21.2 MB/s eta 0:00:01\r\u001b[K     |████▎                           | 20 kB 26.3 MB/s eta 0:00:01\r\u001b[K     |██████▍                         | 30 kB 21.4 MB/s eta 0:00:01\r\u001b[K     |████████▌                       | 40 kB 18.6 MB/s eta 0:00:01\r\u001b[K     |██████████▋                     | 51 kB 13.9 MB/s eta 0:00:01\r\u001b[K     |████████████▊                   | 61 kB 14.6 MB/s eta 0:00:01\r\u001b[K     |██████████████▉                 | 71 kB 12.3 MB/s eta 0:00:01\r\u001b[K     |█████████████████               | 81 kB 13.2 MB/s eta 0:00:01\r\u001b[K     |███████████████████             | 92 kB 14.0 MB/s eta 0:00:01\r\u001b[K     |█████████████████████▏          | 102 kB 12.3 MB/s eta 0:00:01\r\u001b[K     |███████████████████████▎        | 112 kB 12.3 MB/s eta 0:00:01\r\u001b[K     |█████████████████████████▍      | 122 kB 12.3 MB/s eta 0:00:01\r\u001b[K     |███████████████████████████▌    | 133 kB 12.3 MB/s eta 0:00:01\r\u001b[K     |█████████████████████████████▋  | 143 kB 12.3 MB/s eta 0:00:01\r\u001b[K     |███████████████████████████████▊| 153 kB 12.3 MB/s eta 0:00:01\r\u001b[K     |████████████████████████████████| 155 kB 12.3 MB/s \n",
            "\u001b[?25hRequirement already satisfied: tqdm>=4.14.0 in /usr/local/lib/python3.7/dist-packages (from skorch) (4.62.3)\n",
            "Requirement already satisfied: scikit-learn>=0.19.1 in /usr/local/lib/python3.7/dist-packages (from skorch) (1.0.2)\n",
            "Requirement already satisfied: tabulate>=0.7.7 in /usr/local/lib/python3.7/dist-packages (from skorch) (0.8.9)\n",
            "Requirement already satisfied: numpy>=1.13.3 in /usr/local/lib/python3.7/dist-packages (from skorch) (1.19.5)\n",
            "Requirement already satisfied: scipy>=1.1.0 in /usr/local/lib/python3.7/dist-packages (from skorch) (1.4.1)\n",
            "Requirement already satisfied: joblib>=0.11 in /usr/local/lib/python3.7/dist-packages (from scikit-learn>=0.19.1->skorch) (1.1.0)\n",
            "Requirement already satisfied: threadpoolctl>=2.0.0 in /usr/local/lib/python3.7/dist-packages (from scikit-learn>=0.19.1->skorch) (3.1.0)\n",
            "Installing collected packages: skorch\n",
            "Successfully installed skorch-0.11.0\n"
          ]
        }
      ]
    },
    {
      "cell_type": "markdown",
      "metadata": {
        "id": "0jpoXbHp4wkP"
      },
      "source": [
        "Weights and filter visualization\n"
      ]
    },
    {
      "cell_type": "code",
      "source": [
        "weights_CV1 = final_net.conv1.weight.data.cpu().numpy()\n",
        "weights_CV2 = final_net.conv2.weight.data.cpu().numpy()\n",
        "\n",
        "print(weights_CV2.shape)"
      ],
      "metadata": {
        "colab": {
          "base_uri": "https://localhost:8080/"
        },
        "id": "j3uBFDtsB_KX",
        "outputId": "a40e9650-e9e3-4007-ff49-96ca9e7fccb4"
      },
      "execution_count": null,
      "outputs": [
        {
          "output_type": "stream",
          "name": "stdout",
          "text": [
            "(18, 9, 5, 5)\n"
          ]
        }
      ]
    },
    {
      "cell_type": "code",
      "source": [
        "fig, ax = plt.subplots(1,int(best_net['n_channels']), figsize=(16, 3))\n",
        "\n",
        "for i in range(int(best_net['n_channels'])):\n",
        "    ax[i].imshow( weights_CV1[i, 0, :, :], cmap='Greys')\n",
        "    ax[i].set_xticks([])\n",
        "    ax[i].set_yticks([])\n",
        "    \n",
        "fig.suptitle('Filters of first convolutional layer', fontsize=16)\n",
        "plt.savefig('filters_first_conv_layer.png')\n",
        "plt.show()"
      ],
      "metadata": {
        "colab": {
          "base_uri": "https://localhost:8080/",
          "height": 180
        },
        "id": "As13fF_0Cgye",
        "outputId": "176a7303-0fec-4eb3-a568-c9354dec326a"
      },
      "execution_count": null,
      "outputs": [
        {
          "output_type": "display_data",
          "data": {
            "image/png": "[encoded data removed]",
            "text/plain": [
              "<Figure size 1152x216 with 9 Axes>"
            ]
          },
          "metadata": {}
        }
      ]
    },
    {
      "cell_type": "code",
      "source": [
        "fig, ax = plt.subplots(int(best_net['n_channels']), 2*int(best_net['n_channels']), figsize=(16, 7))\n",
        "\n",
        "for i in range(int(best_net['n_channels'])):\n",
        "    for j in range(2*int(best_net['n_channels'])):\n",
        "        ax[i,j].imshow( weights_CV2[j, i, :,:], cmap='Greys')\n",
        "        ax[i,j].set_xticks([])\n",
        "        ax[i,j].set_yticks([])\n",
        "        \n",
        "fig.suptitle('Filters of second convolutional layer', fontsize=16)\n",
        "plt.savefig('filters_second_conv_layer.png')\n",
        "plt.show()"
      ],
      "metadata": {
        "colab": {
          "base_uri": "https://localhost:8080/",
          "height": 465
        },
        "id": "WSH46xPoCi5b",
        "outputId": "766d087d-b4bc-4859-ffee-bf10a34542b5"
      },
      "execution_count": null,
      "outputs": [
        {
          "output_type": "display_data",
          "data": {
            "image/png": "[encoded data removed]",
            "text/plain": [
              "<Figure size 1152x504 with 162 Axes>"
            ]
          },
          "metadata": {}
        }
      ]
    },
    {
      "cell_type": "code",
      "source": [
        "def get_activation(layer, input, output):\n",
        "    global activation\n",
        "    activation = torch.relu(output)"
      ],
      "metadata": {
        "id": "sA0-i6LHCk4B"
      },
      "execution_count": null,
      "outputs": []
    },
    {
      "cell_type": "code",
      "source": [
        "image_load = DataLoader(test_dataset, batch_size=1, shuffle=False) \n",
        "\n",
        "### Register hook  \n",
        "hook_handle = final_net.conv1.register_forward_hook(get_activation)\n",
        "\n",
        "### Analyze activations\n",
        "net = final_net.to(device)\n",
        "net.eval()\n",
        "\n",
        "with torch.no_grad():\n",
        "    for s_batch in image_load:\n",
        "        # Move data to device\n",
        "        x1 = s_batch[0].to(device)\n",
        "        # Forward pass\n",
        "        y1 = final_net(x1)\n",
        "        z1 = activation\n",
        "\n",
        "### Remove hook\n",
        "hook_handle.remove()\n",
        "\n",
        "act1 = z1.cpu().numpy()\n",
        "print(act1.shape)"
      ],
      "metadata": {
        "colab": {
          "base_uri": "https://localhost:8080/"
        },
        "id": "konjgEIVCpYO",
        "outputId": "f82b7947-9316-48e7-9599-985eb771fcb5"
      },
      "execution_count": null,
      "outputs": [
        {
          "output_type": "stream",
          "name": "stdout",
          "text": [
            "(1, 9, 28, 28)\n"
          ]
        }
      ]
    },
    {
      "cell_type": "code",
      "source": [
        "## Plot activations\n",
        "fig, ax = plt.subplots(1, int(best_net['n_channels']), figsize=(16,3))\n",
        "for i in range(int(best_net['n_channels'])):\n",
        "    ax[i].imshow( act1[0, i, :, :], cmap='Greys')\n",
        "    ax[i].set_xticks([])\n",
        "    ax[i].set_yticks([])\n",
        "\n",
        "fig.suptitle('Activation profile - first convolutional layer', fontsize=16)    \n",
        "plt.tight_layout()\n",
        "plt.savefig('activation_first_conv.png')\n",
        "plt.show()   "
      ],
      "metadata": {
        "colab": {
          "base_uri": "https://localhost:8080/",
          "height": 184
        },
        "id": "XjCdbBTMCsWp",
        "outputId": "c039e5c9-16f5-4909-b558-9fe112678fbe"
      },
      "execution_count": null,
      "outputs": [
        {
          "output_type": "display_data",
          "data": {
            "image/png": "[encoded data removed]",
            "text/plain": [
              "<Figure size 1152x216 with 9 Axes>"
            ]
          },
          "metadata": {}
        }
      ]
    },
    {
      "cell_type": "code",
      "source": [
        "### Register hook  \n",
        "hook_handle = final_net.conv2.register_forward_hook(get_activation)\n",
        "\n",
        "### Analyze activations\n",
        "net = final_net.to(device)\n",
        "net.eval()\n",
        "\n",
        "with torch.no_grad():\n",
        "    for s_batch in image_load:\n",
        "        # Move data to device\n",
        "        x2 = s_batch[0].to(device)\n",
        "        # Forward pass\n",
        "        y2 = final_net(x2)\n",
        "        z2 = activation\n",
        "\n",
        "### Remove hook\n",
        "hook_handle.remove()\n",
        "\n",
        "act2 = z2.cpu().numpy()\n",
        "print(act2.shape)"
      ],
      "metadata": {
        "colab": {
          "base_uri": "https://localhost:8080/"
        },
        "id": "agG0dLPhC-fQ",
        "outputId": "6ccbf985-82c2-4e43-ce5f-e37ab8d9f91c"
      },
      "execution_count": null,
      "outputs": [
        {
          "output_type": "stream",
          "name": "stdout",
          "text": [
            "(1, 18, 10, 10)\n"
          ]
        }
      ]
    },
    {
      "cell_type": "code",
      "source": [
        "## Plot activations\n",
        "fig, ax = plt.subplots(2, int(best_net['n_channels']), figsize=(16,6))\n",
        "\n",
        "for i in range(int(best_net['n_channels'])):\n",
        "    ax[0, i].imshow( act2[0, i, :, :], cmap='Greys')\n",
        "    ax[0, i].set_xticks([])\n",
        "    ax[0, i].set_yticks([])\n",
        "    ax[1, i].imshow( act2[0, i+int(best_net['n_channels']), :, :], cmap='Greys')\n",
        "    ax[1, i].set_xticks([])\n",
        "    ax[1, i].set_yticks([])\n",
        "\n",
        "fig.suptitle('Activation profile - second convolutional layer', fontsize=16)    \n",
        "plt.tight_layout()\n",
        "plt.savefig('activation_second_conv.png')\n",
        "plt.show()   "
      ],
      "metadata": {
        "colab": {
          "base_uri": "https://localhost:8080/",
          "height": 367
        },
        "id": "uR64rKMSDA6i",
        "outputId": "2eefbdfb-c012-4e9c-ba3b-ecbefc75790c"
      },
      "execution_count": null,
      "outputs": [
        {
          "output_type": "display_data",
          "data": {
            "image/png": "[encoded data removed]",
            "text/plain": [
              "<Figure size 1152x432 with 18 Axes>"
            ]
          },
          "metadata": {}
        }
      ]
    },
    {
      "cell_type": "code",
      "source": [
        ""
      ],
      "metadata": {
        "id": "DLnuZzkVDGUb"
      },
      "execution_count": null,
      "outputs": []
    },
    {
      "cell_type": "code",
      "source": [
        "K-fold cross validation"
      ],
      "metadata": {
        "id": "e1jleQfoP_dq"
      },
      "execution_count": null,
      "outputs": []
    },
    {
      "cell_type": "code",
      "source": [
        "#Best network parameters: {'num_epochs': 15.0, 'n_channels': 9.0, 'pdrop1d': 0.1662857764109922, 'pdrop2d': 0.14656503063798654, 'optimizer': 'adam', 'momentum': 0.626704227631114, 'learning_rate': 0.003197594206352734, 'reg_param': 0.0004986624637438257, 'final_loss': 0.25950103998184204, 'avg_train_loss': 0.31442153453826904, 'avg_valid_loss': 0.2916518449783325}\n",
        "class CNN(nn.Module):\n",
        "    '''\n",
        "    Module including network structure and functioning, basic training, testing and validating operations.\n",
        "    '''\n",
        "    def __init__(self):\n",
        "        '''\n",
        "        The network is composed of:\n",
        "        - one convolutional layer with 1 input channel, @n_channels output channels, a 3 by 3 kernel \n",
        "        - another convolutional layer with @n_channels input channels, 2*@n_channels output channels, 5 by 5 kernel\n",
        "        - a dropout layer\n",
        "        - one fully connected layer with (img size)x(2*n_channels)=50xn_channels inputs, 100 outputs\n",
        "        - another dropout layer\n",
        "        - one fully connected layer with 100 inputs, 10 outputs (corresponding to the 10 labels)  \n",
        "        \n",
        "        Input\n",
        "        n_channels: number of convolutional channels\n",
        "        pdrop2d:    dropout probability of 2D dropout layer\n",
        "        pdrop1d:    dropout probability of 1D dropout layer\n",
        "        '''\n",
        "        super(CNN, self).__init__()\n",
        "    \n",
        "        # --> img size = 28-3+2*1+1= 28x28 \n",
        "        self.conv1 = nn.Conv2d(1, 9, kernel_size=3, padding=1)\n",
        "        # Max Pooling --> img size halved = 14x14\n",
        "        self.mpool = nn.MaxPool2d(2, 2)    \n",
        "        # dropout layer\n",
        "        self.drop2 = nn.Dropout2d(p=0.14656503063798654) \n",
        "        # --> img size = 14-5+1 = 10x10\n",
        "        self.conv2 = nn.Conv2d(9, 2*9, kernel_size=5) \n",
        "        # Max Pooling --> img size halved = 5x5\n",
        "        \n",
        "        # fully connceted layer with (img size)x(2*n_channels)=50xn_channels, 100 output units\n",
        "        self.fulc1 = nn.Linear(50*9, 100)             \n",
        "        # dropout after first linear layer\n",
        "        self.drop1 = nn.Dropout(p=0.1662857764109922)\n",
        "        # fully connected layer with inputs equal to number of outputs of previous layer, 10 outputs (10 digits)\n",
        "        self.fulc2 = nn.Linear(100, 10)\n",
        "        \n",
        "        print('Network initialized')\n",
        "\n",
        "    def forward(self, x):\n",
        "        \n",
        "        x = F.relu(self.conv1(x))\n",
        "        x = self.mpool(x)\n",
        "        x = F.relu(self.conv2(x))\n",
        "        x = self.mpool(x)\n",
        "        x = self.drop2(x)\n",
        "        x = x.view(x.size(0), -1) # reshaping necessary for linear layer\n",
        "        x = F.relu(self.fulc1(x))\n",
        "        x = self.drop1(x)\n",
        "        x = self.fulc2(x)\n",
        "        \n",
        "        return x"
      ],
      "metadata": {
        "id": "EyPaZG0YOdgt"
      },
      "execution_count": null,
      "outputs": []
    },
    {
      "cell_type": "code",
      "source": [
        "def reset_weights(m):\n",
        "    if isinstance(m, nn.Conv2d) or isinstance(m, nn.Linear):\n",
        "        m.reset_parameters()"
      ],
      "metadata": {
        "id": "jwE84sn1Rh88"
      },
      "execution_count": null,
      "outputs": []
    },
    {
      "cell_type": "code",
      "source": [
        "def train(fold, self, train_loader, optimizer, loss_func, device, epoch, verbose=False):\n",
        "        \"\"\"\n",
        "        Define the basic train step.\n",
        "        \n",
        "        train_loader: dataloader\n",
        "        optimizer:    type of selected optimizer (SGD, Adam...)\n",
        "        loss_func:    selected loss function\n",
        "        device:       gpu (if available) or cpu\n",
        "        epoch:        number of epoch in training process\n",
        "        verbose:      if True prints out status of training process, default False\n",
        "        \n",
        "        Return: training loss.\n",
        "        \"\"\"\n",
        "        \n",
        "        train_loss = [] #initialize vector containing training losses\n",
        "        self.train()    #set training mode\n",
        "        \n",
        "        for ii, s_batch in enumerate(train_loader):\n",
        "            \n",
        "            x_batch = s_batch[0].to(device)       #import data, move to device \n",
        "            label_b = s_batch[1].to(device)       #import labels, move to device\n",
        "            \n",
        "            for_out = self.forward(x_batch)       #forward pass\n",
        "            \n",
        "            tr_loss = loss_func(for_out, label_b) #compute loss\n",
        "        \n",
        "            self.zero_grad()                      #back-propagation\n",
        "            tr_loss.backward()\n",
        "            \n",
        "            optimizer.step()                      #weights update\n",
        "                \n",
        "            ba_loss = tr_loss.detach().cpu().numpy()\n",
        "            train_loss.append(ba_loss)            #save loss for batch\n",
        "            \n",
        "            if (ii % 10 == 0 and verbose): # every 10 batches print out a sumary of training results\n",
        "                print('Train Fold/Epoch: {}/{} [{}/{} ({:.0f}%)]\\tLoss: {:.6f}'.format(fold,epoch, ii * len(s_batch[0]), len(train_loader.dataset),\n",
        "                100. * ii / len(train_loader), ba_loss)) "
      ],
      "metadata": {
        "id": "3QoHxCH0P1hh"
      },
      "execution_count": null,
      "outputs": []
    },
    {
      "cell_type": "code",
      "source": [
        "def test(fold,network, test_loader, loss_func, device):\n",
        "    '''\n",
        "    Define testing procedure, given a trained @network, a dataloader @test_loader and a loss function @loss_func.\n",
        "    \n",
        "    network:     trained network\n",
        "    test_loader: test set dataloader \n",
        "    loss_func:   selected loss function\n",
        "    device:      gpu (if available) or cpu\n",
        "    \n",
        "    Return: average test loss and test accuracy.        \n",
        "    '''\n",
        "\n",
        "    network.eval()  #set evaluation mode\n",
        "    \n",
        "    # define support variables\n",
        "    corrects  = 0.\n",
        "    totals    = 0.\n",
        "    test_loss = 0.\n",
        "    \n",
        "    with torch.no_grad():\n",
        "        for s_batch in test_loader:\n",
        "            \n",
        "            x_batch = s_batch[0].to(device)       #import data, move to device\n",
        "            label_b = s_batch[1].to(device)       #import labels, move to device !!![1][0]????\n",
        "            \n",
        "            outputs = network(x_batch)\n",
        "            \n",
        "            test_loss += loss_func(outputs, label_b).item()\n",
        "            \n",
        "            _, predicted = torch.max(outputs.data, 1)\n",
        "            totals += label_b.size(0)\n",
        "            corrects += (predicted == label_b).sum().item()\n",
        "        \n",
        "        accuracy = (corrects / totals) * 100\n",
        "        avg_test_loss = test_loss / totals\n",
        "        \n",
        "        print('\\nTest set for fold {}: Average loss: {:.4f}, Accuracy: {}/{} ({:.0f}%)\\n'.format(\n",
        "        fold,avg_test_loss, corrects, totals, accuracy))  \n",
        "  "
      ],
      "metadata": {
        "id": "gV3zTZrVP9We"
      },
      "execution_count": null,
      "outputs": []
    },
    {
      "cell_type": "code",
      "source": [
        "model = CNN().to(device)\n",
        "model.apply(reset_weights)\n",
        "loss_func = nn.CrossEntropyLoss() "
      ],
      "metadata": {
        "colab": {
          "base_uri": "https://localhost:8080/"
        },
        "id": "EE5DiaTJQuaG",
        "outputId": "c8ca5658-54db-4f76-bba0-ce8acb56ba95"
      },
      "execution_count": null,
      "outputs": [
        {
          "output_type": "stream",
          "name": "stdout",
          "text": [
            "Network initialized\n"
          ]
        }
      ]
    },
    {
      "cell_type": "code",
      "source": [
        "batch_size=192\n",
        "k_folds=5\n",
        "epochs=5\n",
        "\n",
        "kfold=KFold(n_splits=k_folds,shuffle=True)\n",
        "\n",
        "optimizer = optim.Adam(model.parameters(), lr=0.00319, \n",
        "                     weight_decay=0.0004)"
      ],
      "metadata": {
        "id": "SsrTFlN-P_iS"
      },
      "execution_count": null,
      "outputs": []
    },
    {
      "cell_type": "code",
      "source": [
        "dataset=ConcatDataset([train_dataset,test_dataset])"
      ],
      "metadata": {
        "id": "TwkZrD4uRLGQ"
      },
      "execution_count": null,
      "outputs": []
    },
    {
      "cell_type": "code",
      "source": [
        "for fold,(train_idx,test_idx) in enumerate(kfold.split(dataset)):\n",
        "  print('------------fold no---------{}----------------------'.format(fold))\n",
        "  train_subsampler = torch.utils.data.SubsetRandomSampler(train_idx)\n",
        "  test_subsampler = torch.utils.data.SubsetRandomSampler(test_idx)\n",
        "\n",
        "  trainloader = torch.utils.data.DataLoader(\n",
        "                      dataset, \n",
        "                      batch_size=batch_size, sampler=train_subsampler)\n",
        "  testloader = torch.utils.data.DataLoader(\n",
        "                      dataset,\n",
        "                      batch_size=batch_size, sampler=test_subsampler)\n",
        "\n",
        "  model.apply(reset_weights)\n",
        "\n",
        "  for epoch in range(1, epochs + 1):\n",
        "    train(fold, model, train_loader, optimizer, loss_func, device, epoch)\n",
        "    test(fold,model, test_loader, loss_func, device)"
      ],
      "metadata": {
        "colab": {
          "base_uri": "https://localhost:8080/"
        },
        "id": "-_5oydA6RVrE",
        "outputId": "59eff70a-59a2-49ac-a8aa-a3e0c9312bf5"
      },
      "execution_count": null,
      "outputs": [
        {
          "output_type": "stream",
          "name": "stdout",
          "text": [
            "------------fold no---------0----------------------\n",
            "\n",
            "Test set for fold 0: Average loss: 0.0034, Accuracy: 8420.0/10000.0 (84%)\n",
            "\n",
            "\n",
            "Test set for fold 0: Average loss: 0.0029, Accuracy: 8646.0/10000.0 (86%)\n",
            "\n",
            "\n",
            "Test set for fold 0: Average loss: 0.0026, Accuracy: 8767.0/10000.0 (88%)\n",
            "\n",
            "\n",
            "Test set for fold 0: Average loss: 0.0025, Accuracy: 8807.0/10000.0 (88%)\n",
            "\n",
            "\n",
            "Test set for fold 0: Average loss: 0.0024, Accuracy: 8854.0/10000.0 (89%)\n",
            "\n",
            "------------fold no---------1----------------------\n",
            "\n",
            "Test set for fold 1: Average loss: 0.0032, Accuracy: 8448.0/10000.0 (84%)\n",
            "\n",
            "\n",
            "Test set for fold 1: Average loss: 0.0027, Accuracy: 8696.0/10000.0 (87%)\n",
            "\n",
            "\n",
            "Test set for fold 1: Average loss: 0.0026, Accuracy: 8808.0/10000.0 (88%)\n",
            "\n",
            "\n",
            "Test set for fold 1: Average loss: 0.0024, Accuracy: 8865.0/10000.0 (89%)\n",
            "\n",
            "\n",
            "Test set for fold 1: Average loss: 0.0024, Accuracy: 8857.0/10000.0 (89%)\n",
            "\n",
            "------------fold no---------2----------------------\n",
            "\n",
            "Test set for fold 2: Average loss: 0.0032, Accuracy: 8443.0/10000.0 (84%)\n",
            "\n",
            "\n",
            "Test set for fold 2: Average loss: 0.0028, Accuracy: 8683.0/10000.0 (87%)\n",
            "\n",
            "\n",
            "Test set for fold 2: Average loss: 0.0026, Accuracy: 8744.0/10000.0 (87%)\n",
            "\n",
            "\n",
            "Test set for fold 2: Average loss: 0.0025, Accuracy: 8799.0/10000.0 (88%)\n",
            "\n",
            "\n",
            "Test set for fold 2: Average loss: 0.0024, Accuracy: 8851.0/10000.0 (89%)\n",
            "\n",
            "------------fold no---------3----------------------\n",
            "\n",
            "Test set for fold 3: Average loss: 0.0031, Accuracy: 8538.0/10000.0 (85%)\n",
            "\n",
            "\n",
            "Test set for fold 3: Average loss: 0.0027, Accuracy: 8756.0/10000.0 (88%)\n",
            "\n",
            "\n",
            "Test set for fold 3: Average loss: 0.0026, Accuracy: 8791.0/10000.0 (88%)\n",
            "\n",
            "\n",
            "Test set for fold 3: Average loss: 0.0024, Accuracy: 8888.0/10000.0 (89%)\n",
            "\n",
            "\n",
            "Test set for fold 3: Average loss: 0.0025, Accuracy: 8832.0/10000.0 (88%)\n",
            "\n",
            "------------fold no---------4----------------------\n",
            "\n",
            "Test set for fold 4: Average loss: 0.0032, Accuracy: 8539.0/10000.0 (85%)\n",
            "\n",
            "\n",
            "Test set for fold 4: Average loss: 0.0028, Accuracy: 8677.0/10000.0 (87%)\n",
            "\n",
            "\n",
            "Test set for fold 4: Average loss: 0.0025, Accuracy: 8826.0/10000.0 (88%)\n",
            "\n",
            "\n",
            "Test set for fold 4: Average loss: 0.0025, Accuracy: 8829.0/10000.0 (88%)\n",
            "\n",
            "\n",
            "Test set for fold 4: Average loss: 0.0024, Accuracy: 8917.0/10000.0 (89%)\n",
            "\n"
          ]
        }
      ]
    },
    {
      "cell_type": "markdown",
      "source": [
        "VGG MODEL "
      ],
      "metadata": {
        "id": "ZgbdxQngmQL0"
      }
    },
    {
      "cell_type": "code",
      "source": [
        "import pandas as pd\n",
        "import numpy as np\n",
        "\n",
        "from sklearn.model_selection import train_test_split\n",
        "\n",
        "import torch\n",
        "import torch.nn as nn\n",
        "import torchvision\n",
        "from torchvision.transforms import transforms\n",
        "from torch.utils.data import Dataset, DataLoader, ConcatDataset\n",
        "\n",
        "from PIL import Image\n",
        "from typing import cast, Any, Union, Dict, List\n",
        "import time\n",
        "import random\n",
        "import copy \n",
        " \n",
        "import matplotlib.pyplot as plt\n",
        "\n",
        "\n",
        "device = torch.device('cuda:0' if torch.cuda.is_available() else 'cpu')"
      ],
      "metadata": {
        "id": "ZqiJZHGvRxP2"
      },
      "execution_count": null,
      "outputs": []
    },
    {
      "cell_type": "code",
      "source": [
        "class VGG(nn.Module):\n",
        "  def __init__(self, features:nn.Module, num_classes:int=1000, init_weights:bool=True):\n",
        "      super(VGG, self).__init__()\n",
        "      self.features = features #features = Feature extraction\n",
        "      self.avgpool = nn.AdaptiveAvgPool2d((1,1))\n",
        "      self.classifier = nn.Sequential(nn.Linear(256, num_classes))\n",
        "\n",
        "      if init_weights:\n",
        "        self.initialize_weights()\n",
        "  \n",
        "  def forward(self, x):\n",
        "    x = self.features(x) #features = Feature extraction\n",
        "    x = self.avgpool(x)\n",
        "    # print(x.shape)\n",
        "    x = torch.flatten(x, 1)\n",
        "    x = self.classifier(x)\n",
        "    return x\n",
        "\n",
        "  def initialize_weights(self):\n",
        "    for m in self.modules():\n",
        "      if isinstance(m, nn.Conv2d):\n",
        "        nn.init.kaiming_normal_(m.weight, mode='fan_in', nonlinearity='leaky_relu')\n",
        "        if m.bias is not None:\n",
        "          nn.init.constant_(m.bias, 0) \n",
        "      if isinstance(m, nn.BatchNorm2d):\n",
        "        nn.init.constant_(m.weight, 1)\n",
        "        nn.init.constant_(m.bias, 0)\n",
        "      if isinstance(m, nn.Linear):\n",
        "        nn.init.kaiming_normal_(m.weight, mode='fan_in', nonlinearity='leaky_relu')\n",
        "        if m.bias is not None:\n",
        "          nn.init.constant_(m.bias, 0) \n",
        "\n",
        "cfgs: Dict[str, List[Union[int, str]]] = {\n",
        "    'A':[64, 'M', 128, 128, 'M', 256, 256, 256],\n",
        "    'B':[16, 'M', 256, 'M'],\n",
        "    'firstPadding':2\n",
        "}\n",
        "# cfgs: Dict[str, List[Union[str, int]]] = {\n",
        "#     'A': [64, 'M', 128, 'M', 256, 256, 'M', 512, 512, 'M', 512, 512, 'M'],\n",
        "#     'B': [64, 64, 'M', 128, 128, 'M', 256, 256, 'M', 512, 512, 'M', 512, 512, 'M'],\n",
        "#     'D': [64, 64, 'M', 128, 128, 'M', 256, 256, 256, 'M', 512, 512, 512, 'M', 512, 512, 512, 'M'],\n",
        "#     'E': [64, 64, 'M', 128, 128, 'M', 256, 256, 256, 256, 'M', 512, 512, 512, 512, 'M', 512, 512, 512, 512, 'M'],\n",
        "# }\n",
        "\n",
        "\n",
        "\n",
        "def make_layers(cfg:List[Union[int,str]], batch_norm:bool=False) -> nn.Sequential:\n",
        "  layers:List[nn.Moduel] = []\n",
        "  in_channels = 1\n",
        "  in_padding = 5\n",
        "  i = 0\n",
        "  for v in cfg:\n",
        "    if v == 'M':\n",
        "      layers += [nn.MaxPool2d(kernel_size=2, stride=2)]\n",
        "    else:\n",
        "      v = cast(int, v)\n",
        "      in_padding = 1\n",
        "      if i == 5:\n",
        "        in_padding = 2\n",
        "      conv2d = nn.Conv2d(in_channels, v, kernel_size=3, padding=in_padding)\n",
        "      if batch_norm:\n",
        "        layers += [conv2d, nn.BatchNorm2d(v), nn.PReLU(num_parameters=1)]\n",
        "      else:\n",
        "        layers += [conv2d, nn.PReLU(num_parameters=1)] #nn.PReLU(num_parameters=1) nn.ReLU(inplace=True)\n",
        "      in_channels = v\n",
        "    i += 1\n",
        "  return nn.Sequential(*layers)\n",
        "\n",
        "\n",
        "def selfDefineVgg(arch, cfg, batch_norm,  num_classes:int, **kwargs: Any) -> VGG:\n",
        "    model = VGG(make_layers(arch[cfg], batch_norm=batch_norm), num_classes, **kwargs)\n",
        "    return model\n",
        "model = selfDefineVgg(cfgs, 'A', True, 10)\n",
        "model = model.to(device)"
      ],
      "metadata": {
        "id": "isgEzF1UmWSn"
      },
      "execution_count": null,
      "outputs": []
    },
    {
      "cell_type": "code",
      "source": [
        "criterion = nn.CrossEntropyLoss()\n",
        "optimizer = torch.optim.Adam(model.parameters(), lr = 0.001, betas=(0.9,0.999), eps=1e-9)\n",
        "scheduler = torch.optim.lr_scheduler.StepLR(optimizer, 4, gamma=0.1, verbose=False)###Best accuracy 0.9349, tensor(0.9385)"
      ],
      "metadata": {
        "id": "oNnZ2JYRmq7Z"
      },
      "execution_count": null,
      "outputs": []
    },
    {
      "cell_type": "code",
      "source": [
        "loaders = {\n",
        "    'train': torch.utils.data.DataLoader(train_data, batch_size=batch_size),\n",
        "    'val': torch.utils.data.DataLoader(val_data, batch_size=batch_size)\n",
        "}\n"
      ],
      "metadata": {
        "id": "F5zXqpSknsPl"
      },
      "execution_count": null,
      "outputs": []
    },
    {
      "cell_type": "code",
      "source": [
        "#for metrics\n",
        "dataset_sizes = { 'train': len(train_data), 'val': len(val_data)}"
      ],
      "metadata": {
        "id": "eUrahapBoAlr"
      },
      "execution_count": null,
      "outputs": []
    },
    {
      "cell_type": "code",
      "source": [
        "#save the losses for further visualization\n",
        "losses = {'train':[], 'val':[]}\n",
        "accuracies = {'train':[], 'val':[]}\n",
        "\n",
        "def train(model, criterion, optimizer, scheduler, epochs):\n",
        "  since = time.time()\n",
        "  best_model = copy.deepcopy(model.state_dict())\n",
        "  best_acc = 0.0\n",
        "  for epoch in range(epochs):\n",
        "    for phase in ['train', 'val']:\n",
        "      if phase == 'train':\n",
        "        model.train()\n",
        "      else:\n",
        "        model.eval()\n",
        "      \n",
        "      running_loss = 0.0\n",
        "      running_corrects = 0.0\n",
        "\n",
        "      for inputs, labels in loaders[phase]:\n",
        "        inputs, labels = inputs.to(device), labels.to(device)\n",
        "\n",
        "        optimizer.zero_grad()\n",
        "\n",
        "        with torch.set_grad_enabled(phase=='train'):\n",
        "          outp = model(inputs)\n",
        "          _, pred = torch.max(outp, 1)\n",
        "          loss = criterion(outp, labels)\n",
        "        \n",
        "          if phase == 'train':\n",
        "            loss.backward()\n",
        "            optimizer.step()\n",
        "        \n",
        "        running_loss += loss.item()*inputs.size(0)\n",
        "        running_corrects += torch.sum(pred == labels.data)\n",
        "\n",
        "\n",
        "      epoch_loss = running_loss / dataset_sizes[phase]\n",
        "      epoch_acc = running_corrects.double()/dataset_sizes[phase]\n",
        "      losses[phase].append(epoch_loss)\n",
        "      accuracies[phase].append(epoch_acc)\n",
        "      if phase == 'train':\n",
        "        print('Epoch: {}/{}'.format(epoch+1, epochs))\n",
        "      print('{} - loss:{}, accuracy{}'.format(phase, epoch_loss, epoch_acc))\n",
        "    \n",
        "      if phase == 'val':\n",
        "        print('Time: {}m {}s'.format((time.time()- since)//60, (time.time()- since)%60))\n",
        "            \n",
        "      if phase == 'val' and epoch_acc > best_acc:\n",
        "        best_acc = epoch_acc\n",
        "        best_model = copy.deepcopy(model.state_dict())\n",
        "    scheduler.step()  \n",
        "  time_elapsed = time.time() - since\n",
        "  print('Training Time {}m {}s'.format(time_elapsed//60, time_elapsed%60)) \n",
        "  print('Best accuracy {}'.format(best_acc))\n",
        "\n",
        "  model.load_state_dict(best_model)\n",
        "  return model   "
      ],
      "metadata": {
        "id": "zpxmtgYjmuDT"
      },
      "execution_count": null,
      "outputs": []
    },
    {
      "cell_type": "code",
      "source": [
        "epochs = 10\n",
        "model = train(model, criterion, optimizer, scheduler, epochs)"
      ],
      "metadata": {
        "colab": {
          "base_uri": "https://localhost:8080/"
        },
        "id": "TswIjt0qnHmc",
        "outputId": "6f9719c1-2f14-4557-cfe9-1d3ef5cf8776"
      },
      "execution_count": null,
      "outputs": [
        {
          "output_type": "stream",
          "name": "stdout",
          "text": [
            "Epoch: 1/10\n",
            "train - loss:0.46436321645975115, accuracy0.8325416666666666\n",
            "val - loss:1.0896425218582153, accuracy0.6626666666666666\n",
            "Time: 0.0m 35.31567406654358s\n",
            "Epoch: 2/10\n",
            "train - loss:0.2851098623275757, accuracy0.89625\n",
            "val - loss:0.3055142332315445, accuracy0.8891666666666667\n",
            "Time: 1.0m 10.696027755737305s\n",
            "Epoch: 3/10\n",
            "train - loss:0.23292243561148643, accuracy0.9159999999999999\n",
            "val - loss:0.3332495367527008, accuracy0.8801666666666667\n",
            "Time: 1.0m 45.7446551322937s\n",
            "Epoch: 4/10\n",
            "train - loss:0.19420810258388518, accuracy0.92925\n",
            "val - loss:0.45327031207084656, accuracy0.8501666666666666\n",
            "Time: 2.0m 20.920247554779053s\n",
            "Epoch: 5/10\n",
            "train - loss:0.1280234045535326, accuracy0.9554374999999999\n",
            "val - loss:0.20081253147125244, accuracy0.9269166666666666\n",
            "Time: 2.0m 55.90004873275757s\n",
            "Epoch: 6/10\n",
            "train - loss:0.10540380032360554, accuracy0.9643125\n",
            "val - loss:0.20199303317070008, accuracy0.9269166666666666\n",
            "Time: 3.0m 30.977224588394165s\n",
            "Epoch: 7/10\n",
            "train - loss:0.0892696782797575, accuracy0.9704166666666666\n",
            "val - loss:0.20625261926651, accuracy0.9280833333333333\n",
            "Time: 4.0m 6.018362998962402s\n",
            "Epoch: 8/10\n",
            "train - loss:0.07338348755985498, accuracy0.977125\n",
            "val - loss:0.21326593279838563, accuracy0.9276666666666666\n",
            "Time: 4.0m 41.01356792449951s\n",
            "Epoch: 9/10\n",
            "train - loss:0.055145206183195114, accuracy0.9841666666666666\n",
            "val - loss:0.20566429245471954, accuracy0.9304166666666667\n",
            "Time: 5.0m 15.984247207641602s\n",
            "Epoch: 10/10\n",
            "train - loss:0.05100169107317924, accuracy0.9859583333333333\n",
            "val - loss:0.20686253070831298, accuracy0.9301666666666666\n",
            "Time: 5.0m 51.07016396522522s\n",
            "Training Time 5.0m 51.0718047618866s\n",
            "Best accuracy 0.9304166666666667\n"
          ]
        }
      ]
    },
    {
      "cell_type": "code",
      "source": [
        "from pylab import rcParams\n",
        "rcParams['figure.figsize'] = 7, 7\n",
        "\n",
        "fig, axs = plt.subplots(2)\n",
        "\n",
        "axs[0].plot([x for x in range(epochs)], losses['train'], label ='train')\n",
        "axs[0].plot([x for x in range(epochs)], losses['val'], label='val')\n",
        "axs[0].set_title('loss')\n",
        "axs[0].legend()\n",
        "\n",
        "axs[1].plot([x for x in range(epochs)], accuracies['train'], label ='train')\n",
        "axs[1].plot([x for x in range(epochs)], accuracies['val'], label='val')\n",
        "axs[1].set_title('accuracy')\n",
        "axs[1].legend()"
      ],
      "metadata": {
        "colab": {
          "base_uri": "https://localhost:8080/",
          "height": 461
        },
        "id": "P2Sv7ptDnLHh",
        "outputId": "f54a001a-30c0-4646-8108-40d7e2f1d01b"
      },
      "execution_count": null,
      "outputs": [
        {
          "output_type": "execute_result",
          "data": {
            "text/plain": [
              "<matplotlib.legend.Legend at 0x7fb2e9bd7c50>"
            ]
          },
          "metadata": {},
          "execution_count": 104
        },
        {
          "output_type": "display_data",
          "data": {
            "image/png": "[encoded data removed]",
            "text/plain": [
              "<Figure size 504x504 with 2 Axes>"
            ]
          },
          "metadata": {
            "needs_background": "light"
          }
        }
      ]
    },
    {
      "cell_type": "code",
      "source": [
        "corr = 0\n",
        " \n",
        "with torch.no_grad(): \n",
        "    for data in test_loader:\n",
        "        images, labels = data\n",
        "        images, labels = images.to(device), labels.to(device)\n",
        "        y_pred = model(images) \n",
        "        _, predicted = torch.max(y_pred, 1) \n",
        "        corr += torch.sum(predicted == labels.data)\n",
        " \n",
        "print(f\"Test accuracy: {corr/len(test_dataset)}\")"
      ],
      "metadata": {
        "colab": {
          "base_uri": "https://localhost:8080/"
        },
        "id": "XfTDx6N8qA4p",
        "outputId": "6267bec8-aa9b-464b-b04b-0f003a28e7f3"
      },
      "execution_count": null,
      "outputs": [
        {
          "output_type": "stream",
          "name": "stdout",
          "text": [
            "Test accuracy: 0.9264999628067017\n"
          ]
        }
      ]
    },
    {
      "cell_type": "code",
      "source": [
        ""
      ],
      "metadata": {
        "id": "k7Gge8i7qlaU"
      },
      "execution_count": null,
      "outputs": []
    }
  ]
}